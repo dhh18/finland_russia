{
 "cells": [
  {
   "cell_type": "code",
   "execution_count": 9,
   "metadata": {},
   "outputs": [],
   "source": [
    "library(\"data.table\")\n",
    "library(\"stm\")\n",
    "integrumreg <- fread(\"/work/cloud-user/russia_finland/finland_russia/data/processed/integrum_local.csv\")\n"
   ]
  },
  {
   "cell_type": "code",
   "execution_count": 10,
   "metadata": {},
   "outputs": [],
   "source": [
    "integrumreg_id1 <- integrumreg[,c(\"id\", \"year\", \"lemmas_content\")]"
   ]
  },
  {
   "cell_type": "code",
   "execution_count": 13,
   "metadata": {},
   "outputs": [
    {
     "name": "stdout",
     "output_type": "stream",
     "text": [
      "Classes ‘data.table’ and 'data.frame':\t36017 obs. of  3 variables:\n",
      " $ id            : int  25380 25381 25382 25383 25384 25385 25386 25387 25388 25389 ...\n",
      " $ year          : int  2000 2000 2000 2000 2000 2000 2000 2000 2000 2000 ...\n",
      " $ lemmas_content: chr  \"['начальник', 'выборгский', 'таможня', 'иван', 'иоч', 'давать', 'устный', 'приказание', 'сотрудник', 'ускорять'\"| __truncated__ \"['только', 'замедление', 'темп', 'рост', 'американский', 'экономика', 'смочь', 'помогать', 'акция', 'вырастать'\"| __truncated__ \"['оао', 'lt', 'газпром', 'gt', 'завершать', 'длиться', 'год', 'строительство', 'второй', 'резервный', 'газопров\"| __truncated__ \"['во', 'дворец', 'спорт', 'ска', 'хоккей', 'играть', 'на', 'мужчина', 'одновременно', 'являться', 'настоящий', \"| __truncated__ ...\n",
      " - attr(*, \".internal.selfref\")=<externalptr> \n"
     ]
    }
   ],
   "source": [
    "str(integrumreg_id1)"
   ]
  },
  {
   "cell_type": "code",
   "execution_count": 11,
   "metadata": {},
   "outputs": [],
   "source": [
    "integrumreg_id1_subset <- subset(integrumreg_id1, year >= 2000 | year < 2003)"
   ]
  },
  {
   "cell_type": "code",
   "execution_count": 12,
   "metadata": {},
   "outputs": [
    {
     "name": "stdout",
     "output_type": "stream",
     "text": [
      "Classes ‘data.table’ and 'data.frame':\t36017 obs. of  3 variables:\n",
      " $ id            : int  25380 25381 25382 25383 25384 25385 25386 25387 25388 25389 ...\n",
      " $ year          : int  2000 2000 2000 2000 2000 2000 2000 2000 2000 2000 ...\n",
      " $ lemmas_content: chr  \"['начальник', 'выборгский', 'таможня', 'иван', 'иоч', 'давать', 'устный', 'приказание', 'сотрудник', 'ускорять'\"| __truncated__ \"['только', 'замедление', 'темп', 'рост', 'американский', 'экономика', 'смочь', 'помогать', 'акция', 'вырастать'\"| __truncated__ \"['оао', 'lt', 'газпром', 'gt', 'завершать', 'длиться', 'год', 'строительство', 'второй', 'резервный', 'газопров\"| __truncated__ \"['во', 'дворец', 'спорт', 'ска', 'хоккей', 'играть', 'на', 'мужчина', 'одновременно', 'являться', 'настоящий', \"| __truncated__ ...\n",
      " - attr(*, \".internal.selfref\")=<externalptr> \n"
     ]
    }
   ],
   "source": [
    "str(integrumreg_id1_subset)"
   ]
  },
  {
   "cell_type": "code",
   "execution_count": null,
   "metadata": {},
   "outputs": [],
   "source": [
    "integrumreg_id$year <- year(migration_full$date)\n",
    "migration_full <- migration_full %>% select(article_id, content, year, media) %>% filter(year > 1970) %>% unique\n",
    "# We have to convert data.table back to a data.frame to avoid errors in STM\n",
    "migration_full <- as.data.frame(migration_full)"
   ]
  }
 ],
 "metadata": {
  "kernelspec": {
   "display_name": "R",
   "language": "R",
   "name": "ir"
  },
  "language_info": {
   "codemirror_mode": "r",
   "file_extension": ".r",
   "mimetype": "text/x-r-source",
   "name": "R",
   "pygments_lexer": "r",
   "version": "3.4.4"
  }
 },
 "nbformat": 4,
 "nbformat_minor": 2
}
