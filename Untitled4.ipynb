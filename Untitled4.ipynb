{
 "cells": [
  {
   "cell_type": "code",
   "execution_count": 1,
   "metadata": {},
   "outputs": [
    {
     "data": {
      "text/html": [
       "'/work/cloud-user/russia_finland/finland_russia'"
      ],
      "text/latex": [
       "'/work/cloud-user/russia\\_finland/finland\\_russia'"
      ],
      "text/markdown": [
       "'/work/cloud-user/russia_finland/finland_russia'"
      ],
      "text/plain": [
       "[1] \"/work/cloud-user/russia_finland/finland_russia\""
      ]
     },
     "metadata": {},
     "output_type": "display_data"
    }
   ],
   "source": [
    "getwd()\n",
    "setwd(\"/work/cloud-user/russia_finland/finland_russia/data\")"
   ]
  },
  {
   "cell_type": "code",
   "execution_count": 27,
   "metadata": {},
   "outputs": [
    {
     "name": "stderr",
     "output_type": "stream",
     "text": [
      "Installing package into ‘/work/cloud-user/R/x86_64-pc-linux-gnu-library/3.2’\n",
      "(as ‘lib’ is unspecified)\n"
     ]
    },
    {
     "name": "stdout",
     "output_type": "stream",
     "text": [
      "\n",
      "The downloaded source packages are in\n",
      "\t‘/tmp/RtmpOaAYl6/downloaded_packages’\n"
     ]
    },
    {
     "name": "stderr",
     "output_type": "stream",
     "text": [
      "Warning message:\n",
      "“package ‘tm’ was built under R version 3.4.4”"
     ]
    },
    {
     "ename": "ERROR",
     "evalue": "Error: package or namespace load failed for ‘tm’\n",
     "output_type": "error",
     "traceback": [
      "Error: package or namespace load failed for ‘tm’\nTraceback:\n",
      "1. library(\"tm\")",
      "2. stop(gettextf(\"package or namespace load failed for %s\", sQuote(package)), \n .     call. = FALSE, domain = NA)"
     ]
    }
   ],
   "source": [
    "install.packages(\"data.table\")\n",
    "library(\"tm\")\n",
    "library(\"quanteda\")\n",
    "library(\"stm\")"
   ]
  },
  {
   "cell_type": "code",
   "execution_count": 36,
   "metadata": {},
   "outputs": [
    {
     "ename": "ERROR",
     "evalue": "Error in corpus.data.frame(ylerutext): column name text not found\n",
     "output_type": "error",
     "traceback": [
      "Error in corpus.data.frame(ylerutext): column name text not found\nTraceback:\n",
      "1. corpus(ylerutext)",
      "2. corpus.data.frame(ylerutext)",
      "3. stop(\"column name \", text_field, \" not found\")"
     ]
    }
   ],
   "source": [
    "ylerucorpusQ <- corpus(ylerutext)  # build a new corpus from the texts\n",
    "summary(ylerucorpusQ)\n",
    "\n",
    "\n"
   ]
  },
  {
   "cell_type": "code",
   "execution_count": 32,
   "metadata": {},
   "outputs": [
    {
     "ename": "ERROR",
     "evalue": "Error in eval(expr, envir, enclos): could not find function \"textProcessor\"\n",
     "output_type": "error",
     "traceback": [
      "Error in eval(expr, envir, enclos): could not find function \"textProcessor\"\nTraceback:\n"
     ]
    }
   ],
   "source": [
    "##now we get to STM\n",
    "ylerucorpus <- as.data.frame(ylerutext)\n",
    "##first processing the data and building a corpus\n",
    "##NB - we use the same stopwords\n",
    "processed <- textProcessor(ylerutext$lemmas_content, metadata = ylerutext, stem=FALSE, customstopwords = stopwords(\"finnish\"))\n",
    "out <- prepDocuments(processed$documents, processed$vocab, processed$meta, lower.thresh = 15)\n",
    "\n"
   ]
  },
  {
   "cell_type": "code",
   "execution_count": 30,
   "metadata": {},
   "outputs": [
    {
     "data": {
      "text/html": [
       "<ol class=list-inline>\n",
       "\t<li>'integrumtext'</li>\n",
       "\t<li>'ylerucorpus'</li>\n",
       "\t<li>'ylerutext'</li>\n",
       "</ol>\n"
      ],
      "text/latex": [
       "\\begin{enumerate*}\n",
       "\\item 'integrumtext'\n",
       "\\item 'ylerucorpus'\n",
       "\\item 'ylerutext'\n",
       "\\end{enumerate*}\n"
      ],
      "text/markdown": [
       "1. 'integrumtext'\n",
       "2. 'ylerucorpus'\n",
       "3. 'ylerutext'\n",
       "\n",
       "\n"
      ],
      "text/plain": [
       "[1] \"integrumtext\" \"ylerucorpus\"  \"ylerutext\"   "
      ]
     },
     "metadata": {},
     "output_type": "display_data"
    }
   ],
   "source": [
    "ls()"
   ]
  },
  {
   "cell_type": "code",
   "execution_count": 6,
   "metadata": {},
   "outputs": [
    {
     "ename": "ERROR",
     "evalue": "Error in library(\"tm\"): there is no package called ‘tm’\n",
     "output_type": "error",
     "traceback": [
      "Error in library(\"tm\"): there is no package called ‘tm’\nTraceback:\n",
      "1. library(\"tm\")",
      "2. stop(txt, domain = NA)"
     ]
    }
   ],
   "source": [
    "ylerutext <- fread(\"/work/cloud-user/russia_finland/finland_russia/data/processed/yle_ru_lemmas.csv\")"
   ]
  },
  {
   "cell_type": "code",
   "execution_count": 8,
   "metadata": {},
   "outputs": [],
   "source": []
  },
  {
   "cell_type": "code",
   "execution_count": 26,
   "metadata": {},
   "outputs": [
    {
     "ename": "ERROR",
     "evalue": "Error in parse(text = x, srcfile = src): <text>:1:6: unexpected input\n1: getwd(<e2>\n         ^\n",
     "output_type": "error",
     "traceback": [
      "Error in parse(text = x, srcfile = src): <text>:1:6: unexpected input\n1: getwd(<e2>\n         ^\nTraceback:\n"
     ]
    }
   ],
   "source": []
  },
  {
   "cell_type": "code",
   "execution_count": 16,
   "metadata": {},
   "outputs": [],
   "source": []
  },
  {
   "cell_type": "code",
   "execution_count": null,
   "metadata": {},
   "outputs": [],
   "source": []
  }
 ],
 "metadata": {
  "kernelspec": {
   "display_name": "R",
   "language": "R",
   "name": "ir"
  },
  "language_info": {
   "codemirror_mode": "r",
   "file_extension": ".r",
   "mimetype": "text/x-r-source",
   "name": "R",
   "pygments_lexer": "r",
   "version": "3.4.4"
  }
 },
 "nbformat": 4,
 "nbformat_minor": 2
}
