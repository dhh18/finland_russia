{
 "cells": [
  {
   "cell_type": "code",
   "execution_count": 1,
   "metadata": {
    "collapsed": true
   },
   "outputs": [
    {
     "name": "stderr",
     "output_type": "stream",
     "text": [
      "\n",
      "Attaching package: ‘dplyr’\n",
      "\n",
      "The following objects are masked from ‘package:stats’:\n",
      "\n",
      "    filter, lag\n",
      "\n",
      "The following objects are masked from ‘package:base’:\n",
      "\n",
      "    intersect, setdiff, setequal, union\n",
      "\n"
     ]
    }
   ],
   "source": [
    "library(gsheet)\n",
    "library(dplyr)\n",
    "library(tidyr)"
   ]
  },
  {
   "cell_type": "code",
   "execution_count": 7,
   "metadata": {},
   "outputs": [],
   "source": [
    "#LOADING REGIONAL\n",
    "out_integrum_r <- readRDS(\"out_integrum_regional.rds\")\n",
    "fit_integrum_r <- readRDS(\"STMreg30.rds\")\n",
    "integrumLocal <- read.csv(\"data/processed/integrum_local.csv\",stringsAsFactor = F)"
   ]
  },
  {
   "cell_type": "code",
   "execution_count": 5,
   "metadata": {},
   "outputs": [],
   "source": [
    "#LOADING FEDERAL\n",
    "out_integrum <- readRDS(\"out_integrum_federal.rds\")\n",
    "fit_integrum <- readRDS(\"STMfed30.rds\")\n",
    "integrum <- read.csv(\"data/processed/integrum_federal.csv\",stringsAsFactor = F)"
   ]
  },
  {
   "cell_type": "code",
   "execution_count": 39,
   "metadata": {},
   "outputs": [],
   "source": [
    "#LOADING YLE\n",
    "yle <- read.csv(\"data/processed/yle_fi_lemmas.csv\",stringsAsFactor = F)\n",
    "out_yle <- readRDS(\"out_yle1.rds\")\n",
    "fit_yle <- readRDS(\"STMyle301.rds\")"
   ]
  },
  {
   "cell_type": "code",
   "execution_count": 187,
   "metadata": {},
   "outputs": [],
   "source": [
    "#LOADING CITIES\n",
    "citiesDoc <- \"https://docs.google.com/spreadsheets/d/1N8I6XUgmMdYK8X8eMUBiJcjBRQ1fvLgJVuYepxVTbdw/edit#gid=2143069428\"\n",
    "citiesYleUrl <- construct_download_url(citiesDoc, format = \"csv\", sheetid = \"0\")\n",
    "YleRuCities <- gsheet2tbl(citiesYleUrl)\n",
    "citiesIntegrumUrl <- construct_download_url(citiesDoc, format = \"csv\", sheetid = \"2143069428\")\n",
    "IntegrumFiCities <- gsheet2tbl(citiesIntegrumUrl)"
   ]
  },
  {
   "cell_type": "code",
   "execution_count": 137,
   "metadata": {},
   "outputs": [],
   "source": [
    "saveRDS(IntegrumFiCities,\"IntegrumFiCities\")"
   ]
  },
  {
   "cell_type": "code",
   "execution_count": 95,
   "metadata": {},
   "outputs": [],
   "source": [
    "#PROCESSING FEDERAL\n",
    "\n",
    "intFedLong <- integrum %>% select(id,lemmas_content) %>% \n",
    "    mutate(tokensLong = strsplit(lemmas_content, \"\\', \\'\")) %>% \n",
    "    unnest(tokensLong) %>% select(id,tokensLong)"
   ]
  },
  {
   "cell_type": "code",
   "execution_count": 96,
   "metadata": {},
   "outputs": [],
   "source": [
    "intFedLong <- intFedLong %>% mutate(tokensLong = tolower(tokensLong)) \n",
    "#IntegrumFiCities <- IntegrumFiCities  %>%  mutate(Ru = tolower(Ru)) "
   ]
  },
  {
   "cell_type": "code",
   "execution_count": 97,
   "metadata": {},
   "outputs": [],
   "source": [
    "idCities <- intFedLong %>% left_join(IntegrumFiCities %>% select(Ru) %>% mutate(N = 1), by = c(\"tokensLong\" = \"Ru\"))"
   ]
  },
  {
   "cell_type": "code",
   "execution_count": 98,
   "metadata": {},
   "outputs": [],
   "source": [
    "#HERE\n",
    "idCities <- idCities  %>% filter(N==1)  "
   ]
  },
  {
   "cell_type": "code",
   "execution_count": 99,
   "metadata": {
    "collapsed": true
   },
   "outputs": [
    {
     "data": {
      "text/html": [
       "<table>\n",
       "<thead><tr><th scope=col>tokensLong</th><th scope=col>CitN</th></tr></thead>\n",
       "<tbody>\n",
       "\t<tr><td>хельсинки</td><td>2831     </td></tr>\n",
       "\t<tr><td>лахти    </td><td> 361     </td></tr>\n",
       "\t<tr><td>тампере  </td><td> 315     </td></tr>\n",
       "\t<tr><td>турку    </td><td> 260     </td></tr>\n",
       "\t<tr><td>сало     </td><td> 196     </td></tr>\n",
       "\t<tr><td>куусамо  </td><td>  98     </td></tr>\n",
       "\t<tr><td>рованиеми</td><td>  94     </td></tr>\n",
       "\t<tr><td>куопио   </td><td>  74     </td></tr>\n",
       "\t<tr><td>котка    </td><td>  63     </td></tr>\n",
       "\t<tr><td>эспоо    </td><td>  49     </td></tr>\n",
       "\t<tr><td>вантаа   </td><td>  44     </td></tr>\n",
       "\t<tr><td>порвоо   </td><td>  31     </td></tr>\n",
       "\t<tr><td>ханко    </td><td>  29     </td></tr>\n",
       "\t<tr><td>иматра   </td><td>  26     </td></tr>\n",
       "\t<tr><td>нокиа    </td><td>  22     </td></tr>\n",
       "\t<tr><td>кеми     </td><td>  20     </td></tr>\n",
       "\t<tr><td>йоэнсуу  </td><td>  19     </td></tr>\n",
       "\t<tr><td>торнио   </td><td>  12     </td></tr>\n",
       "\t<tr><td>раума    </td><td>   8     </td></tr>\n",
       "\t<tr><td>коккола  </td><td>   8     </td></tr>\n",
       "\t<tr><td>лоймаа   </td><td>   6     </td></tr>\n",
       "\t<tr><td>кухмо    </td><td>   5     </td></tr>\n",
       "\t<tr><td>керава   </td><td>   4     </td></tr>\n",
       "\t<tr><td>варкаус  </td><td>   3     </td></tr>\n",
       "\t<tr><td>оулайнен </td><td>   2     </td></tr>\n",
       "\t<tr><td>ярвенпяа </td><td>   1     </td></tr>\n",
       "\t<tr><td>хювинкяа </td><td>   1     </td></tr>\n",
       "\t<tr><td>икаалинен</td><td>   1     </td></tr>\n",
       "\t<tr><td>райсио   </td><td>   1     </td></tr>\n",
       "\t<tr><td>расеборг </td><td>   1     </td></tr>\n",
       "\t<tr><td>каарина  </td><td>   1     </td></tr>\n",
       "\t<tr><td>акаа     </td><td>   1     </td></tr>\n",
       "</tbody>\n",
       "</table>\n"
      ],
      "text/latex": [
       "\\begin{tabular}{r|ll}\n",
       " tokensLong & CitN\\\\\n",
       "\\hline\n",
       "\t хельсинки & 2831     \\\\\n",
       "\t лахти     &  361     \\\\\n",
       "\t тампере   &  315     \\\\\n",
       "\t турку     &  260     \\\\\n",
       "\t сало      &  196     \\\\\n",
       "\t куусамо   &   98     \\\\\n",
       "\t рованиеми &   94     \\\\\n",
       "\t куопио    &   74     \\\\\n",
       "\t котка     &   63     \\\\\n",
       "\t эспоо     &   49     \\\\\n",
       "\t вантаа    &   44     \\\\\n",
       "\t порвоо    &   31     \\\\\n",
       "\t ханко     &   29     \\\\\n",
       "\t иматра    &   26     \\\\\n",
       "\t нокиа     &   22     \\\\\n",
       "\t кеми      &   20     \\\\\n",
       "\t йоэнсуу   &   19     \\\\\n",
       "\t торнио    &   12     \\\\\n",
       "\t раума     &    8     \\\\\n",
       "\t коккола   &    8     \\\\\n",
       "\t лоймаа    &    6     \\\\\n",
       "\t кухмо     &    5     \\\\\n",
       "\t керава    &    4     \\\\\n",
       "\t варкаус   &    3     \\\\\n",
       "\t оулайнен  &    2     \\\\\n",
       "\t ярвенпяа  &    1     \\\\\n",
       "\t хювинкяа  &    1     \\\\\n",
       "\t икаалинен &    1     \\\\\n",
       "\t райсио    &    1     \\\\\n",
       "\t расеборг  &    1     \\\\\n",
       "\t каарина   &    1     \\\\\n",
       "\t акаа      &    1     \\\\\n",
       "\\end{tabular}\n"
      ],
      "text/markdown": [
       "\n",
       "tokensLong | CitN | \n",
       "|---|---|---|---|---|---|---|---|---|---|---|---|---|---|---|---|---|---|---|---|---|---|---|---|---|---|---|---|---|---|---|---|\n",
       "| хельсинки | 2831      | \n",
       "| лахти     |  361      | \n",
       "| тампере   |  315      | \n",
       "| турку     |  260      | \n",
       "| сало      |  196      | \n",
       "| куусамо   |   98      | \n",
       "| рованиеми |   94      | \n",
       "| куопио    |   74      | \n",
       "| котка     |   63      | \n",
       "| эспоо     |   49      | \n",
       "| вантаа    |   44      | \n",
       "| порвоо    |   31      | \n",
       "| ханко     |   29      | \n",
       "| иматра    |   26      | \n",
       "| нокиа     |   22      | \n",
       "| кеми      |   20      | \n",
       "| йоэнсуу   |   19      | \n",
       "| торнио    |   12      | \n",
       "| раума     |    8      | \n",
       "| коккола   |    8      | \n",
       "| лоймаа    |    6      | \n",
       "| кухмо     |    5      | \n",
       "| керава    |    4      | \n",
       "| варкаус   |    3      | \n",
       "| оулайнен  |    2      | \n",
       "| ярвенпяа  |    1      | \n",
       "| хювинкяа  |    1      | \n",
       "| икаалинен |    1      | \n",
       "| райсио    |    1      | \n",
       "| расеборг  |    1      | \n",
       "| каарина   |    1      | \n",
       "| акаа      |    1      | \n",
       "\n",
       "\n"
      ],
      "text/plain": [
       "   tokensLong CitN\n",
       "1  хельсинки  2831\n",
       "2  лахти       361\n",
       "3  тампере     315\n",
       "4  турку       260\n",
       "5  сало        196\n",
       "6  куусамо      98\n",
       "7  рованиеми    94\n",
       "8  куопио       74\n",
       "9  котка        63\n",
       "10 эспоо        49\n",
       "11 вантаа       44\n",
       "12 порвоо       31\n",
       "13 ханко        29\n",
       "14 иматра       26\n",
       "15 нокиа        22\n",
       "16 кеми         20\n",
       "17 йоэнсуу      19\n",
       "18 торнио       12\n",
       "19 раума         8\n",
       "20 коккола       8\n",
       "21 лоймаа        6\n",
       "22 кухмо         5\n",
       "23 керава        4\n",
       "24 варкаус       3\n",
       "25 оулайнен      2\n",
       "26 ярвенпяа      1\n",
       "27 хювинкяа      1\n",
       "28 икаалинен     1\n",
       "29 райсио        1\n",
       "30 расеборг      1\n",
       "31 каарина       1\n",
       "32 акаа          1"
      ]
     },
     "metadata": {},
     "output_type": "display_data"
    }
   ],
   "source": [
    "#idCities %>% group_by(tokensLong) %>% mutate(CitN = n()) %>% \n",
    "#    select(tokensLong, CitN) %>%  distinct() %>% arrange(-CitN)"
   ]
  },
  {
   "cell_type": "code",
   "execution_count": 41,
   "metadata": {},
   "outputs": [
    {
     "data": {
      "text/html": [
       "<ol class=list-inline>\n",
       "\t<li>'id'</li>\n",
       "\t<li>'date'</li>\n",
       "\t<li>'MediaDetail'</li>\n",
       "\t<li>'MediaShort'</li>\n",
       "\t<li>'headline'</li>\n",
       "\t<li>'content'</li>\n",
       "\t<li>'lemmas_headline'</li>\n",
       "\t<li>'lemmas_content'</li>\n",
       "\t<li>'tokens_content'</li>\n",
       "\t<li>'tokens_headline'</li>\n",
       "\t<li>'year'</li>\n",
       "</ol>\n"
      ],
      "text/latex": [
       "\\begin{enumerate*}\n",
       "\\item 'id'\n",
       "\\item 'date'\n",
       "\\item 'MediaDetail'\n",
       "\\item 'MediaShort'\n",
       "\\item 'headline'\n",
       "\\item 'content'\n",
       "\\item 'lemmas\\_headline'\n",
       "\\item 'lemmas\\_content'\n",
       "\\item 'tokens\\_content'\n",
       "\\item 'tokens\\_headline'\n",
       "\\item 'year'\n",
       "\\end{enumerate*}\n"
      ],
      "text/markdown": [
       "1. 'id'\n",
       "2. 'date'\n",
       "3. 'MediaDetail'\n",
       "4. 'MediaShort'\n",
       "5. 'headline'\n",
       "6. 'content'\n",
       "7. 'lemmas_headline'\n",
       "8. 'lemmas_content'\n",
       "9. 'tokens_content'\n",
       "10. 'tokens_headline'\n",
       "11. 'year'\n",
       "\n",
       "\n"
      ],
      "text/plain": [
       " [1] \"id\"              \"date\"            \"MediaDetail\"     \"MediaShort\"     \n",
       " [5] \"headline\"        \"content\"         \"lemmas_headline\" \"lemmas_content\" \n",
       " [9] \"tokens_content\"  \"tokens_headline\" \"year\"           "
      ]
     },
     "metadata": {},
     "output_type": "display_data"
    }
   ],
   "source": [
    "integrumLocal %>% colnames()"
   ]
  },
  {
   "cell_type": "code",
   "execution_count": 30,
   "metadata": {},
   "outputs": [],
   "source": [
    "#Processing Regional#\n",
    "intIdTokLongLOCAL <- integrumLocal %>% select(id,tokens_content) %>% \n",
    "    mutate(tokensLong = strsplit(tokens_content, \"\\', \\'\")) %>% \n",
    "    unnest(tokensLong) %>% select(id,tokensLong)"
   ]
  },
  {
   "cell_type": "code",
   "execution_count": 79,
   "metadata": {},
   "outputs": [],
   "source": [
    "#intIdTokLongLOCAL <- intIdTokLongLOCAL %>% mutate(tokensLong = tolower(tokensLong)) "
   ]
  },
  {
   "cell_type": "code",
   "execution_count": 33,
   "metadata": {},
   "outputs": [],
   "source": [
    "idCitiesLOCAL <- intIdTokLongLOCAL %>% left_join(IntegrumFiCities %>% select(Ru) %>% mutate(N = 1), by = c(\"tokensLong\" = \"Ru\"))"
   ]
  },
  {
   "cell_type": "code",
   "execution_count": 35,
   "metadata": {},
   "outputs": [],
   "source": [
    "idCitiesLOCAL <- idCitiesLOCAL  %>% filter(N==1)"
   ]
  },
  {
   "cell_type": "code",
   "execution_count": 44,
   "metadata": {},
   "outputs": [],
   "source": [
    "#lemmas local\n",
    "intIdTokLongLOCAL_L <- integrumLocal %>% select(id,lemmas_content) %>% \n",
    "    mutate(tokensLong = strsplit(lemmas_content, \"\\', \\'\")) %>% \n",
    "    unnest(tokensLong) %>% select(id,tokensLong)\n"
   ]
  },
  {
   "cell_type": "code",
   "execution_count": 55,
   "metadata": {},
   "outputs": [],
   "source": [
    "intIdTokLongLOCAL_L <- intIdTokLongLOCAL_L %>% mutate(tokensLong = tolower(tokensLong)) \n",
    "IntegrumFiCities <- IntegrumFiCities  %>%  mutate(Ru = tolower(Ru)) "
   ]
  },
  {
   "cell_type": "code",
   "execution_count": 66,
   "metadata": {},
   "outputs": [],
   "source": [
    "idCitiesLOCAL_L <- intIdTokLongLOCAL_L %>% left_join(IntegrumFiCities %>% select(Ru) %>% mutate(N = 1), \n",
    "                                                     by = c(\"tokensLong\" = \"Ru\"))\n",
    "#idCitiesLOCAL_L <- idCitiesLOCAL_L  %>% filter(N==1)"
   ]
  },
  {
   "cell_type": "code",
   "execution_count": 67,
   "metadata": {
    "collapsed": true
   },
   "outputs": [
    {
     "data": {
      "text/html": [
       "<table>\n",
       "<thead><tr><th scope=col>tokensLong</th><th scope=col>CitN</th></tr></thead>\n",
       "<tbody>\n",
       "\t<tr><td>хельсинки  </td><td>5647       </td></tr>\n",
       "\t<tr><td>турку      </td><td>1011       </td></tr>\n",
       "\t<tr><td>йоэнсуу    </td><td> 714       </td></tr>\n",
       "\t<tr><td>котка      </td><td> 608       </td></tr>\n",
       "\t<tr><td>тампере    </td><td> 470       </td></tr>\n",
       "\t<tr><td>лахти      </td><td> 428       </td></tr>\n",
       "\t<tr><td>иматра     </td><td> 400       </td></tr>\n",
       "\t<tr><td>кеми       </td><td> 238       </td></tr>\n",
       "\t<tr><td>куопио     </td><td> 198       </td></tr>\n",
       "\t<tr><td>сало       </td><td> 170       </td></tr>\n",
       "\t<tr><td>ханко      </td><td> 156       </td></tr>\n",
       "\t<tr><td>эспоо      </td><td> 145       </td></tr>\n",
       "\t<tr><td>варкаус    </td><td> 127       </td></tr>\n",
       "\t<tr><td>вантаа     </td><td> 123       </td></tr>\n",
       "\t<tr><td>рованиеми  </td><td> 121       </td></tr>\n",
       "\t<tr><td>порвоо     </td><td> 118       </td></tr>\n",
       "\t<tr><td>куусамо    </td><td> 107       </td></tr>\n",
       "\t<tr><td>кухмо      </td><td> 107       </td></tr>\n",
       "\t<tr><td>нокиа      </td><td>  63       </td></tr>\n",
       "\t<tr><td>раума      </td><td>  39       </td></tr>\n",
       "\t<tr><td>пюхяярви   </td><td>  18       </td></tr>\n",
       "\t<tr><td>нурмес     </td><td>  16       </td></tr>\n",
       "\t<tr><td>коккола    </td><td>  15       </td></tr>\n",
       "\t<tr><td>лохья      </td><td>  11       </td></tr>\n",
       "\t<tr><td>торнио     </td><td>  11       </td></tr>\n",
       "\t<tr><td>керава     </td><td>   9       </td></tr>\n",
       "\t<tr><td>каарина    </td><td>   6       </td></tr>\n",
       "\t<tr><td>лайтила    </td><td>   6       </td></tr>\n",
       "\t<tr><td>лоймаа     </td><td>   6       </td></tr>\n",
       "\t<tr><td>каскинен   </td><td>   5       </td></tr>\n",
       "\t<tr><td>кемиярви   </td><td>   5       </td></tr>\n",
       "\t<tr><td>райсио     </td><td>   5       </td></tr>\n",
       "\t<tr><td>валкеакоски</td><td>   3       </td></tr>\n",
       "\t<tr><td>каухава    </td><td>   3       </td></tr>\n",
       "\t<tr><td>паймио     </td><td>   3       </td></tr>\n",
       "\t<tr><td>сомеро     </td><td>   3       </td></tr>\n",
       "\t<tr><td>хамина     </td><td>   3       </td></tr>\n",
       "\t<tr><td>эхтяри     </td><td>   3       </td></tr>\n",
       "\t<tr><td>алаярви    </td><td>   2       </td></tr>\n",
       "\t<tr><td>ийсалми    </td><td>   2       </td></tr>\n",
       "\t<tr><td>кауниайнен </td><td>   2       </td></tr>\n",
       "\t<tr><td>киурувеси  </td><td>   2       </td></tr>\n",
       "\t<tr><td>ориматтила </td><td>   2       </td></tr>\n",
       "\t<tr><td>пудасъярви </td><td>   2       </td></tr>\n",
       "\t<tr><td>акаа       </td><td>   1       </td></tr>\n",
       "\t<tr><td>вааса      </td><td>   1       </td></tr>\n",
       "\t<tr><td>китеэ      </td><td>   1       </td></tr>\n",
       "\t<tr><td>лапуа      </td><td>   1       </td></tr>\n",
       "\t<tr><td>оулайнен   </td><td>   1       </td></tr>\n",
       "\t<tr><td>расеборг   </td><td>   1       </td></tr>\n",
       "\t<tr><td>састамала  </td><td>   1       </td></tr>\n",
       "\t<tr><td>ярвенпяа   </td><td>   1       </td></tr>\n",
       "</tbody>\n",
       "</table>\n"
      ],
      "text/latex": [
       "\\begin{tabular}{r|ll}\n",
       " tokensLong & CitN\\\\\n",
       "\\hline\n",
       "\t хельсинки   & 5647       \\\\\n",
       "\t турку       & 1011       \\\\\n",
       "\t йоэнсуу     &  714       \\\\\n",
       "\t котка       &  608       \\\\\n",
       "\t тампере     &  470       \\\\\n",
       "\t лахти       &  428       \\\\\n",
       "\t иматра      &  400       \\\\\n",
       "\t кеми        &  238       \\\\\n",
       "\t куопио      &  198       \\\\\n",
       "\t сало        &  170       \\\\\n",
       "\t ханко       &  156       \\\\\n",
       "\t эспоо       &  145       \\\\\n",
       "\t варкаус     &  127       \\\\\n",
       "\t вантаа      &  123       \\\\\n",
       "\t рованиеми   &  121       \\\\\n",
       "\t порвоо      &  118       \\\\\n",
       "\t куусамо     &  107       \\\\\n",
       "\t кухмо       &  107       \\\\\n",
       "\t нокиа       &   63       \\\\\n",
       "\t раума       &   39       \\\\\n",
       "\t пюхяярви    &   18       \\\\\n",
       "\t нурмес      &   16       \\\\\n",
       "\t коккола     &   15       \\\\\n",
       "\t лохья       &   11       \\\\\n",
       "\t торнио      &   11       \\\\\n",
       "\t керава      &    9       \\\\\n",
       "\t каарина     &    6       \\\\\n",
       "\t лайтила     &    6       \\\\\n",
       "\t лоймаа      &    6       \\\\\n",
       "\t каскинен    &    5       \\\\\n",
       "\t кемиярви    &    5       \\\\\n",
       "\t райсио      &    5       \\\\\n",
       "\t валкеакоски &    3       \\\\\n",
       "\t каухава     &    3       \\\\\n",
       "\t паймио      &    3       \\\\\n",
       "\t сомеро      &    3       \\\\\n",
       "\t хамина      &    3       \\\\\n",
       "\t эхтяри      &    3       \\\\\n",
       "\t алаярви     &    2       \\\\\n",
       "\t ийсалми     &    2       \\\\\n",
       "\t кауниайнен  &    2       \\\\\n",
       "\t киурувеси   &    2       \\\\\n",
       "\t ориматтила  &    2       \\\\\n",
       "\t пудасъярви  &    2       \\\\\n",
       "\t акаа        &    1       \\\\\n",
       "\t вааса       &    1       \\\\\n",
       "\t китеэ       &    1       \\\\\n",
       "\t лапуа       &    1       \\\\\n",
       "\t оулайнен    &    1       \\\\\n",
       "\t расеборг    &    1       \\\\\n",
       "\t састамала   &    1       \\\\\n",
       "\t ярвенпяа    &    1       \\\\\n",
       "\\end{tabular}\n"
      ],
      "text/markdown": [
       "\n",
       "tokensLong | CitN | \n",
       "|---|---|---|---|---|---|---|---|---|---|---|---|---|---|---|---|---|---|---|---|---|---|---|---|---|---|---|---|---|---|---|---|---|---|---|---|---|---|---|---|---|---|---|---|---|---|---|---|---|---|---|---|\n",
       "| хельсинки   | 5647        | \n",
       "| турку       | 1011        | \n",
       "| йоэнсуу     |  714        | \n",
       "| котка       |  608        | \n",
       "| тампере     |  470        | \n",
       "| лахти       |  428        | \n",
       "| иматра      |  400        | \n",
       "| кеми        |  238        | \n",
       "| куопио      |  198        | \n",
       "| сало        |  170        | \n",
       "| ханко       |  156        | \n",
       "| эспоо       |  145        | \n",
       "| варкаус     |  127        | \n",
       "| вантаа      |  123        | \n",
       "| рованиеми   |  121        | \n",
       "| порвоо      |  118        | \n",
       "| куусамо     |  107        | \n",
       "| кухмо       |  107        | \n",
       "| нокиа       |   63        | \n",
       "| раума       |   39        | \n",
       "| пюхяярви    |   18        | \n",
       "| нурмес      |   16        | \n",
       "| коккола     |   15        | \n",
       "| лохья       |   11        | \n",
       "| торнио      |   11        | \n",
       "| керава      |    9        | \n",
       "| каарина     |    6        | \n",
       "| лайтила     |    6        | \n",
       "| лоймаа      |    6        | \n",
       "| каскинен    |    5        | \n",
       "| кемиярви    |    5        | \n",
       "| райсио      |    5        | \n",
       "| валкеакоски |    3        | \n",
       "| каухава     |    3        | \n",
       "| паймио      |    3        | \n",
       "| сомеро      |    3        | \n",
       "| хамина      |    3        | \n",
       "| эхтяри      |    3        | \n",
       "| алаярви     |    2        | \n",
       "| ийсалми     |    2        | \n",
       "| кауниайнен  |    2        | \n",
       "| киурувеси   |    2        | \n",
       "| ориматтила  |    2        | \n",
       "| пудасъярви  |    2        | \n",
       "| акаа        |    1        | \n",
       "| вааса       |    1        | \n",
       "| китеэ       |    1        | \n",
       "| лапуа       |    1        | \n",
       "| оулайнен    |    1        | \n",
       "| расеборг    |    1        | \n",
       "| састамала   |    1        | \n",
       "| ярвенпяа    |    1        | \n",
       "\n",
       "\n"
      ],
      "text/plain": [
       "   tokensLong  CitN\n",
       "1  хельсинки   5647\n",
       "2  турку       1011\n",
       "3  йоэнсуу      714\n",
       "4  котка        608\n",
       "5  тампере      470\n",
       "6  лахти        428\n",
       "7  иматра       400\n",
       "8  кеми         238\n",
       "9  куопио       198\n",
       "10 сало         170\n",
       "11 ханко        156\n",
       "12 эспоо        145\n",
       "13 варкаус      127\n",
       "14 вантаа       123\n",
       "15 рованиеми    121\n",
       "16 порвоо       118\n",
       "17 куусамо      107\n",
       "18 кухмо        107\n",
       "19 нокиа         63\n",
       "20 раума         39\n",
       "21 пюхяярви      18\n",
       "22 нурмес        16\n",
       "23 коккола       15\n",
       "24 лохья         11\n",
       "25 торнио        11\n",
       "26 керава         9\n",
       "27 каарина        6\n",
       "28 лайтила        6\n",
       "29 лоймаа         6\n",
       "30 каскинен       5\n",
       "31 кемиярви       5\n",
       "32 райсио         5\n",
       "33 валкеакоски    3\n",
       "34 каухава        3\n",
       "35 паймио         3\n",
       "36 сомеро         3\n",
       "37 хамина         3\n",
       "38 эхтяри         3\n",
       "39 алаярви        2\n",
       "40 ийсалми        2\n",
       "41 кауниайнен     2\n",
       "42 киурувеси      2\n",
       "43 ориматтила     2\n",
       "44 пудасъярви     2\n",
       "45 акаа           1\n",
       "46 вааса          1\n",
       "47 китеэ          1\n",
       "48 лапуа          1\n",
       "49 оулайнен       1\n",
       "50 расеборг       1\n",
       "51 састамала      1\n",
       "52 ярвенпяа       1"
      ]
     },
     "metadata": {},
     "output_type": "display_data"
    }
   ],
   "source": [
    "idCitiesLOCAL_L <- idCitiesLOCAL_L  %>% filter(N==1)\n",
    "idCitiesLOCAL_L %>% group_by(tokensLong) %>% summarise(CitN = n()) %>% arrange(-CitN)\n"
   ]
  },
  {
   "cell_type": "code",
   "execution_count": 147,
   "metadata": {},
   "outputs": [
    {
     "name": "stdout",
     "output_type": "stream",
     "text": [
      "'data.frame':\t68472 obs. of  6 variables:\n",
      " $ X             : int  0 1 2 3 4 5 6 7 8 9 ...\n",
      " $ headline      : chr  \"Kaukasian konflikti: Aseissa Georgia ja Venäjän tukemat Etelä-Ossetia ja Abhasia\" \"Otteita Venäjän-tuntijoiden vastauksista\" \"Etelä-Ossetian ruutitynnyri räjähti viimein\" \"Yle Uutiset seuraa Ukrainan kriisiä hetki hetkeltä\" ...\n",
      " $ content       : chr  \"Kaukasian konflikti: Aseissa Georgia ja Venäjän tukemat Etelä-Ossetia ja Abhasia\\n\\nKaukasiassa Georgian ja sii\"| __truncated__ \"Otteita Venäjän-tuntijoiden vastauksista\\n\\nTähän tiivistelmään on koottu otteita asiantuntijoiden vastauksista\"| __truncated__ \"Etelä-Ossetian ruutitynnyri räjähti viimein\\n\\nPerjantaina 8. elokuuta 2008 pitkään jännittynyt tilanne Georgia\"| __truncated__ \"Yle Uutiset seuraa Ukrainan kriisiä hetki hetkeltä\\n\\nVenäjän duuma käsittelee tänään Krimin ja Sevastopolin li\"| __truncated__ ...\n",
      " $ datePublished : chr  \"2008-08-11T11:03:41+0300\" \"2007-01-14T12:46:58+0200\" \"2008-08-12T21:33:32+0300\" \"2014-03-18T09:06:59+0200\" ...\n",
      " $ lemmas_content: chr  \"['kaukasia', 'konflikti', 'ase', 'georg', 'venäjä', 'tukea', 'etelä-ossetia', 'abhasia', 'kaukasia', 'georgia',\"| __truncated__ \"['ote', 'venäjä', 'vasta', 'tiivistelmä', 'koota', 'ote', 'asia', 'vasta', 'yle', 'uutinen', 'tehdä', 'kysely',\"| __truncated__ \"['etelä-ossetia', 'ruuti', 'räjähtää', 'viimein', 'perjantai', 'elo', 'pitkä', 'jännittyä', 'tila', 'georgia', \"| __truncated__ \"['yle', 'uutinen', 'seura', 'ukraina', 'kriisi', 'hetki', 'hetki', 'venäjä', 'duuma', 'käsitellä', 'tänään', 'k\"| __truncated__ ...\n",
      " $ year          : int  2008 2007 2008 2014 2014 1998 2014 2010 2011 2010 ...\n"
     ]
    }
   ],
   "source": [
    "#idCities, idCitiesLOCAL_L \n",
    "yle %>% str"
   ]
  },
  {
   "cell_type": "code",
   "execution_count": 148,
   "metadata": {},
   "outputs": [],
   "source": [
    "#PREPARING YLE\n",
    "intIdTokLongYLE <- yle %>% mutate(id = X) %>%  select(id,lemmas_content) %>% \n",
    "    mutate(tokensLong = strsplit(lemmas_content, \"\\', \\'\")) %>% \n",
    "    unnest(tokensLong) %>% select(id,tokensLong)\n"
   ]
  },
  {
   "cell_type": "code",
   "execution_count": 152,
   "metadata": {},
   "outputs": [],
   "source": [
    "intIdTokLongYLE <- intIdTokLongYLE %>% mutate(tokensLong = tolower(tokensLong)) "
   ]
  },
  {
   "cell_type": "code",
   "execution_count": 188,
   "metadata": {},
   "outputs": [],
   "source": [
    "YleRuCities <- YleRuCities %>% mutate(Fi3 = Fi) %>% \n",
    "gather(Var,NameVars,Fi1:Fi3) %>% filter(!is.na(NameVars)) %>%  \n",
    "mutate(NameVars = tolower(NameVars))\n"
   ]
  },
  {
   "cell_type": "code",
   "execution_count": 189,
   "metadata": {},
   "outputs": [
    {
     "name": "stdout",
     "output_type": "stream",
     "text": [
      "Classes ‘tbl_df’, ‘tbl’ and 'data.frame':\t334 obs. of  4 variables:\n",
      " $ Fi      : chr  \"Nižni Novgorod\" \"Tšeljabinsk\" \"Voronež\" \"Toljatti\" ...\n",
      " $ Ru      : chr  \"Нижний Новгород\" \"Челябинск\" \"Воронеж\" \"Тольятти\" ...\n",
      " $ Var     : chr  \"Fi1\" \"Fi1\" \"Fi1\" \"Fi1\" ...\n",
      " $ NameVars: chr  \"nizhni novgorod\" \"tsheljabinsk\" \"voronezh\" \"togliatti\" ...\n"
     ]
    }
   ],
   "source": [
    "YleRuCities <- YleRuCities  %>% distinct(Fi,  .keep_all = TRUE)\n",
    "YleRuCities  %>% str"
   ]
  },
  {
   "cell_type": "code",
   "execution_count": 190,
   "metadata": {},
   "outputs": [],
   "source": [
    "idCitiesYLE <- intIdTokLongYLE %>% left_join(YleRuCities  %>% select(NameVars,Fi) %>% mutate(N = 1), \n",
    "                                                     by = c(\"tokensLong\" = \"NameVars\"))\n",
    "idCitiesYLE <- idCitiesYLE  %>% filter(N==1)"
   ]
  },
  {
   "cell_type": "code",
   "execution_count": 184,
   "metadata": {},
   "outputs": [
    {
     "name": "stdout",
     "output_type": "stream",
     "text": [
      "'data.frame':\t46230 obs. of  4 variables:\n",
      " $ id        : int  0 0 0 0 0 0 0 0 0 0 ...\n",
      " $ tokensLong: chr  \"vladimir\" \"vladimir\" \"moskova\" \"moskova\" ...\n",
      " $ Fi        : chr  \"Vladimir\" \"Vladimir\" \"Moskova\" \"Moskova\" ...\n",
      " $ N         : num  1 1 1 1 1 1 1 1 1 1 ...\n"
     ]
    }
   ],
   "source": [
    " idCitiesYLE%>% str"
   ]
  },
  {
   "cell_type": "code",
   "execution_count": null,
   "metadata": {},
   "outputs": [],
   "source": []
  },
  {
   "cell_type": "code",
   "execution_count": 85,
   "metadata": {},
   "outputs": [],
   "source": [
    "#Regional places with topics####\n",
    "integrumRegIdTopics  <- cbind(out_integrum_r$meta$id,fit_integrum_r$theta)"
   ]
  },
  {
   "cell_type": "code",
   "execution_count": 86,
   "metadata": {},
   "outputs": [],
   "source": [
    "integrumRegIdTopics <- integrumRegIdTopics %>% data.frame  \n",
    "colnames(integrumRegIdTopics) <- c(\"id\",paste(rep(\"Topic\",ncol(fit_integrum_r$theta)),1:ncol(fit_integrum_r$theta),sep=\"\"))"
   ]
  },
  {
   "cell_type": "code",
   "execution_count": 87,
   "metadata": {},
   "outputs": [],
   "source": [
    "integrumRegIdTopics <- integrumRegIdTopics %>% gather(Topic,TopicProportion,Topic1:Topic30) "
   ]
  },
  {
   "cell_type": "code",
   "execution_count": 88,
   "metadata": {},
   "outputs": [
    {
     "name": "stderr",
     "output_type": "stream",
     "text": [
      "Joining, by = \"id\"\n"
     ]
    }
   ],
   "source": [
    "intRegTopicIdCity <- integrumRegIdTopics  %>% left_join(idCitiesLOCAL_L) %>%  \n",
    "    filter(!is.na(tokensLong)) "
   ]
  },
  {
   "cell_type": "code",
   "execution_count": 89,
   "metadata": {
    "collapsed": true
   },
   "outputs": [
    {
     "data": {
      "text/html": [
       "<table>\n",
       "<thead><tr><th scope=col>id</th><th scope=col>Topic</th><th scope=col>TopicProportion</th><th scope=col>tokensLong</th><th scope=col>N</th></tr></thead>\n",
       "<tbody>\n",
       "\t<tr><td>25382       </td><td>Topic1      </td><td>0.0026570957</td><td>иматра      </td><td>1           </td></tr>\n",
       "\t<tr><td>25385       </td><td>Topic1      </td><td>0.0023704656</td><td>хельсинки   </td><td>1           </td></tr>\n",
       "\t<tr><td>25387       </td><td>Topic1      </td><td>0.0015690365</td><td>порвоо      </td><td>1           </td></tr>\n",
       "\t<tr><td>25396       </td><td>Topic1      </td><td>0.0023495828</td><td>хельсинки   </td><td>1           </td></tr>\n",
       "\t<tr><td>25410       </td><td>Topic1      </td><td>0.0006593437</td><td>хельсинки   </td><td>1           </td></tr>\n",
       "\t<tr><td>25417       </td><td>Topic1      </td><td>0.0166599444</td><td>порвоо      </td><td>1           </td></tr>\n",
       "</tbody>\n",
       "</table>\n"
      ],
      "text/latex": [
       "\\begin{tabular}{r|lllll}\n",
       " id & Topic & TopicProportion & tokensLong & N\\\\\n",
       "\\hline\n",
       "\t 25382        & Topic1       & 0.0026570957 & иматра       & 1           \\\\\n",
       "\t 25385        & Topic1       & 0.0023704656 & хельсинки    & 1           \\\\\n",
       "\t 25387        & Topic1       & 0.0015690365 & порвоо       & 1           \\\\\n",
       "\t 25396        & Topic1       & 0.0023495828 & хельсинки    & 1           \\\\\n",
       "\t 25410        & Topic1       & 0.0006593437 & хельсинки    & 1           \\\\\n",
       "\t 25417        & Topic1       & 0.0166599444 & порвоо       & 1           \\\\\n",
       "\\end{tabular}\n"
      ],
      "text/markdown": [
       "\n",
       "id | Topic | TopicProportion | tokensLong | N | \n",
       "|---|---|---|---|---|---|\n",
       "| 25382        | Topic1       | 0.0026570957 | иматра       | 1            | \n",
       "| 25385        | Topic1       | 0.0023704656 | хельсинки    | 1            | \n",
       "| 25387        | Topic1       | 0.0015690365 | порвоо       | 1            | \n",
       "| 25396        | Topic1       | 0.0023495828 | хельсинки    | 1            | \n",
       "| 25410        | Topic1       | 0.0006593437 | хельсинки    | 1            | \n",
       "| 25417        | Topic1       | 0.0166599444 | порвоо       | 1            | \n",
       "\n",
       "\n"
      ],
      "text/plain": [
       "  id    Topic  TopicProportion tokensLong N\n",
       "1 25382 Topic1 0.0026570957    иматра     1\n",
       "2 25385 Topic1 0.0023704656    хельсинки  1\n",
       "3 25387 Topic1 0.0015690365    порвоо     1\n",
       "4 25396 Topic1 0.0023495828    хельсинки  1\n",
       "5 25410 Topic1 0.0006593437    хельсинки  1\n",
       "6 25417 Topic1 0.0166599444    порвоо     1"
      ]
     },
     "metadata": {},
     "output_type": "display_data"
    }
   ],
   "source": [
    "intRegTopicIdCity %>% head"
   ]
  },
  {
   "cell_type": "code",
   "execution_count": 90,
   "metadata": {},
   "outputs": [],
   "source": [
    "#Saving Workspaces\n",
    "save.image(\"PlacesAndTopics.RData\")"
   ]
  },
  {
   "cell_type": "code",
   "execution_count": 92,
   "metadata": {},
   "outputs": [],
   "source": [
    "#Federal places with topics####\n",
    "integrumFedIdTopics  <- cbind(out_integrum$meta$id,fit_integrum$theta)"
   ]
  },
  {
   "cell_type": "code",
   "execution_count": 93,
   "metadata": {},
   "outputs": [],
   "source": [
    "integrumFedIdTopics <- integrumFedIdTopics %>% data.frame  \n",
    "colnames(integrumFedIdTopics) <- c(\"id\",paste(rep(\"Topic\",ncol(fit_integrum$theta)),1:ncol(fit_integrum$theta),sep=\"\"))"
   ]
  },
  {
   "cell_type": "code",
   "execution_count": 94,
   "metadata": {},
   "outputs": [],
   "source": [
    "integrumFedIdTopics <- integrumFedIdTopics %>% gather(Topic,TopicProportion,Topic1:Topic30)"
   ]
  },
  {
   "cell_type": "code",
   "execution_count": 100,
   "metadata": {},
   "outputs": [
    {
     "name": "stderr",
     "output_type": "stream",
     "text": [
      "Joining, by = \"id\"\n"
     ]
    }
   ],
   "source": [
    "#HERE\n",
    "intFedTopicIdCity <- integrumFedIdTopics  %>% left_join(idCities) %>%  \n",
    "    filter(!is.na(tokensLong)) "
   ]
  },
  {
   "cell_type": "code",
   "execution_count": null,
   "metadata": {},
   "outputs": [],
   "source": [
    "#intRegTopicIdCity intFedTopicIdCity"
   ]
  },
  {
   "cell_type": "code",
   "execution_count": 160,
   "metadata": {},
   "outputs": [],
   "source": [
    "#YLE places with topics####\n",
    "YleIdTopics  <- cbind(out_yle$meta$V1,fit_yle$theta)"
   ]
  },
  {
   "cell_type": "code",
   "execution_count": 161,
   "metadata": {},
   "outputs": [],
   "source": [
    "YleIdTopics <- YleIdTopics %>% data.frame(stringsAsFactors = F)  \n",
    "colnames(YleIdTopics) <- c(\"id\",paste(rep(\"Topic\",ncol(fit_yle$theta)),1:ncol(fit_yle$theta),sep=\"\"))"
   ]
  },
  {
   "cell_type": "code",
   "execution_count": 162,
   "metadata": {},
   "outputs": [],
   "source": [
    "YleIdTopics <- YleIdTopics %>% gather(Topic,TopicProportion,Topic1:Topic30)"
   ]
  },
  {
   "cell_type": "code",
   "execution_count": 165,
   "metadata": {},
   "outputs": [
    {
     "name": "stdout",
     "output_type": "stream",
     "text": [
      "'data.frame':\t2054160 obs. of  3 variables:\n",
      " $ id             : chr  \"0\" \"1\" \"2\" \"3\" ...\n",
      " $ Topic          : chr  \"Topic1\" \"Topic1\" \"Topic1\" \"Topic1\" ...\n",
      " $ TopicProportion: chr  \"6.4256634169303e-06\" \"0.000773097950448955\" \"5.59777698681329e-05\" \"3.41857773114519e-05\" ...\n",
      "'data.frame':\t1386900 obs. of  6 variables:\n",
      " $ id             : num  0 0 0 0 0 0 0 0 0 0 ...\n",
      " $ Topic          : chr  \"Topic1\" \"Topic1\" \"Topic1\" \"Topic1\" ...\n",
      " $ TopicProportion: chr  \"6.4256634169303e-06\" \"6.4256634169303e-06\" \"6.4256634169303e-06\" \"6.4256634169303e-06\" ...\n",
      " $ tokensLong     : chr  \"vladimir\" \"vladimir\" \"moskova\" \"moskova\" ...\n",
      " $ Fi             : chr  \"Vladimir\" \"Vladimir\" \"Moskova\" \"Moskova\" ...\n",
      " $ N              : num  1 1 1 1 1 1 1 1 1 1 ...\n",
      "'data.frame':\t46230 obs. of  4 variables:\n",
      " $ id        : int  0 0 0 0 0 0 0 0 0 0 ...\n",
      " $ tokensLong: chr  \"vladimir\" \"vladimir\" \"moskova\" \"moskova\" ...\n",
      " $ Fi        : chr  \"Vladimir\" \"Vladimir\" \"Moskova\" \"Moskova\" ...\n",
      " $ N         : num  1 1 1 1 1 1 1 1 1 1 ...\n",
      "'data.frame':\t4587 obs. of  3 variables:\n",
      " $ id        : int  5 7 7 10 17 17 20 26 26 26 ...\n",
      " $ tokensLong: chr  \"котка\" \"хельсинки\" \"хельсинки\" \"хельсинки\" ...\n",
      " $ N         : num  1 1 1 1 1 1 1 1 1 1 ...\n"
     ]
    }
   ],
   "source": [
    "YleIdTopics %>% str\n",
    "YleTopicIdCity %>% str\n",
    "idCitiesYLE %>% str\n",
    "idCities %>% str"
   ]
  },
  {
   "cell_type": "code",
   "execution_count": 191,
   "metadata": {},
   "outputs": [
    {
     "name": "stderr",
     "output_type": "stream",
     "text": [
      "Joining, by = \"id\"\n"
     ]
    }
   ],
   "source": [
    "YleTopicIdCity <- YleIdTopics %>% mutate(id = as.numeric(id))  %>% left_join(idCitiesYLE) %>%  \n",
    "    filter(!is.na(tokensLong)) "
   ]
  },
  {
   "cell_type": "code",
   "execution_count": null,
   "metadata": {},
   "outputs": [],
   "source": []
  },
  {
   "cell_type": "code",
   "execution_count": 192,
   "metadata": {},
   "outputs": [],
   "source": [
    "YleTopicIdCity <- YleTopicIdCity %>% mutate(tokensLong = Fi) "
   ]
  },
  {
   "cell_type": "code",
   "execution_count": 196,
   "metadata": {},
   "outputs": [
    {
     "name": "stdout",
     "output_type": "stream",
     "text": [
      "'data.frame':\t1372770 obs. of  6 variables:\n",
      " $ id             : num  0 0 0 0 0 0 0 0 0 0 ...\n",
      " $ Topic          : chr  \"Topic1\" \"Topic1\" \"Topic1\" \"Topic1\" ...\n",
      " $ TopicProportion: chr  \"6.4256634169303e-06\" \"6.4256634169303e-06\" \"6.4256634169303e-06\" \"6.4256634169303e-06\" ...\n",
      " $ tokensLong     : chr  \"Vladimir\" \"Vladimir\" \"Moskova\" \"Moskova\" ...\n",
      " $ Fi             : chr  \"Vladimir\" \"Vladimir\" \"Moskova\" \"Moskova\" ...\n",
      " $ N              : num  1 1 1 1 1 1 1 1 1 1 ...\n"
     ]
    },
    {
     "name": "stderr",
     "output_type": "stream",
     "text": [
      "Joining, by = \"Fi\"\n"
     ]
    }
   ],
   "source": [
    "\n",
    "\n",
    "YleTopicIdCity  <- YleTopicIdCity %>% left_join(YleRuCities %>% select(Fi,Ru)) "
   ]
  },
  {
   "cell_type": "code",
   "execution_count": 199,
   "metadata": {},
   "outputs": [
    {
     "data": {
      "text/html": [
       "<table>\n",
       "<thead><tr><th scope=col>id</th><th scope=col>Topic</th><th scope=col>TopicProportion</th><th scope=col>tokensLong</th><th scope=col>Fi</th><th scope=col>N</th><th scope=col>Ru</th></tr></thead>\n",
       "<tbody>\n",
       "\t<tr><td>0                  </td><td>Topic1             </td><td>6.4256634169303e-06</td><td>Vladimir           </td><td>Vladimir           </td><td>1                  </td><td>Владимир           </td></tr>\n",
       "\t<tr><td>0                  </td><td>Topic1             </td><td>6.4256634169303e-06</td><td>Vladimir           </td><td>Vladimir           </td><td>1                  </td><td>Владимир           </td></tr>\n",
       "\t<tr><td>0                  </td><td>Topic1             </td><td>6.4256634169303e-06</td><td>Moskova            </td><td>Moskova            </td><td>1                  </td><td>Москва             </td></tr>\n",
       "\t<tr><td>0                  </td><td>Topic1             </td><td>6.4256634169303e-06</td><td>Moskova            </td><td>Moskova            </td><td>1                  </td><td>Москва             </td></tr>\n",
       "\t<tr><td>0                  </td><td>Topic1             </td><td>6.4256634169303e-06</td><td>Moskova            </td><td>Moskova            </td><td>1                  </td><td>Москва             </td></tr>\n",
       "\t<tr><td>0                  </td><td>Topic1             </td><td>6.4256634169303e-06</td><td>Moskova            </td><td>Moskova            </td><td>1                  </td><td>Москва             </td></tr>\n",
       "</tbody>\n",
       "</table>\n"
      ],
      "text/latex": [
       "\\begin{tabular}{r|lllllll}\n",
       " id & Topic & TopicProportion & tokensLong & Fi & N & Ru\\\\\n",
       "\\hline\n",
       "\t 0                   & Topic1              & 6.4256634169303e-06 & Vladimir            & Vladimir            & 1                   & Владимир           \\\\\n",
       "\t 0                   & Topic1              & 6.4256634169303e-06 & Vladimir            & Vladimir            & 1                   & Владимир           \\\\\n",
       "\t 0                   & Topic1              & 6.4256634169303e-06 & Moskova             & Moskova             & 1                   & Москва             \\\\\n",
       "\t 0                   & Topic1              & 6.4256634169303e-06 & Moskova             & Moskova             & 1                   & Москва             \\\\\n",
       "\t 0                   & Topic1              & 6.4256634169303e-06 & Moskova             & Moskova             & 1                   & Москва             \\\\\n",
       "\t 0                   & Topic1              & 6.4256634169303e-06 & Moskova             & Moskova             & 1                   & Москва             \\\\\n",
       "\\end{tabular}\n"
      ],
      "text/markdown": [
       "\n",
       "id | Topic | TopicProportion | tokensLong | Fi | N | Ru | \n",
       "|---|---|---|---|---|---|\n",
       "| 0                   | Topic1              | 6.4256634169303e-06 | Vladimir            | Vladimir            | 1                   | Владимир            | \n",
       "| 0                   | Topic1              | 6.4256634169303e-06 | Vladimir            | Vladimir            | 1                   | Владимир            | \n",
       "| 0                   | Topic1              | 6.4256634169303e-06 | Moskova             | Moskova             | 1                   | Москва              | \n",
       "| 0                   | Topic1              | 6.4256634169303e-06 | Moskova             | Moskova             | 1                   | Москва              | \n",
       "| 0                   | Topic1              | 6.4256634169303e-06 | Moskova             | Moskova             | 1                   | Москва              | \n",
       "| 0                   | Topic1              | 6.4256634169303e-06 | Moskova             | Moskova             | 1                   | Москва              | \n",
       "\n",
       "\n"
      ],
      "text/plain": [
       "  id Topic  TopicProportion     tokensLong Fi       N Ru      \n",
       "1 0  Topic1 6.4256634169303e-06 Vladimir   Vladimir 1 Владимир\n",
       "2 0  Topic1 6.4256634169303e-06 Vladimir   Vladimir 1 Владимир\n",
       "3 0  Topic1 6.4256634169303e-06 Moskova    Moskova  1 Москва  \n",
       "4 0  Topic1 6.4256634169303e-06 Moskova    Moskova  1 Москва  \n",
       "5 0  Topic1 6.4256634169303e-06 Moskova    Moskova  1 Москва  \n",
       "6 0  Topic1 6.4256634169303e-06 Moskova    Moskova  1 Москва  "
      ]
     },
     "metadata": {},
     "output_type": "display_data"
    },
    {
     "data": {
      "text/html": [
       "<table>\n",
       "<thead><tr><th scope=col>id</th><th scope=col>Topic</th><th scope=col>TopicProportion</th><th scope=col>tokensLong</th><th scope=col>N</th></tr></thead>\n",
       "<tbody>\n",
       "\t<tr><td> 5          </td><td>Topic1      </td><td>0.0028760743</td><td>котка       </td><td>1           </td></tr>\n",
       "\t<tr><td> 7          </td><td>Topic1      </td><td>0.0003939653</td><td>хельсинки   </td><td>1           </td></tr>\n",
       "\t<tr><td> 7          </td><td>Topic1      </td><td>0.0003939653</td><td>хельсинки   </td><td>1           </td></tr>\n",
       "\t<tr><td>10          </td><td>Topic1      </td><td>0.0004470051</td><td>хельсинки   </td><td>1           </td></tr>\n",
       "\t<tr><td>17          </td><td>Topic1      </td><td>0.0006850523</td><td>хельсинки   </td><td>1           </td></tr>\n",
       "\t<tr><td>17          </td><td>Topic1      </td><td>0.0006850523</td><td>хельсинки   </td><td>1           </td></tr>\n",
       "</tbody>\n",
       "</table>\n"
      ],
      "text/latex": [
       "\\begin{tabular}{r|lllll}\n",
       " id & Topic & TopicProportion & tokensLong & N\\\\\n",
       "\\hline\n",
       "\t  5           & Topic1       & 0.0028760743 & котка        & 1           \\\\\n",
       "\t  7           & Topic1       & 0.0003939653 & хельсинки    & 1           \\\\\n",
       "\t  7           & Topic1       & 0.0003939653 & хельсинки    & 1           \\\\\n",
       "\t 10           & Topic1       & 0.0004470051 & хельсинки    & 1           \\\\\n",
       "\t 17           & Topic1       & 0.0006850523 & хельсинки    & 1           \\\\\n",
       "\t 17           & Topic1       & 0.0006850523 & хельсинки    & 1           \\\\\n",
       "\\end{tabular}\n"
      ],
      "text/markdown": [
       "\n",
       "id | Topic | TopicProportion | tokensLong | N | \n",
       "|---|---|---|---|---|---|\n",
       "|  5           | Topic1       | 0.0028760743 | котка        | 1            | \n",
       "|  7           | Topic1       | 0.0003939653 | хельсинки    | 1            | \n",
       "|  7           | Topic1       | 0.0003939653 | хельсинки    | 1            | \n",
       "| 10           | Topic1       | 0.0004470051 | хельсинки    | 1            | \n",
       "| 17           | Topic1       | 0.0006850523 | хельсинки    | 1            | \n",
       "| 17           | Topic1       | 0.0006850523 | хельсинки    | 1            | \n",
       "\n",
       "\n"
      ],
      "text/plain": [
       "  id Topic  TopicProportion tokensLong N\n",
       "1  5 Topic1 0.0028760743    котка      1\n",
       "2  7 Topic1 0.0003939653    хельсинки  1\n",
       "3  7 Topic1 0.0003939653    хельсинки  1\n",
       "4 10 Topic1 0.0004470051    хельсинки  1\n",
       "5 17 Topic1 0.0006850523    хельсинки  1\n",
       "6 17 Topic1 0.0006850523    хельсинки  1"
      ]
     },
     "metadata": {},
     "output_type": "display_data"
    },
    {
     "data": {
      "text/html": [
       "<table>\n",
       "<thead><tr><th scope=col>id</th><th scope=col>Topic</th><th scope=col>TopicProportion</th><th scope=col>tokensLong</th><th scope=col>N</th></tr></thead>\n",
       "<tbody>\n",
       "\t<tr><td>25382       </td><td>Topic1      </td><td>0.0026570957</td><td>иматра      </td><td>1           </td></tr>\n",
       "\t<tr><td>25385       </td><td>Topic1      </td><td>0.0023704656</td><td>хельсинки   </td><td>1           </td></tr>\n",
       "\t<tr><td>25387       </td><td>Topic1      </td><td>0.0015690365</td><td>порвоо      </td><td>1           </td></tr>\n",
       "\t<tr><td>25396       </td><td>Topic1      </td><td>0.0023495828</td><td>хельсинки   </td><td>1           </td></tr>\n",
       "\t<tr><td>25410       </td><td>Topic1      </td><td>0.0006593437</td><td>хельсинки   </td><td>1           </td></tr>\n",
       "\t<tr><td>25417       </td><td>Topic1      </td><td>0.0166599444</td><td>порвоо      </td><td>1           </td></tr>\n",
       "</tbody>\n",
       "</table>\n"
      ],
      "text/latex": [
       "\\begin{tabular}{r|lllll}\n",
       " id & Topic & TopicProportion & tokensLong & N\\\\\n",
       "\\hline\n",
       "\t 25382        & Topic1       & 0.0026570957 & иматра       & 1           \\\\\n",
       "\t 25385        & Topic1       & 0.0023704656 & хельсинки    & 1           \\\\\n",
       "\t 25387        & Topic1       & 0.0015690365 & порвоо       & 1           \\\\\n",
       "\t 25396        & Topic1       & 0.0023495828 & хельсинки    & 1           \\\\\n",
       "\t 25410        & Topic1       & 0.0006593437 & хельсинки    & 1           \\\\\n",
       "\t 25417        & Topic1       & 0.0166599444 & порвоо       & 1           \\\\\n",
       "\\end{tabular}\n"
      ],
      "text/markdown": [
       "\n",
       "id | Topic | TopicProportion | tokensLong | N | \n",
       "|---|---|---|---|---|---|\n",
       "| 25382        | Topic1       | 0.0026570957 | иматра       | 1            | \n",
       "| 25385        | Topic1       | 0.0023704656 | хельсинки    | 1            | \n",
       "| 25387        | Topic1       | 0.0015690365 | порвоо       | 1            | \n",
       "| 25396        | Topic1       | 0.0023495828 | хельсинки    | 1            | \n",
       "| 25410        | Topic1       | 0.0006593437 | хельсинки    | 1            | \n",
       "| 25417        | Topic1       | 0.0166599444 | порвоо       | 1            | \n",
       "\n",
       "\n"
      ],
      "text/plain": [
       "  id    Topic  TopicProportion tokensLong N\n",
       "1 25382 Topic1 0.0026570957    иматра     1\n",
       "2 25385 Topic1 0.0023704656    хельсинки  1\n",
       "3 25387 Topic1 0.0015690365    порвоо     1\n",
       "4 25396 Topic1 0.0023495828    хельсинки  1\n",
       "5 25410 Topic1 0.0006593437    хельсинки  1\n",
       "6 25417 Topic1 0.0166599444    порвоо     1"
      ]
     },
     "metadata": {},
     "output_type": "display_data"
    },
    {
     "name": "stdout",
     "output_type": "stream",
     "text": [
      "'data.frame':\t1372770 obs. of  7 variables:\n",
      " $ id             : num  0 0 0 0 0 0 0 0 0 0 ...\n",
      " $ Topic          : chr  \"Topic1\" \"Topic1\" \"Topic1\" \"Topic1\" ...\n",
      " $ TopicProportion: chr  \"6.4256634169303e-06\" \"6.4256634169303e-06\" \"6.4256634169303e-06\" \"6.4256634169303e-06\" ...\n",
      " $ tokensLong     : chr  \"Vladimir\" \"Vladimir\" \"Moskova\" \"Moskova\" ...\n",
      " $ Fi             : chr  \"Vladimir\" \"Vladimir\" \"Moskova\" \"Moskova\" ...\n",
      " $ N              : num  1 1 1 1 1 1 1 1 1 1 ...\n",
      " $ Ru             : chr  \"Владимир\" \"Владимир\" \"Москва\" \"Москва\" ...\n"
     ]
    }
   ],
   "source": [
    "YleTopicIdCity %>% head\n",
    "intFedTopicIdCity %>% head\n",
    "intRegTopicIdCity  %>% head\n",
    "YleTopicIdCity %>% str"
   ]
  },
  {
   "cell_type": "code",
   "execution_count": 200,
   "metadata": {},
   "outputs": [],
   "source": [
    "saveRDS(YleTopicIdCity,\"YleTopicIdCity1\")\n",
    "#saveRDS(intFedTopicIdCity,\"intFedTopicIdCity\")\n",
    "#saveRDS(intRegTopicIdCity,\"intRegTopicIdCity \")\n"
   ]
  },
  {
   "cell_type": "code",
   "execution_count": 203,
   "metadata": {},
   "outputs": [
    {
     "data": {
      "text/html": [
       "<ol class=list-inline>\n",
       "\t<li>'Topic1'</li>\n",
       "\t<li>'Topic2'</li>\n",
       "\t<li>'Topic3'</li>\n",
       "\t<li>'Topic6'</li>\n",
       "\t<li>'Topic9'</li>\n",
       "\t<li>'Topic11'</li>\n",
       "\t<li>'Topic16'</li>\n",
       "\t<li>'Topic24'</li>\n",
       "\t<li>'Topic26'</li>\n",
       "\t<li>'Topic29'</li>\n",
       "</ol>\n"
      ],
      "text/latex": [
       "\\begin{enumerate*}\n",
       "\\item 'Topic1'\n",
       "\\item 'Topic2'\n",
       "\\item 'Topic3'\n",
       "\\item 'Topic6'\n",
       "\\item 'Topic9'\n",
       "\\item 'Topic11'\n",
       "\\item 'Topic16'\n",
       "\\item 'Topic24'\n",
       "\\item 'Topic26'\n",
       "\\item 'Topic29'\n",
       "\\end{enumerate*}\n"
      ],
      "text/markdown": [
       "1. 'Topic1'\n",
       "2. 'Topic2'\n",
       "3. 'Topic3'\n",
       "4. 'Topic6'\n",
       "5. 'Topic9'\n",
       "6. 'Topic11'\n",
       "7. 'Topic16'\n",
       "8. 'Topic24'\n",
       "9. 'Topic26'\n",
       "10. 'Topic29'\n",
       "\n",
       "\n"
      ],
      "text/plain": [
       " [1] \"Topic1\"  \"Topic2\"  \"Topic3\"  \"Topic6\"  \"Topic9\"  \"Topic11\" \"Topic16\"\n",
       " [8] \"Topic24\" \"Topic26\" \"Topic29\""
      ]
     },
     "metadata": {},
     "output_type": "display_data"
    }
   ],
   "source": [
    "TopicNums <- c(1:3,6,9,11,16,24,26,29)\n",
    "TopicNames <- paste(rep(\"Topic\",length(TopicNums)),TopicNums,sep=\"\")\n",
    "TopicNames"
   ]
  },
  {
   "cell_type": "code",
   "execution_count": 170,
   "metadata": {},
   "outputs": [
    {
     "data": {
      "text/plain": [
       "\n",
       "1997 1998 1999 2000 2001 2002 2003 2004 2005 2006 2007 2008 2009 2010 2011 2012 \n",
       "   2  294 1557  489 1188 1616 1640 2012 2005 2764 3159 4592 6818 6565 5091 6228 \n",
       "2013 2014 2015 2016 2017 \n",
       "7791 7875 4570 1965  251 "
      ]
     },
     "metadata": {},
     "output_type": "display_data"
    }
   ],
   "source": [
    "table(yle$year)"
   ]
  },
  {
   "cell_type": "code",
   "execution_count": 206,
   "metadata": {},
   "outputs": [
    {
     "data": {
      "text/html": [
       "<table>\n",
       "<thead><tr><th scope=col>n_distinct(id)</th></tr></thead>\n",
       "<tbody>\n",
       "\t<tr><td>5472</td></tr>\n",
       "</tbody>\n",
       "</table>\n"
      ],
      "text/latex": [
       "\\begin{tabular}{r|l}\n",
       " n\\_distinct(id)\\\\\n",
       "\\hline\n",
       "\t 5472\\\\\n",
       "\\end{tabular}\n"
      ],
      "text/markdown": [
       "\n",
       "n_distinct(id) | \n",
       "|---|\n",
       "| 5472 | \n",
       "\n",
       "\n"
      ],
      "text/plain": [
       "  n_distinct(id)\n",
       "1 5472          "
      ]
     },
     "metadata": {},
     "output_type": "display_data"
    }
   ],
   "source": [
    "intRegTopicIdCity %>% filter(Topic %in% TopicNames) %>% summarise(n_distinct(id))"
   ]
  },
  {
   "cell_type": "code",
   "execution_count": 207,
   "metadata": {},
   "outputs": [],
   "source": [
    " GivenTopicCities <-intRegTopicIdCity %>% filter(Topic %in% TopicNames) %>% \n",
    "    filter(TopicProportion > 0.3)   %>% mutate(city = tokensLong) %>% select(-tokensLong) "
   ]
  },
  {
   "cell_type": "code",
   "execution_count": 162,
   "metadata": {
    "collapsed": true
   },
   "outputs": [
    {
     "data": {
      "text/html": [
       "<table>\n",
       "<thead><tr><th scope=col>id</th><th scope=col>city</th><th scope=col>n()</th></tr></thead>\n",
       "<tbody>\n",
       "\t<tr><td>28265    </td><td>хельсинки</td><td>1        </td></tr>\n",
       "\t<tr><td>28524    </td><td>рованиеми</td><td>1        </td></tr>\n",
       "\t<tr><td>28524    </td><td>хельсинки</td><td>2        </td></tr>\n",
       "\t<tr><td>28603    </td><td>миккели  </td><td>1        </td></tr>\n",
       "\t<tr><td>28866    </td><td>тампере  </td><td>1        </td></tr>\n",
       "\t<tr><td>28884    </td><td>тампере  </td><td>1        </td></tr>\n",
       "\t<tr><td>29019    </td><td>сало     </td><td>2        </td></tr>\n",
       "\t<tr><td>29037    </td><td>сало     </td><td>2        </td></tr>\n",
       "\t<tr><td>29044    </td><td>сало     </td><td>2        </td></tr>\n",
       "\t<tr><td>29370    </td><td>пори     </td><td>1        </td></tr>\n",
       "\t<tr><td>29541    </td><td>рованиеми</td><td>1        </td></tr>\n",
       "\t<tr><td>30439    </td><td>тампере  </td><td>2        </td></tr>\n",
       "\t<tr><td>30511    </td><td>куопио   </td><td>1        </td></tr>\n",
       "\t<tr><td>30598    </td><td>тампере  </td><td>1        </td></tr>\n",
       "\t<tr><td>30634    </td><td>тампере  </td><td>1        </td></tr>\n",
       "\t<tr><td>30891    </td><td>сейняйоки</td><td>1        </td></tr>\n",
       "\t<tr><td>30891    </td><td>хельсинки</td><td>1        </td></tr>\n",
       "\t<tr><td>30913    </td><td>хельсинки</td><td>1        </td></tr>\n",
       "\t<tr><td>30914    </td><td>вантаа   </td><td>2        </td></tr>\n",
       "\t<tr><td>30914    </td><td>йоэнсуу  </td><td>2        </td></tr>\n",
       "\t<tr><td>30914    </td><td>пори     </td><td>3        </td></tr>\n",
       "\t<tr><td>30914    </td><td>турку    </td><td>1        </td></tr>\n",
       "\t<tr><td>30914    </td><td>хельсинки</td><td>6        </td></tr>\n",
       "\t<tr><td>31198    </td><td>лахти    </td><td>1        </td></tr>\n",
       "\t<tr><td>31199    </td><td>лахти    </td><td>2        </td></tr>\n",
       "\t<tr><td>31205    </td><td>лахти    </td><td>2        </td></tr>\n",
       "\t<tr><td>31222    </td><td>лахти    </td><td>2        </td></tr>\n",
       "\t<tr><td>31241    </td><td>лахти    </td><td>2        </td></tr>\n",
       "\t<tr><td>31557    </td><td>хельсинки</td><td>1        </td></tr>\n",
       "\t<tr><td>31883    </td><td>хельсинки</td><td>1        </td></tr>\n",
       "\t<tr><td>⋮</td><td>⋮</td><td>⋮</td></tr>\n",
       "\t<tr><td>59190     </td><td>хельсинки </td><td>6         </td></tr>\n",
       "\t<tr><td>59220     </td><td>лахти     </td><td>1         </td></tr>\n",
       "\t<tr><td>59330     </td><td>кеми      </td><td>1         </td></tr>\n",
       "\t<tr><td>59330     </td><td>куопио    </td><td>1         </td></tr>\n",
       "\t<tr><td>59330     </td><td>кухмо     </td><td>1         </td></tr>\n",
       "\t<tr><td>59330     </td><td>лахти     </td><td>1         </td></tr>\n",
       "\t<tr><td>59330     </td><td>пюхяярви  </td><td>1         </td></tr>\n",
       "\t<tr><td>59330     </td><td>турку     </td><td>1         </td></tr>\n",
       "\t<tr><td>59330     </td><td>хельсинки </td><td>2         </td></tr>\n",
       "\t<tr><td>59330     </td><td>ярвенпяа  </td><td>1         </td></tr>\n",
       "\t<tr><td>59337     </td><td>хельсинки </td><td>2         </td></tr>\n",
       "\t<tr><td>59598     </td><td>лахти     </td><td>2         </td></tr>\n",
       "\t<tr><td>59598     </td><td>турку     </td><td>1         </td></tr>\n",
       "\t<tr><td>59598     </td><td>хельсинки </td><td>3         </td></tr>\n",
       "\t<tr><td>59652     </td><td>хельсинки </td><td>1         </td></tr>\n",
       "\t<tr><td>59714     </td><td>лахти     </td><td>1         </td></tr>\n",
       "\t<tr><td>59763     </td><td>лахти     </td><td>1         </td></tr>\n",
       "\t<tr><td>59767     </td><td>лахти     </td><td>1         </td></tr>\n",
       "\t<tr><td>59959     </td><td>хельсинки </td><td>3         </td></tr>\n",
       "\t<tr><td>60328     </td><td>хельсинки </td><td>1         </td></tr>\n",
       "\t<tr><td>60363     </td><td>савонлинна</td><td>1         </td></tr>\n",
       "\t<tr><td>60479     </td><td>хельсинки </td><td>1         </td></tr>\n",
       "\t<tr><td>60721     </td><td>лахти     </td><td>3         </td></tr>\n",
       "\t<tr><td>60721     </td><td>хельсинки </td><td>1         </td></tr>\n",
       "\t<tr><td>60838     </td><td>турку     </td><td>4         </td></tr>\n",
       "\t<tr><td>60987     </td><td>оулу      </td><td>1         </td></tr>\n",
       "\t<tr><td>60996     </td><td>хельсинки </td><td>1         </td></tr>\n",
       "\t<tr><td>61219     </td><td>хельсинки </td><td>1         </td></tr>\n",
       "\t<tr><td>61346     </td><td>кухмо     </td><td>2         </td></tr>\n",
       "\t<tr><td>61353     </td><td>кухмо     </td><td>2         </td></tr>\n",
       "</tbody>\n",
       "</table>\n"
      ],
      "text/latex": [
       "\\begin{tabular}{r|lll}\n",
       " id & city & n()\\\\\n",
       "\\hline\n",
       "\t 28265     & хельсинки & 1        \\\\\n",
       "\t 28524     & рованиеми & 1        \\\\\n",
       "\t 28524     & хельсинки & 2        \\\\\n",
       "\t 28603     & миккели   & 1        \\\\\n",
       "\t 28866     & тампере   & 1        \\\\\n",
       "\t 28884     & тампере   & 1        \\\\\n",
       "\t 29019     & сало      & 2        \\\\\n",
       "\t 29037     & сало      & 2        \\\\\n",
       "\t 29044     & сало      & 2        \\\\\n",
       "\t 29370     & пори      & 1        \\\\\n",
       "\t 29541     & рованиеми & 1        \\\\\n",
       "\t 30439     & тампере   & 2        \\\\\n",
       "\t 30511     & куопио    & 1        \\\\\n",
       "\t 30598     & тампере   & 1        \\\\\n",
       "\t 30634     & тампере   & 1        \\\\\n",
       "\t 30891     & сейняйоки & 1        \\\\\n",
       "\t 30891     & хельсинки & 1        \\\\\n",
       "\t 30913     & хельсинки & 1        \\\\\n",
       "\t 30914     & вантаа    & 2        \\\\\n",
       "\t 30914     & йоэнсуу   & 2        \\\\\n",
       "\t 30914     & пори      & 3        \\\\\n",
       "\t 30914     & турку     & 1        \\\\\n",
       "\t 30914     & хельсинки & 6        \\\\\n",
       "\t 31198     & лахти     & 1        \\\\\n",
       "\t 31199     & лахти     & 2        \\\\\n",
       "\t 31205     & лахти     & 2        \\\\\n",
       "\t 31222     & лахти     & 2        \\\\\n",
       "\t 31241     & лахти     & 2        \\\\\n",
       "\t 31557     & хельсинки & 1        \\\\\n",
       "\t 31883     & хельсинки & 1        \\\\\n",
       "\t ⋮ & ⋮ & ⋮\\\\\n",
       "\t 59190      & хельсинки  & 6         \\\\\n",
       "\t 59220      & лахти      & 1         \\\\\n",
       "\t 59330      & кеми       & 1         \\\\\n",
       "\t 59330      & куопио     & 1         \\\\\n",
       "\t 59330      & кухмо      & 1         \\\\\n",
       "\t 59330      & лахти      & 1         \\\\\n",
       "\t 59330      & пюхяярви   & 1         \\\\\n",
       "\t 59330      & турку      & 1         \\\\\n",
       "\t 59330      & хельсинки  & 2         \\\\\n",
       "\t 59330      & ярвенпяа   & 1         \\\\\n",
       "\t 59337      & хельсинки  & 2         \\\\\n",
       "\t 59598      & лахти      & 2         \\\\\n",
       "\t 59598      & турку      & 1         \\\\\n",
       "\t 59598      & хельсинки  & 3         \\\\\n",
       "\t 59652      & хельсинки  & 1         \\\\\n",
       "\t 59714      & лахти      & 1         \\\\\n",
       "\t 59763      & лахти      & 1         \\\\\n",
       "\t 59767      & лахти      & 1         \\\\\n",
       "\t 59959      & хельсинки  & 3         \\\\\n",
       "\t 60328      & хельсинки  & 1         \\\\\n",
       "\t 60363      & савонлинна & 1         \\\\\n",
       "\t 60479      & хельсинки  & 1         \\\\\n",
       "\t 60721      & лахти      & 3         \\\\\n",
       "\t 60721      & хельсинки  & 1         \\\\\n",
       "\t 60838      & турку      & 4         \\\\\n",
       "\t 60987      & оулу       & 1         \\\\\n",
       "\t 60996      & хельсинки  & 1         \\\\\n",
       "\t 61219      & хельсинки  & 1         \\\\\n",
       "\t 61346      & кухмо      & 2         \\\\\n",
       "\t 61353      & кухмо      & 2         \\\\\n",
       "\\end{tabular}\n"
      ],
      "text/markdown": [
       "\n",
       "id | city | n() | \n",
       "|---|---|---|---|---|---|---|---|---|---|---|---|---|---|---|---|---|---|---|---|---|---|---|---|---|---|---|---|---|---|---|---|---|---|---|---|---|---|---|---|---|---|---|---|---|---|---|---|---|---|---|---|---|---|---|---|---|---|---|---|---|\n",
       "| 28265     | хельсинки | 1         | \n",
       "| 28524     | рованиеми | 1         | \n",
       "| 28524     | хельсинки | 2         | \n",
       "| 28603     | миккели   | 1         | \n",
       "| 28866     | тампере   | 1         | \n",
       "| 28884     | тампере   | 1         | \n",
       "| 29019     | сало      | 2         | \n",
       "| 29037     | сало      | 2         | \n",
       "| 29044     | сало      | 2         | \n",
       "| 29370     | пори      | 1         | \n",
       "| 29541     | рованиеми | 1         | \n",
       "| 30439     | тампере   | 2         | \n",
       "| 30511     | куопио    | 1         | \n",
       "| 30598     | тампере   | 1         | \n",
       "| 30634     | тампере   | 1         | \n",
       "| 30891     | сейняйоки | 1         | \n",
       "| 30891     | хельсинки | 1         | \n",
       "| 30913     | хельсинки | 1         | \n",
       "| 30914     | вантаа    | 2         | \n",
       "| 30914     | йоэнсуу   | 2         | \n",
       "| 30914     | пори      | 3         | \n",
       "| 30914     | турку     | 1         | \n",
       "| 30914     | хельсинки | 6         | \n",
       "| 31198     | лахти     | 1         | \n",
       "| 31199     | лахти     | 2         | \n",
       "| 31205     | лахти     | 2         | \n",
       "| 31222     | лахти     | 2         | \n",
       "| 31241     | лахти     | 2         | \n",
       "| 31557     | хельсинки | 1         | \n",
       "| 31883     | хельсинки | 1         | \n",
       "| ⋮ | ⋮ | ⋮ | \n",
       "| 59190      | хельсинки  | 6          | \n",
       "| 59220      | лахти      | 1          | \n",
       "| 59330      | кеми       | 1          | \n",
       "| 59330      | куопио     | 1          | \n",
       "| 59330      | кухмо      | 1          | \n",
       "| 59330      | лахти      | 1          | \n",
       "| 59330      | пюхяярви   | 1          | \n",
       "| 59330      | турку      | 1          | \n",
       "| 59330      | хельсинки  | 2          | \n",
       "| 59330      | ярвенпяа   | 1          | \n",
       "| 59337      | хельсинки  | 2          | \n",
       "| 59598      | лахти      | 2          | \n",
       "| 59598      | турку      | 1          | \n",
       "| 59598      | хельсинки  | 3          | \n",
       "| 59652      | хельсинки  | 1          | \n",
       "| 59714      | лахти      | 1          | \n",
       "| 59763      | лахти      | 1          | \n",
       "| 59767      | лахти      | 1          | \n",
       "| 59959      | хельсинки  | 3          | \n",
       "| 60328      | хельсинки  | 1          | \n",
       "| 60363      | савонлинна | 1          | \n",
       "| 60479      | хельсинки  | 1          | \n",
       "| 60721      | лахти      | 3          | \n",
       "| 60721      | хельсинки  | 1          | \n",
       "| 60838      | турку      | 4          | \n",
       "| 60987      | оулу       | 1          | \n",
       "| 60996      | хельсинки  | 1          | \n",
       "| 61219      | хельсинки  | 1          | \n",
       "| 61346      | кухмо      | 2          | \n",
       "| 61353      | кухмо      | 2          | \n",
       "\n",
       "\n"
      ],
      "text/plain": [
       "    id    city       n()\n",
       "1   28265 хельсинки  1  \n",
       "2   28524 рованиеми  1  \n",
       "3   28524 хельсинки  2  \n",
       "4   28603 миккели    1  \n",
       "5   28866 тампере    1  \n",
       "6   28884 тампере    1  \n",
       "7   29019 сало       2  \n",
       "8   29037 сало       2  \n",
       "9   29044 сало       2  \n",
       "10  29370 пори       1  \n",
       "11  29541 рованиеми  1  \n",
       "12  30439 тампере    2  \n",
       "13  30511 куопио     1  \n",
       "14  30598 тампере    1  \n",
       "15  30634 тампере    1  \n",
       "16  30891 сейняйоки  1  \n",
       "17  30891 хельсинки  1  \n",
       "18  30913 хельсинки  1  \n",
       "19  30914 вантаа     2  \n",
       "20  30914 йоэнсуу    2  \n",
       "21  30914 пори       3  \n",
       "22  30914 турку      1  \n",
       "23  30914 хельсинки  6  \n",
       "24  31198 лахти      1  \n",
       "25  31199 лахти      2  \n",
       "26  31205 лахти      2  \n",
       "27  31222 лахти      2  \n",
       "28  31241 лахти      2  \n",
       "29  31557 хельсинки  1  \n",
       "30  31883 хельсинки  1  \n",
       "⋮   ⋮     ⋮          ⋮  \n",
       "439 59190 хельсинки  6  \n",
       "440 59220 лахти      1  \n",
       "441 59330 кеми       1  \n",
       "442 59330 куопио     1  \n",
       "443 59330 кухмо      1  \n",
       "444 59330 лахти      1  \n",
       "445 59330 пюхяярви   1  \n",
       "446 59330 турку      1  \n",
       "447 59330 хельсинки  2  \n",
       "448 59330 ярвенпяа   1  \n",
       "449 59337 хельсинки  2  \n",
       "450 59598 лахти      2  \n",
       "451 59598 турку      1  \n",
       "452 59598 хельсинки  3  \n",
       "453 59652 хельсинки  1  \n",
       "454 59714 лахти      1  \n",
       "455 59763 лахти      1  \n",
       "456 59767 лахти      1  \n",
       "457 59959 хельсинки  3  \n",
       "458 60328 хельсинки  1  \n",
       "459 60363 савонлинна 1  \n",
       "460 60479 хельсинки  1  \n",
       "461 60721 лахти      3  \n",
       "462 60721 хельсинки  1  \n",
       "463 60838 турку      4  \n",
       "464 60987 оулу       1  \n",
       "465 60996 хельсинки  1  \n",
       "466 61219 хельсинки  1  \n",
       "467 61346 кухмо      2  \n",
       "468 61353 кухмо      2  "
      ]
     },
     "metadata": {},
     "output_type": "display_data"
    }
   ],
   "source": [
    " \n",
    "#GivenTopicCities %>% group_by(id,city) %>% summarise(n())"
   ]
  },
  {
   "cell_type": "code",
   "execution_count": 208,
   "metadata": {
    "collapsed": true
   },
   "outputs": [
    {
     "data": {
      "text/html": [
       "<table>\n",
       "<thead><tr><th scope=col>city</th><th scope=col>CityFreq</th></tr></thead>\n",
       "<tbody>\n",
       "\t<tr><td>хельсинки   </td><td>453         </td></tr>\n",
       "\t<tr><td>турку       </td><td> 69         </td></tr>\n",
       "\t<tr><td>котка       </td><td> 53         </td></tr>\n",
       "\t<tr><td>оулу        </td><td> 49         </td></tr>\n",
       "\t<tr><td>порвоо      </td><td> 27         </td></tr>\n",
       "\t<tr><td>тампере     </td><td> 25         </td></tr>\n",
       "\t<tr><td>йоэнсуу     </td><td> 24         </td></tr>\n",
       "\t<tr><td>кеми        </td><td> 20         </td></tr>\n",
       "\t<tr><td>лахти       </td><td> 19         </td></tr>\n",
       "\t<tr><td>эспоо       </td><td> 18         </td></tr>\n",
       "\t<tr><td>иматра      </td><td> 15         </td></tr>\n",
       "\t<tr><td>хамина      </td><td> 15         </td></tr>\n",
       "\t<tr><td>куопио      </td><td> 13         </td></tr>\n",
       "\t<tr><td>вантаа      </td><td> 12         </td></tr>\n",
       "\t<tr><td>ханко       </td><td> 12         </td></tr>\n",
       "\t<tr><td>нокиа       </td><td> 11         </td></tr>\n",
       "\t<tr><td>коувола     </td><td> 10         </td></tr>\n",
       "\t<tr><td>миккели     </td><td>  8         </td></tr>\n",
       "\t<tr><td>рованиеми   </td><td>  8         </td></tr>\n",
       "\t<tr><td>савонлинна  </td><td>  8         </td></tr>\n",
       "\t<tr><td>сало        </td><td>  7         </td></tr>\n",
       "\t<tr><td>вааса       </td><td>  5         </td></tr>\n",
       "\t<tr><td>куусамо     </td><td>  5         </td></tr>\n",
       "\t<tr><td>кухмо       </td><td>  5         </td></tr>\n",
       "\t<tr><td>лайтила     </td><td>  5         </td></tr>\n",
       "\t<tr><td>раахе       </td><td>  5         </td></tr>\n",
       "\t<tr><td>керава      </td><td>  4         </td></tr>\n",
       "\t<tr><td>коккола     </td><td>  3         </td></tr>\n",
       "\t<tr><td>раума       </td><td>  3         </td></tr>\n",
       "\t<tr><td>уусикаупунки</td><td>  3         </td></tr>\n",
       "\t<tr><td>варкаус     </td><td>  2         </td></tr>\n",
       "\t<tr><td>курикка     </td><td>  2         </td></tr>\n",
       "\t<tr><td>мариехамн   </td><td>  2         </td></tr>\n",
       "\t<tr><td>наантали    </td><td>  2         </td></tr>\n",
       "\t<tr><td>пюхяярви    </td><td>  2         </td></tr>\n",
       "\t<tr><td>алаярви     </td><td>  1         </td></tr>\n",
       "\t<tr><td>валкеакоски </td><td>  1         </td></tr>\n",
       "\t<tr><td>каскинен    </td><td>  1         </td></tr>\n",
       "\t<tr><td>лохья       </td><td>  1         </td></tr>\n",
       "\t<tr><td>оривеси     </td><td>  1         </td></tr>\n",
       "\t<tr><td>оутокумпу   </td><td>  1         </td></tr>\n",
       "\t<tr><td>пиетарсаари </td><td>  1         </td></tr>\n",
       "\t<tr><td>пори        </td><td>  1         </td></tr>\n",
       "\t<tr><td>райсио      </td><td>  1         </td></tr>\n",
       "\t<tr><td>рийхимяки   </td><td>  1         </td></tr>\n",
       "\t<tr><td>сейняйоки   </td><td>  1         </td></tr>\n",
       "\t<tr><td>сомеро      </td><td>  1         </td></tr>\n",
       "\t<tr><td>суоненйоки  </td><td>  1         </td></tr>\n",
       "\t<tr><td>хаапавеси   </td><td>  1         </td></tr>\n",
       "\t<tr><td>хейнола     </td><td>  1         </td></tr>\n",
       "</tbody>\n",
       "</table>\n"
      ],
      "text/latex": [
       "\\begin{tabular}{r|ll}\n",
       " city & CityFreq\\\\\n",
       "\\hline\n",
       "\t хельсинки    & 453         \\\\\n",
       "\t турку        &  69         \\\\\n",
       "\t котка        &  53         \\\\\n",
       "\t оулу         &  49         \\\\\n",
       "\t порвоо       &  27         \\\\\n",
       "\t тампере      &  25         \\\\\n",
       "\t йоэнсуу      &  24         \\\\\n",
       "\t кеми         &  20         \\\\\n",
       "\t лахти        &  19         \\\\\n",
       "\t эспоо        &  18         \\\\\n",
       "\t иматра       &  15         \\\\\n",
       "\t хамина       &  15         \\\\\n",
       "\t куопио       &  13         \\\\\n",
       "\t вантаа       &  12         \\\\\n",
       "\t ханко        &  12         \\\\\n",
       "\t нокиа        &  11         \\\\\n",
       "\t коувола      &  10         \\\\\n",
       "\t миккели      &   8         \\\\\n",
       "\t рованиеми    &   8         \\\\\n",
       "\t савонлинна   &   8         \\\\\n",
       "\t сало         &   7         \\\\\n",
       "\t вааса        &   5         \\\\\n",
       "\t куусамо      &   5         \\\\\n",
       "\t кухмо        &   5         \\\\\n",
       "\t лайтила      &   5         \\\\\n",
       "\t раахе        &   5         \\\\\n",
       "\t керава       &   4         \\\\\n",
       "\t коккола      &   3         \\\\\n",
       "\t раума        &   3         \\\\\n",
       "\t уусикаупунки &   3         \\\\\n",
       "\t варкаус      &   2         \\\\\n",
       "\t курикка      &   2         \\\\\n",
       "\t мариехамн    &   2         \\\\\n",
       "\t наантали     &   2         \\\\\n",
       "\t пюхяярви     &   2         \\\\\n",
       "\t алаярви      &   1         \\\\\n",
       "\t валкеакоски  &   1         \\\\\n",
       "\t каскинен     &   1         \\\\\n",
       "\t лохья        &   1         \\\\\n",
       "\t оривеси      &   1         \\\\\n",
       "\t оутокумпу    &   1         \\\\\n",
       "\t пиетарсаари  &   1         \\\\\n",
       "\t пори         &   1         \\\\\n",
       "\t райсио       &   1         \\\\\n",
       "\t рийхимяки    &   1         \\\\\n",
       "\t сейняйоки    &   1         \\\\\n",
       "\t сомеро       &   1         \\\\\n",
       "\t суоненйоки   &   1         \\\\\n",
       "\t хаапавеси    &   1         \\\\\n",
       "\t хейнола      &   1         \\\\\n",
       "\\end{tabular}\n"
      ],
      "text/markdown": [
       "\n",
       "city | CityFreq | \n",
       "|---|---|---|---|---|---|---|---|---|---|---|---|---|---|---|---|---|---|---|---|---|---|---|---|---|---|---|---|---|---|---|---|---|---|---|---|---|---|---|---|---|---|---|---|---|---|---|---|---|---|\n",
       "| хельсинки    | 453          | \n",
       "| турку        |  69          | \n",
       "| котка        |  53          | \n",
       "| оулу         |  49          | \n",
       "| порвоо       |  27          | \n",
       "| тампере      |  25          | \n",
       "| йоэнсуу      |  24          | \n",
       "| кеми         |  20          | \n",
       "| лахти        |  19          | \n",
       "| эспоо        |  18          | \n",
       "| иматра       |  15          | \n",
       "| хамина       |  15          | \n",
       "| куопио       |  13          | \n",
       "| вантаа       |  12          | \n",
       "| ханко        |  12          | \n",
       "| нокиа        |  11          | \n",
       "| коувола      |  10          | \n",
       "| миккели      |   8          | \n",
       "| рованиеми    |   8          | \n",
       "| савонлинна   |   8          | \n",
       "| сало         |   7          | \n",
       "| вааса        |   5          | \n",
       "| куусамо      |   5          | \n",
       "| кухмо        |   5          | \n",
       "| лайтила      |   5          | \n",
       "| раахе        |   5          | \n",
       "| керава       |   4          | \n",
       "| коккола      |   3          | \n",
       "| раума        |   3          | \n",
       "| уусикаупунки |   3          | \n",
       "| варкаус      |   2          | \n",
       "| курикка      |   2          | \n",
       "| мариехамн    |   2          | \n",
       "| наантали     |   2          | \n",
       "| пюхяярви     |   2          | \n",
       "| алаярви      |   1          | \n",
       "| валкеакоски  |   1          | \n",
       "| каскинен     |   1          | \n",
       "| лохья        |   1          | \n",
       "| оривеси      |   1          | \n",
       "| оутокумпу    |   1          | \n",
       "| пиетарсаари  |   1          | \n",
       "| пори         |   1          | \n",
       "| райсио       |   1          | \n",
       "| рийхимяки    |   1          | \n",
       "| сейняйоки    |   1          | \n",
       "| сомеро       |   1          | \n",
       "| суоненйоки   |   1          | \n",
       "| хаапавеси    |   1          | \n",
       "| хейнола      |   1          | \n",
       "\n",
       "\n"
      ],
      "text/plain": [
       "   city         CityFreq\n",
       "1  хельсинки    453     \n",
       "2  турку         69     \n",
       "3  котка         53     \n",
       "4  оулу          49     \n",
       "5  порвоо        27     \n",
       "6  тампере       25     \n",
       "7  йоэнсуу       24     \n",
       "8  кеми          20     \n",
       "9  лахти         19     \n",
       "10 эспоо         18     \n",
       "11 иматра        15     \n",
       "12 хамина        15     \n",
       "13 куопио        13     \n",
       "14 вантаа        12     \n",
       "15 ханко         12     \n",
       "16 нокиа         11     \n",
       "17 коувола       10     \n",
       "18 миккели        8     \n",
       "19 рованиеми      8     \n",
       "20 савонлинна     8     \n",
       "21 сало           7     \n",
       "22 вааса          5     \n",
       "23 куусамо        5     \n",
       "24 кухмо          5     \n",
       "25 лайтила        5     \n",
       "26 раахе          5     \n",
       "27 керава         4     \n",
       "28 коккола        3     \n",
       "29 раума          3     \n",
       "30 уусикаупунки   3     \n",
       "31 варкаус        2     \n",
       "32 курикка        2     \n",
       "33 мариехамн      2     \n",
       "34 наантали       2     \n",
       "35 пюхяярви       2     \n",
       "36 алаярви        1     \n",
       "37 валкеакоски    1     \n",
       "38 каскинен       1     \n",
       "39 лохья          1     \n",
       "40 оривеси        1     \n",
       "41 оутокумпу      1     \n",
       "42 пиетарсаари    1     \n",
       "43 пори           1     \n",
       "44 райсио         1     \n",
       "45 рийхимяки      1     \n",
       "46 сейняйоки      1     \n",
       "47 сомеро         1     \n",
       "48 суоненйоки     1     \n",
       "49 хаапавеси      1     \n",
       "50 хейнола        1     "
      ]
     },
     "metadata": {},
     "output_type": "display_data"
    }
   ],
   "source": [
    "GivenTopicCities %>% group_by(city) %>% summarise(CityFreq = n_distinct(id)) %>% \n",
    "arrange(-CityFreq)"
   ]
  },
  {
   "cell_type": "code",
   "execution_count": 213,
   "metadata": {},
   "outputs": [
    {
     "data": {
      "text/html": [
       "<table>\n",
       "<thead><tr><th scope=col>id</th><th scope=col>Topic</th><th scope=col>TopicProportion</th><th scope=col>N</th><th scope=col>city</th><th scope=col>Fi</th><th scope=col>year</th></tr></thead>\n",
       "<tbody>\n",
       "\t<tr><td>25718    </td><td>Topic1   </td><td>0.3076581</td><td>1        </td><td>рованиеми</td><td>Rovaniemi</td><td>2001     </td></tr>\n",
       "\t<tr><td>25718    </td><td>Topic1   </td><td>0.3076581</td><td>1        </td><td>рованиеми</td><td>Rovaniemi</td><td>2001     </td></tr>\n",
       "\t<tr><td>25762    </td><td>Topic1   </td><td>0.3203050</td><td>1        </td><td>хельсинки</td><td>Helsinki </td><td>2001     </td></tr>\n",
       "\t<tr><td>26130    </td><td>Topic1   </td><td>0.4259062</td><td>1        </td><td>хельсинки</td><td>Helsinki </td><td>2001     </td></tr>\n",
       "\t<tr><td>26684    </td><td>Topic1   </td><td>0.3149951</td><td>1        </td><td>хельсинки</td><td>Helsinki </td><td>1997     </td></tr>\n",
       "\t<tr><td>26850    </td><td>Topic1   </td><td>0.3630076</td><td>1        </td><td>хельсинки</td><td>Helsinki </td><td>1998     </td></tr>\n",
       "</tbody>\n",
       "</table>\n"
      ],
      "text/latex": [
       "\\begin{tabular}{r|lllllll}\n",
       " id & Topic & TopicProportion & N & city & Fi & year\\\\\n",
       "\\hline\n",
       "\t 25718     & Topic1    & 0.3076581 & 1         & рованиеми & Rovaniemi & 2001     \\\\\n",
       "\t 25718     & Topic1    & 0.3076581 & 1         & рованиеми & Rovaniemi & 2001     \\\\\n",
       "\t 25762     & Topic1    & 0.3203050 & 1         & хельсинки & Helsinki  & 2001     \\\\\n",
       "\t 26130     & Topic1    & 0.4259062 & 1         & хельсинки & Helsinki  & 2001     \\\\\n",
       "\t 26684     & Topic1    & 0.3149951 & 1         & хельсинки & Helsinki  & 1997     \\\\\n",
       "\t 26850     & Topic1    & 0.3630076 & 1         & хельсинки & Helsinki  & 1998     \\\\\n",
       "\\end{tabular}\n"
      ],
      "text/markdown": [
       "\n",
       "id | Topic | TopicProportion | N | city | Fi | year | \n",
       "|---|---|---|---|---|---|\n",
       "| 25718     | Topic1    | 0.3076581 | 1         | рованиеми | Rovaniemi | 2001      | \n",
       "| 25718     | Topic1    | 0.3076581 | 1         | рованиеми | Rovaniemi | 2001      | \n",
       "| 25762     | Topic1    | 0.3203050 | 1         | хельсинки | Helsinki  | 2001      | \n",
       "| 26130     | Topic1    | 0.4259062 | 1         | хельсинки | Helsinki  | 2001      | \n",
       "| 26684     | Topic1    | 0.3149951 | 1         | хельсинки | Helsinki  | 1997      | \n",
       "| 26850     | Topic1    | 0.3630076 | 1         | хельсинки | Helsinki  | 1998      | \n",
       "\n",
       "\n"
      ],
      "text/plain": [
       "  id    Topic  TopicProportion N city      Fi        year\n",
       "1 25718 Topic1 0.3076581       1 рованиеми Rovaniemi 2001\n",
       "2 25718 Topic1 0.3076581       1 рованиеми Rovaniemi 2001\n",
       "3 25762 Topic1 0.3203050       1 хельсинки Helsinki  2001\n",
       "4 26130 Topic1 0.4259062       1 хельсинки Helsinki  2001\n",
       "5 26684 Topic1 0.3149951       1 хельсинки Helsinki  1997\n",
       "6 26850 Topic1 0.3630076       1 хельсинки Helsinki  1998"
      ]
     },
     "metadata": {},
     "output_type": "display_data"
    }
   ],
   "source": [
    "GivenTopicCities %>% head"
   ]
  },
  {
   "cell_type": "code",
   "execution_count": 210,
   "metadata": {},
   "outputs": [],
   "source": [
    " GivenTopicCities <-  GivenTopicCities %>% left_join(IntegrumFiCities %>% mutate(Ru = tolower(Ru)), by = c(\"city\" = \"Ru\")) "
   ]
  },
  {
   "cell_type": "code",
   "execution_count": 212,
   "metadata": {},
   "outputs": [
    {
     "name": "stderr",
     "output_type": "stream",
     "text": [
      "Joining, by = \"id\"\n"
     ]
    }
   ],
   "source": [
    " GivenTopicCities <- GivenTopicCities %>% left_join(integrumLocal  %>% select(id,year)) "
   ]
  },
  {
   "cell_type": "code",
   "execution_count": 192,
   "metadata": {},
   "outputs": [],
   "source": [
    "periods <- list(c(1997,2001),c(2002,2006),c(2007,2011),c(2012,2017))"
   ]
  },
  {
   "cell_type": "code",
   "execution_count": 214,
   "metadata": {},
   "outputs": [],
   "source": [
    "  GivenTopicCities <- GivenTopicCities %>% mutate(periods = cut(year,breaks = c(1990,1996,2001,2006,2011,2017))) "
   ]
  },
  {
   "cell_type": "code",
   "execution_count": 232,
   "metadata": {
    "collapsed": true
   },
   "outputs": [
    {
     "data": {
      "text/html": [
       "<table>\n",
       "<thead><tr><th scope=col>Fi</th><th scope=col>periods</th><th scope=col>CityFreq</th></tr></thead>\n",
       "<tbody>\n",
       "\t<tr><td>Alajärvi   </td><td>(2011,2017]</td><td>  1        </td></tr>\n",
       "\t<tr><td>Espoo      </td><td>(1996,2001]</td><td>  4        </td></tr>\n",
       "\t<tr><td>Espoo      </td><td>(2001,2006]</td><td>  1        </td></tr>\n",
       "\t<tr><td>Espoo      </td><td>(2006,2011]</td><td>  7        </td></tr>\n",
       "\t<tr><td>Espoo      </td><td>(2011,2017]</td><td>  6        </td></tr>\n",
       "\t<tr><td>Haapavesi  </td><td>(2006,2011]</td><td>  1        </td></tr>\n",
       "\t<tr><td>Hamina     </td><td>(1996,2001]</td><td>  2        </td></tr>\n",
       "\t<tr><td>Hamina     </td><td>(2001,2006]</td><td>  4        </td></tr>\n",
       "\t<tr><td>Hamina     </td><td>(2006,2011]</td><td>  8        </td></tr>\n",
       "\t<tr><td>Hamina     </td><td>(2011,2017]</td><td>  1        </td></tr>\n",
       "\t<tr><td>Hanko      </td><td>(2001,2006]</td><td>  3        </td></tr>\n",
       "\t<tr><td>Hanko      </td><td>(2006,2011]</td><td>  9        </td></tr>\n",
       "\t<tr><td>Heinola    </td><td>(1996,2001]</td><td>  1        </td></tr>\n",
       "\t<tr><td>Helsinki   </td><td>(1990,1996]</td><td>  2        </td></tr>\n",
       "\t<tr><td>Helsinki   </td><td>(1996,2001]</td><td> 96        </td></tr>\n",
       "\t<tr><td>Helsinki   </td><td>(2001,2006]</td><td>108        </td></tr>\n",
       "\t<tr><td>Helsinki   </td><td>(2006,2011]</td><td>147        </td></tr>\n",
       "\t<tr><td>Helsinki   </td><td>(2011,2017]</td><td>100        </td></tr>\n",
       "\t<tr><td>Imatra     </td><td>(1996,2001]</td><td>  3        </td></tr>\n",
       "\t<tr><td>Imatra     </td><td>(2001,2006]</td><td>  4        </td></tr>\n",
       "\t<tr><td>Imatra     </td><td>(2006,2011]</td><td>  7        </td></tr>\n",
       "\t<tr><td>Imatra     </td><td>(2011,2017]</td><td>  1        </td></tr>\n",
       "\t<tr><td>Joensuu    </td><td>(1996,2001]</td><td>  1        </td></tr>\n",
       "\t<tr><td>Joensuu    </td><td>(2001,2006]</td><td>  5        </td></tr>\n",
       "\t<tr><td>Joensuu    </td><td>(2006,2011]</td><td>  7        </td></tr>\n",
       "\t<tr><td>Joensuu    </td><td>(2011,2017]</td><td> 11        </td></tr>\n",
       "\t<tr><td>Kaskinen   </td><td>(2006,2011]</td><td>  1        </td></tr>\n",
       "\t<tr><td>Kemi       </td><td>(1996,2001]</td><td>  5        </td></tr>\n",
       "\t<tr><td>Kemi       </td><td>(2001,2006]</td><td>  4        </td></tr>\n",
       "\t<tr><td>Kemi       </td><td>(2006,2011]</td><td>  5        </td></tr>\n",
       "\t<tr><td>⋮</td><td>⋮</td><td>⋮</td></tr>\n",
       "\t<tr><td>Salo        </td><td>(1996,2001] </td><td> 2          </td></tr>\n",
       "\t<tr><td>Salo        </td><td>(2001,2006] </td><td> 1          </td></tr>\n",
       "\t<tr><td>Salo        </td><td>(2006,2011] </td><td> 4          </td></tr>\n",
       "\t<tr><td>Savonlinna  </td><td>(1990,1996] </td><td> 1          </td></tr>\n",
       "\t<tr><td>Savonlinna  </td><td>(1996,2001] </td><td> 2          </td></tr>\n",
       "\t<tr><td>Savonlinna  </td><td>(2001,2006] </td><td> 1          </td></tr>\n",
       "\t<tr><td>Savonlinna  </td><td>(2006,2011] </td><td> 1          </td></tr>\n",
       "\t<tr><td>Savonlinna  </td><td>(2011,2017] </td><td> 3          </td></tr>\n",
       "\t<tr><td>Seinäjoki   </td><td>(2011,2017] </td><td> 1          </td></tr>\n",
       "\t<tr><td>Somero      </td><td>(1996,2001] </td><td> 1          </td></tr>\n",
       "\t<tr><td>Suonenjoki  </td><td>(1996,2001] </td><td> 1          </td></tr>\n",
       "\t<tr><td>Tampere     </td><td>(1996,2001] </td><td> 4          </td></tr>\n",
       "\t<tr><td>Tampere     </td><td>(2001,2006] </td><td> 4          </td></tr>\n",
       "\t<tr><td>Tampere     </td><td>(2006,2011] </td><td>11          </td></tr>\n",
       "\t<tr><td>Tampere     </td><td>(2011,2017] </td><td> 6          </td></tr>\n",
       "\t<tr><td>Turku       </td><td>(1990,1996] </td><td> 2          </td></tr>\n",
       "\t<tr><td>Turku       </td><td>(1996,2001] </td><td>12          </td></tr>\n",
       "\t<tr><td>Turku       </td><td>(2001,2006] </td><td>21          </td></tr>\n",
       "\t<tr><td>Turku       </td><td>(2006,2011] </td><td>17          </td></tr>\n",
       "\t<tr><td>Turku       </td><td>(2011,2017] </td><td>17          </td></tr>\n",
       "\t<tr><td>Uusikaupunki</td><td>(1990,1996] </td><td> 1          </td></tr>\n",
       "\t<tr><td>Uusikaupunki</td><td>(2006,2011] </td><td> 2          </td></tr>\n",
       "\t<tr><td>Vaasa       </td><td>(2001,2006] </td><td> 1          </td></tr>\n",
       "\t<tr><td>Vaasa       </td><td>(2006,2011] </td><td> 4          </td></tr>\n",
       "\t<tr><td>Valkeakoski </td><td>(2006,2011] </td><td> 1          </td></tr>\n",
       "\t<tr><td>Vantaa      </td><td>(1996,2001] </td><td> 3          </td></tr>\n",
       "\t<tr><td>Vantaa      </td><td>(2001,2006] </td><td> 3          </td></tr>\n",
       "\t<tr><td>Vantaa      </td><td>(2006,2011] </td><td> 3          </td></tr>\n",
       "\t<tr><td>Vantaa      </td><td>(2011,2017] </td><td> 3          </td></tr>\n",
       "\t<tr><td>Varkaus     </td><td>(2001,2006] </td><td> 2          </td></tr>\n",
       "</tbody>\n",
       "</table>\n"
      ],
      "text/latex": [
       "\\begin{tabular}{r|lll}\n",
       " Fi & periods & CityFreq\\\\\n",
       "\\hline\n",
       "\t Alajärvi      & (2011,2017{]} &   1          \\\\\n",
       "\t Espoo         & (1996,2001{]} &   4          \\\\\n",
       "\t Espoo         & (2001,2006{]} &   1          \\\\\n",
       "\t Espoo         & (2006,2011{]} &   7          \\\\\n",
       "\t Espoo         & (2011,2017{]} &   6          \\\\\n",
       "\t Haapavesi     & (2006,2011{]} &   1          \\\\\n",
       "\t Hamina        & (1996,2001{]} &   2          \\\\\n",
       "\t Hamina        & (2001,2006{]} &   4          \\\\\n",
       "\t Hamina        & (2006,2011{]} &   8          \\\\\n",
       "\t Hamina        & (2011,2017{]} &   1          \\\\\n",
       "\t Hanko         & (2001,2006{]} &   3          \\\\\n",
       "\t Hanko         & (2006,2011{]} &   9          \\\\\n",
       "\t Heinola       & (1996,2001{]} &   1          \\\\\n",
       "\t Helsinki      & (1990,1996{]} &   2          \\\\\n",
       "\t Helsinki      & (1996,2001{]} &  96          \\\\\n",
       "\t Helsinki      & (2001,2006{]} & 108          \\\\\n",
       "\t Helsinki      & (2006,2011{]} & 147          \\\\\n",
       "\t Helsinki      & (2011,2017{]} & 100          \\\\\n",
       "\t Imatra        & (1996,2001{]} &   3          \\\\\n",
       "\t Imatra        & (2001,2006{]} &   4          \\\\\n",
       "\t Imatra        & (2006,2011{]} &   7          \\\\\n",
       "\t Imatra        & (2011,2017{]} &   1          \\\\\n",
       "\t Joensuu       & (1996,2001{]} &   1          \\\\\n",
       "\t Joensuu       & (2001,2006{]} &   5          \\\\\n",
       "\t Joensuu       & (2006,2011{]} &   7          \\\\\n",
       "\t Joensuu       & (2011,2017{]} &  11          \\\\\n",
       "\t Kaskinen      & (2006,2011{]} &   1          \\\\\n",
       "\t Kemi          & (1996,2001{]} &   5          \\\\\n",
       "\t Kemi          & (2001,2006{]} &   4          \\\\\n",
       "\t Kemi          & (2006,2011{]} &   5          \\\\\n",
       "\t ⋮ & ⋮ & ⋮\\\\\n",
       "\t Salo          & (1996,2001{]} &  2           \\\\\n",
       "\t Salo          & (2001,2006{]} &  1           \\\\\n",
       "\t Salo          & (2006,2011{]} &  4           \\\\\n",
       "\t Savonlinna    & (1990,1996{]} &  1           \\\\\n",
       "\t Savonlinna    & (1996,2001{]} &  2           \\\\\n",
       "\t Savonlinna    & (2001,2006{]} &  1           \\\\\n",
       "\t Savonlinna    & (2006,2011{]} &  1           \\\\\n",
       "\t Savonlinna    & (2011,2017{]} &  3           \\\\\n",
       "\t Seinäjoki     & (2011,2017{]} &  1           \\\\\n",
       "\t Somero        & (1996,2001{]} &  1           \\\\\n",
       "\t Suonenjoki    & (1996,2001{]} &  1           \\\\\n",
       "\t Tampere       & (1996,2001{]} &  4           \\\\\n",
       "\t Tampere       & (2001,2006{]} &  4           \\\\\n",
       "\t Tampere       & (2006,2011{]} & 11           \\\\\n",
       "\t Tampere       & (2011,2017{]} &  6           \\\\\n",
       "\t Turku         & (1990,1996{]} &  2           \\\\\n",
       "\t Turku         & (1996,2001{]} & 12           \\\\\n",
       "\t Turku         & (2001,2006{]} & 21           \\\\\n",
       "\t Turku         & (2006,2011{]} & 17           \\\\\n",
       "\t Turku         & (2011,2017{]} & 17           \\\\\n",
       "\t Uusikaupunki  & (1990,1996{]} &  1           \\\\\n",
       "\t Uusikaupunki  & (2006,2011{]} &  2           \\\\\n",
       "\t Vaasa         & (2001,2006{]} &  1           \\\\\n",
       "\t Vaasa         & (2006,2011{]} &  4           \\\\\n",
       "\t Valkeakoski   & (2006,2011{]} &  1           \\\\\n",
       "\t Vantaa        & (1996,2001{]} &  3           \\\\\n",
       "\t Vantaa        & (2001,2006{]} &  3           \\\\\n",
       "\t Vantaa        & (2006,2011{]} &  3           \\\\\n",
       "\t Vantaa        & (2011,2017{]} &  3           \\\\\n",
       "\t Varkaus       & (2001,2006{]} &  2           \\\\\n",
       "\\end{tabular}\n"
      ],
      "text/markdown": [
       "\n",
       "Fi | periods | CityFreq | \n",
       "|---|---|---|---|---|---|---|---|---|---|---|---|---|---|---|---|---|---|---|---|---|---|---|---|---|---|---|---|---|---|---|---|---|---|---|---|---|---|---|---|---|---|---|---|---|---|---|---|---|---|---|---|---|---|---|---|---|---|---|---|---|\n",
       "| Alajärvi    | (2011,2017] |   1         | \n",
       "| Espoo       | (1996,2001] |   4         | \n",
       "| Espoo       | (2001,2006] |   1         | \n",
       "| Espoo       | (2006,2011] |   7         | \n",
       "| Espoo       | (2011,2017] |   6         | \n",
       "| Haapavesi   | (2006,2011] |   1         | \n",
       "| Hamina      | (1996,2001] |   2         | \n",
       "| Hamina      | (2001,2006] |   4         | \n",
       "| Hamina      | (2006,2011] |   8         | \n",
       "| Hamina      | (2011,2017] |   1         | \n",
       "| Hanko       | (2001,2006] |   3         | \n",
       "| Hanko       | (2006,2011] |   9         | \n",
       "| Heinola     | (1996,2001] |   1         | \n",
       "| Helsinki    | (1990,1996] |   2         | \n",
       "| Helsinki    | (1996,2001] |  96         | \n",
       "| Helsinki    | (2001,2006] | 108         | \n",
       "| Helsinki    | (2006,2011] | 147         | \n",
       "| Helsinki    | (2011,2017] | 100         | \n",
       "| Imatra      | (1996,2001] |   3         | \n",
       "| Imatra      | (2001,2006] |   4         | \n",
       "| Imatra      | (2006,2011] |   7         | \n",
       "| Imatra      | (2011,2017] |   1         | \n",
       "| Joensuu     | (1996,2001] |   1         | \n",
       "| Joensuu     | (2001,2006] |   5         | \n",
       "| Joensuu     | (2006,2011] |   7         | \n",
       "| Joensuu     | (2011,2017] |  11         | \n",
       "| Kaskinen    | (2006,2011] |   1         | \n",
       "| Kemi        | (1996,2001] |   5         | \n",
       "| Kemi        | (2001,2006] |   4         | \n",
       "| Kemi        | (2006,2011] |   5         | \n",
       "| ⋮ | ⋮ | ⋮ | \n",
       "| Salo         | (1996,2001]  |  2           | \n",
       "| Salo         | (2001,2006]  |  1           | \n",
       "| Salo         | (2006,2011]  |  4           | \n",
       "| Savonlinna   | (1990,1996]  |  1           | \n",
       "| Savonlinna   | (1996,2001]  |  2           | \n",
       "| Savonlinna   | (2001,2006]  |  1           | \n",
       "| Savonlinna   | (2006,2011]  |  1           | \n",
       "| Savonlinna   | (2011,2017]  |  3           | \n",
       "| Seinäjoki    | (2011,2017]  |  1           | \n",
       "| Somero       | (1996,2001]  |  1           | \n",
       "| Suonenjoki   | (1996,2001]  |  1           | \n",
       "| Tampere      | (1996,2001]  |  4           | \n",
       "| Tampere      | (2001,2006]  |  4           | \n",
       "| Tampere      | (2006,2011]  | 11           | \n",
       "| Tampere      | (2011,2017]  |  6           | \n",
       "| Turku        | (1990,1996]  |  2           | \n",
       "| Turku        | (1996,2001]  | 12           | \n",
       "| Turku        | (2001,2006]  | 21           | \n",
       "| Turku        | (2006,2011]  | 17           | \n",
       "| Turku        | (2011,2017]  | 17           | \n",
       "| Uusikaupunki | (1990,1996]  |  1           | \n",
       "| Uusikaupunki | (2006,2011]  |  2           | \n",
       "| Vaasa        | (2001,2006]  |  1           | \n",
       "| Vaasa        | (2006,2011]  |  4           | \n",
       "| Valkeakoski  | (2006,2011]  |  1           | \n",
       "| Vantaa       | (1996,2001]  |  3           | \n",
       "| Vantaa       | (2001,2006]  |  3           | \n",
       "| Vantaa       | (2006,2011]  |  3           | \n",
       "| Vantaa       | (2011,2017]  |  3           | \n",
       "| Varkaus      | (2001,2006]  |  2           | \n",
       "\n",
       "\n"
      ],
      "text/plain": [
       "    Fi           periods     CityFreq\n",
       "1   Alajärvi     (2011,2017]   1     \n",
       "2   Espoo        (1996,2001]   4     \n",
       "3   Espoo        (2001,2006]   1     \n",
       "4   Espoo        (2006,2011]   7     \n",
       "5   Espoo        (2011,2017]   6     \n",
       "6   Haapavesi    (2006,2011]   1     \n",
       "7   Hamina       (1996,2001]   2     \n",
       "8   Hamina       (2001,2006]   4     \n",
       "9   Hamina       (2006,2011]   8     \n",
       "10  Hamina       (2011,2017]   1     \n",
       "11  Hanko        (2001,2006]   3     \n",
       "12  Hanko        (2006,2011]   9     \n",
       "13  Heinola      (1996,2001]   1     \n",
       "14  Helsinki     (1990,1996]   2     \n",
       "15  Helsinki     (1996,2001]  96     \n",
       "16  Helsinki     (2001,2006] 108     \n",
       "17  Helsinki     (2006,2011] 147     \n",
       "18  Helsinki     (2011,2017] 100     \n",
       "19  Imatra       (1996,2001]   3     \n",
       "20  Imatra       (2001,2006]   4     \n",
       "21  Imatra       (2006,2011]   7     \n",
       "22  Imatra       (2011,2017]   1     \n",
       "23  Joensuu      (1996,2001]   1     \n",
       "24  Joensuu      (2001,2006]   5     \n",
       "25  Joensuu      (2006,2011]   7     \n",
       "26  Joensuu      (2011,2017]  11     \n",
       "27  Kaskinen     (2006,2011]   1     \n",
       "28  Kemi         (1996,2001]   5     \n",
       "29  Kemi         (2001,2006]   4     \n",
       "30  Kemi         (2006,2011]   5     \n",
       "⋮   ⋮            ⋮           ⋮       \n",
       "95  Salo         (1996,2001]  2      \n",
       "96  Salo         (2001,2006]  1      \n",
       "97  Salo         (2006,2011]  4      \n",
       "98  Savonlinna   (1990,1996]  1      \n",
       "99  Savonlinna   (1996,2001]  2      \n",
       "100 Savonlinna   (2001,2006]  1      \n",
       "101 Savonlinna   (2006,2011]  1      \n",
       "102 Savonlinna   (2011,2017]  3      \n",
       "103 Seinäjoki    (2011,2017]  1      \n",
       "104 Somero       (1996,2001]  1      \n",
       "105 Suonenjoki   (1996,2001]  1      \n",
       "106 Tampere      (1996,2001]  4      \n",
       "107 Tampere      (2001,2006]  4      \n",
       "108 Tampere      (2006,2011] 11      \n",
       "109 Tampere      (2011,2017]  6      \n",
       "110 Turku        (1990,1996]  2      \n",
       "111 Turku        (1996,2001] 12      \n",
       "112 Turku        (2001,2006] 21      \n",
       "113 Turku        (2006,2011] 17      \n",
       "114 Turku        (2011,2017] 17      \n",
       "115 Uusikaupunki (1990,1996]  1      \n",
       "116 Uusikaupunki (2006,2011]  2      \n",
       "117 Vaasa        (2001,2006]  1      \n",
       "118 Vaasa        (2006,2011]  4      \n",
       "119 Valkeakoski  (2006,2011]  1      \n",
       "120 Vantaa       (1996,2001]  3      \n",
       "121 Vantaa       (2001,2006]  3      \n",
       "122 Vantaa       (2006,2011]  3      \n",
       "123 Vantaa       (2011,2017]  3      \n",
       "124 Varkaus      (2001,2006]  2      "
      ]
     },
     "metadata": {},
     "output_type": "display_data"
    }
   ],
   "source": [
    "GivenTopicCities %>% group_by(Fi,periods) %>% summarise(CityFreq = n_distinct(id)) %>% \n",
    "arrange(Fi,periods)"
   ]
  },
  {
   "cell_type": "code",
   "execution_count": 219,
   "metadata": {},
   "outputs": [],
   "source": [
    "EconomyCitiesPeriodsRegion1 <- GivenTopicCities %>% group_by(Fi,periods) %>% summarise(CityFreq = n_distinct(id)) %>% \n",
    "arrange(Fi,periods)"
   ]
  },
  {
   "cell_type": "code",
   "execution_count": 229,
   "metadata": {},
   "outputs": [],
   "source": [
    "FiveYperiods <- sort(unique(EconomyCitiesPeriodsRegion1$periods))\n"
   ]
  },
  {
   "cell_type": "code",
   "execution_count": 136,
   "metadata": {},
   "outputs": [
    {
     "data": {
      "text/plain": [
       "[1] \"2018-05-31 13:15:13 UTC\""
      ]
     },
     "metadata": {},
     "output_type": "display_data"
    }
   ],
   "source": [
    "Sys.time()"
   ]
  },
  {
   "cell_type": "code",
   "execution_count": 269,
   "metadata": {},
   "outputs": [
    {
     "data": {
      "text/html": [
       "<table>\n",
       "<thead><tr><th scope=col>Fi</th><th scope=col>periods</th><th scope=col>CityFreq</th></tr></thead>\n",
       "<tbody>\n",
       "\t<tr><td>Turku      </td><td>(1990,1996]</td><td> 2         </td></tr>\n",
       "\t<tr><td>Turku      </td><td>(1996,2001]</td><td>12         </td></tr>\n",
       "\t<tr><td>Turku      </td><td>(2001,2006]</td><td>21         </td></tr>\n",
       "\t<tr><td>Turku      </td><td>(2006,2011]</td><td>17         </td></tr>\n",
       "\t<tr><td>Turku      </td><td>(2011,2017]</td><td>17         </td></tr>\n",
       "</tbody>\n",
       "</table>\n"
      ],
      "text/latex": [
       "\\begin{tabular}{r|lll}\n",
       " Fi & periods & CityFreq\\\\\n",
       "\\hline\n",
       "\t Turku         & (1990,1996{]} &  2           \\\\\n",
       "\t Turku         & (1996,2001{]} & 12           \\\\\n",
       "\t Turku         & (2001,2006{]} & 21           \\\\\n",
       "\t Turku         & (2006,2011{]} & 17           \\\\\n",
       "\t Turku         & (2011,2017{]} & 17           \\\\\n",
       "\\end{tabular}\n"
      ],
      "text/markdown": [
       "\n",
       "Fi | periods | CityFreq | \n",
       "|---|---|---|---|---|\n",
       "| Turku       | (1990,1996] |  2          | \n",
       "| Turku       | (1996,2001] | 12          | \n",
       "| Turku       | (2001,2006] | 21          | \n",
       "| Turku       | (2006,2011] | 17          | \n",
       "| Turku       | (2011,2017] | 17          | \n",
       "\n",
       "\n"
      ],
      "text/plain": [
       "  Fi    periods     CityFreq\n",
       "1 Turku (1990,1996]  2      \n",
       "2 Turku (1996,2001] 12      \n",
       "3 Turku (2001,2006] 21      \n",
       "4 Turku (2006,2011] 17      \n",
       "5 Turku (2011,2017] 17      "
      ]
     },
     "metadata": {},
     "output_type": "display_data"
    }
   ],
   "source": [
    "EconomyCitiesPeriodsRegion1 %>% arrange(Fi,periods) %>% filter(Fi==\"Turku\")"
   ]
  },
  {
   "cell_type": "code",
   "execution_count": 260,
   "metadata": {},
   "outputs": [
    {
     "name": "stderr",
     "output_type": "stream",
     "text": [
      "Warning message in write.csv(EconomyCitiesPeriodsRegion1 %>% filter(periods == FiveYperiods[i]), :\n",
      "“attempt to set 'col.names' ignored”Warning message in write.csv(EconomyCitiesPeriodsRegion1 %>% filter(periods == FiveYperiods[i]), :\n",
      "“attempt to set 'col.names' ignored”Warning message in write.csv(EconomyCitiesPeriodsRegion1 %>% filter(periods == FiveYperiods[i]), :\n",
      "“attempt to set 'col.names' ignored”Warning message in write.csv(EconomyCitiesPeriodsRegion1 %>% filter(periods == FiveYperiods[i]), :\n",
      "“attempt to set 'col.names' ignored”Warning message in write.csv(EconomyCitiesPeriodsRegion1 %>% filter(periods == FiveYperiods[i]), :\n",
      "“attempt to set 'col.names' ignored”"
     ]
    }
   ],
   "source": [
    "for(i in 1:length(FiveYperiods))\n",
    "    {\n",
    "    filenam <-  file.path(\"Places\",paste(\"EconomyCitiesRegIn\",FiveYperiods[i],\".csv\",sep=\"\"))\n",
    "   write.csv(EconomyCitiesPeriodsRegion1 %>% filter(periods==FiveYperiods[i]),file = filenam, row.names = F,\n",
    "          col.names = F)\n",
    "    }"
   ]
  },
  {
   "cell_type": "code",
   "execution_count": 235,
   "metadata": {},
   "outputs": [
    {
     "data": {
      "text/html": [
       "'EconomyCitiesRegIn (1990,1996]'"
      ],
      "text/latex": [
       "'EconomyCitiesRegIn (1990,1996{]}'"
      ],
      "text/markdown": [
       "'EconomyCitiesRegIn (1990,1996]'"
      ],
      "text/plain": [
       "[1] \"EconomyCitiesRegIn (1990,1996]\""
      ]
     },
     "metadata": {},
     "output_type": "display_data"
    }
   ],
   "source": [
    " paste(\"EconomyCitiesRegIn\",FiveYperiods[1])"
   ]
  },
  {
   "cell_type": "code",
   "execution_count": 256,
   "metadata": {},
   "outputs": [],
   "source": [
    "i = 1"
   ]
  },
  {
   "cell_type": "code",
   "execution_count": 258,
   "metadata": {},
   "outputs": [
    {
     "data": {
      "text/html": [
       "'Places/EconomyCitiesRegIn(1990,1996].csv'"
      ],
      "text/latex": [
       "'Places/EconomyCitiesRegIn(1990,1996{]}.csv'"
      ],
      "text/markdown": [
       "'Places/EconomyCitiesRegIn(1990,1996].csv'"
      ],
      "text/plain": [
       "[1] \"Places/EconomyCitiesRegIn(1990,1996].csv\""
      ]
     },
     "metadata": {},
     "output_type": "display_data"
    }
   ],
   "source": [
    "file.path(\"Places\",paste(\"EconomyCitiesRegIn\",FiveYperiods[i],\".csv\",sep=\"\"))"
   ]
  },
  {
   "cell_type": "code",
   "execution_count": 273,
   "metadata": {},
   "outputs": [
    {
     "name": "stderr",
     "output_type": "stream",
     "text": [
      "Loading required package: ggplot2\n"
     ]
    }
   ],
   "source": [
    "library(\"ggmap\")"
   ]
  },
  {
   "cell_type": "code",
   "execution_count": null,
   "metadata": {},
   "outputs": [],
   "source": []
  }
 ],
 "metadata": {
  "kernelspec": {
   "display_name": "R",
   "language": "R",
   "name": "ir"
  },
  "language_info": {
   "codemirror_mode": "r",
   "file_extension": ".r",
   "mimetype": "text/x-r-source",
   "name": "R",
   "pygments_lexer": "r",
   "version": "3.4.4"
  }
 },
 "nbformat": 4,
 "nbformat_minor": 2
}
