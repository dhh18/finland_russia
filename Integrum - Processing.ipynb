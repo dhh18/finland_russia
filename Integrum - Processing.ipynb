{
 "cells": [
  {
   "cell_type": "code",
   "execution_count": 26,
   "metadata": {},
   "outputs": [
    {
     "name": "stdout",
     "output_type": "stream",
     "text": [
      "The autoreload extension is already loaded. To reload it, use:\n",
      "  %reload_ext autoreload\n"
     ]
    }
   ],
   "source": [
    "# System libraries:\n",
    "%load_ext autoreload\n",
    "import pandas as pd\n",
    "import json\n",
    "import nltk\n",
    "import numpy as np\n",
    "import os\n",
    "import sys\n",
    "from IPython.core.interactiveshell import InteractiveShell\n",
    "from pymystem3 import Mystem\n",
    "from nltk.tokenize import word_tokenize\n",
    "from nltk.corpus import stopwords\n",
    "import string\n",
    "InteractiveShell.ast_node_interactivity = \"all\""
   ]
  },
  {
   "cell_type": "code",
   "execution_count": 17,
   "metadata": {},
   "outputs": [],
   "source": [
    "def import_integrum():\n",
    "    data = pd.read_csv('data/integrum_russian_mentionning_finaland.csv')\n",
    "    rename_cols = {'Title':'headline', 'Text':'content', 'ID':'id', 'Date':'date'}\n",
    "\n",
    "    data = data.rename(rename_cols, axis = 'columns')\n",
    "    \n",
    "    return data\n",
    "    \n",
    "#data = import_integrum()\n",
    "\n",
    "#data.to_csv('/var/www/html/work/compressed/data/russia_finland/processed/integrum_processed.csv', index = False)"
   ]
  },
  {
   "cell_type": "code",
   "execution_count": 21,
   "metadata": {},
   "outputs": [
    {
     "name": "stdout",
     "output_type": "stream",
     "text": [
      "Loading from CSV\n"
     ]
    }
   ],
   "source": [
    "mod = False\n",
    "data = None\n",
    "if mod:\n",
    "    print(\"Regenerating data\")\n",
    "    data = import_integrum()\n",
    "else:\n",
    "    print(\"Loading from CSV\")\n",
    "    data = pd.read_csv('/var/www/html/work/compressed/data/russia_finland/processed/integrum_processed.csv')\n",
    "    "
   ]
  },
  {
   "cell_type": "code",
   "execution_count": 27,
   "metadata": {},
   "outputs": [],
   "source": [
    "# Lemmatization functions:\n",
    "stop_words = stopwords.words('russian') + list(string.punctuation)\n",
    "m = Mystem()\n",
    "\n",
    "def tokenize_text(text):\n",
    "    word_tokens = word_tokenize(text)\n",
    "    filtered_sentence = [w for w in word_tokens if not w in stop_words]\n",
    "    return filtered_sentence\n",
    "    \n",
    "def lemmatize_text(text):\n",
    "    return [m.lemmatize(w)[0] for w in text]\n",
    "\n",
    "def tokenize_and_lemmatize(text):\n",
    "    tokenized = tokenize_text(text)\n",
    "    lemmatized = lemmatize_text(tokenized)\n",
    "    return lemmatized"
   ]
  },
  {
   "cell_type": "code",
   "execution_count": 28,
   "metadata": {},
   "outputs": [],
   "source": [
    "# lemmatize content:\n",
    "lemmas_content = data.content.apply(tokenize_and_lemmatize)\n",
    "lemmas_content.name = 'lemmas_content'\n",
    "\n",
    "# lemmatize headlines:\n",
    "lemmas_headline = data.headline.apply(tokenize_and_lemmatize)\n",
    "lemmas_headline.name = 'lemmas_headline'\n",
    "\n",
    "lemmas = pd.concat([lemmas_headline, lemmas_content], axis = 1)\n",
    "lemmas.to_csv('/var/www/html/work/compressed/data/russia_finland/processed/integrum_lemmas.csv', header = True, index = False)"
   ]
  },
  {
   "cell_type": "code",
   "execution_count": null,
   "metadata": {},
   "outputs": [],
   "source": [
    "#data = pd.concat([data, lemmas], axis = 1)"
   ]
  },
  {
   "cell_type": "code",
   "execution_count": 30,
   "metadata": {},
   "outputs": [
    {
     "data": {
      "text/html": [
       "<div>\n",
       "<style scoped>\n",
       "    .dataframe tbody tr th:only-of-type {\n",
       "        vertical-align: middle;\n",
       "    }\n",
       "\n",
       "    .dataframe tbody tr th {\n",
       "        vertical-align: top;\n",
       "    }\n",
       "\n",
       "    .dataframe thead th {\n",
       "        text-align: right;\n",
       "    }\n",
       "</style>\n",
       "<table border=\"1\" class=\"dataframe\">\n",
       "  <thead>\n",
       "    <tr style=\"text-align: right;\">\n",
       "      <th></th>\n",
       "      <th>id</th>\n",
       "      <th>date</th>\n",
       "      <th>MediaDetail</th>\n",
       "      <th>MediaShort</th>\n",
       "      <th>headline</th>\n",
       "      <th>content</th>\n",
       "    </tr>\n",
       "  </thead>\n",
       "  <tbody>\n",
       "    <tr>\n",
       "      <th>47136</th>\n",
       "      <td>47137</td>\n",
       "      <td>12.01.1999</td>\n",
       "      <td>санкт-петербургские ведомости</td>\n",
       "      <td>Санкт-Петербургские Ведомости</td>\n",
       "      <td>Гатчина _ первый побратим Эспоо</td>\n",
       "      <td>Гатчина _ первый побратим Эспоо Город Эспоо _ ...</td>\n",
       "    </tr>\n",
       "    <tr>\n",
       "      <th>49478</th>\n",
       "      <td>49479</td>\n",
       "      <td>01.09.2001</td>\n",
       "      <td>санкт-петербургские ведомости</td>\n",
       "      <td>Санкт-Петербургские Ведомости</td>\n",
       "      <td>Зверское убийство в Эспоо</td>\n",
       "      <td>Зверское убийство в Эспоо Полиция задержала по...</td>\n",
       "    </tr>\n",
       "  </tbody>\n",
       "</table>\n",
       "</div>"
      ],
      "text/plain": [
       "          id        date                    MediaDetail  \\\n",
       "47136  47137  12.01.1999  санкт-петербургские ведомости   \n",
       "49478  49479  01.09.2001  санкт-петербургские ведомости   \n",
       "\n",
       "                          MediaShort                          headline  \\\n",
       "47136  Санкт-Петербургские Ведомости  Гатчина _ первый побратим Эспоо    \n",
       "49478  Санкт-Петербургские Ведомости        Зверское убийство в Эспоо    \n",
       "\n",
       "                                                 content  \n",
       "47136  Гатчина _ первый побратим Эспоо Город Эспоо _ ...  \n",
       "49478  Зверское убийство в Эспоо Полиция задержала по...  "
      ]
     },
     "execution_count": 30,
     "metadata": {},
     "output_type": "execute_result"
    }
   ],
   "source": [
    "# Enter your search string:\n",
    "search_string = 'Эспоо'\n",
    "results = data[data['headline'].str.contains(search_string)]\n",
    "\n",
    "# Get all results matching search string\n",
    "results"
   ]
  },
  {
   "cell_type": "code",
   "execution_count": null,
   "metadata": {},
   "outputs": [],
   "source": []
  }
 ],
 "metadata": {
  "kernelspec": {
   "display_name": "finland_russia",
   "language": "python",
   "name": "finland_russia"
  },
  "language_info": {
   "codemirror_mode": {
    "name": "ipython",
    "version": 3
   },
   "file_extension": ".py",
   "mimetype": "text/x-python",
   "name": "python",
   "nbconvert_exporter": "python",
   "pygments_lexer": "ipython3",
   "version": "3.5.2"
  }
 },
 "nbformat": 4,
 "nbformat_minor": 2
}
