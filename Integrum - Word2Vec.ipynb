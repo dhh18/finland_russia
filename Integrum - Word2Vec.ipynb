{
 "cells": [
  {
   "cell_type": "code",
   "execution_count": 4,
   "metadata": {
    "scrolled": true
   },
   "outputs": [],
   "source": [
    "# System libraries:\n",
    "%load_ext autoreload\n",
    "import gensim, logging\n",
    "logging.basicConfig(format='%(asctime)s : %(levelname)s : %(message)s', level=logging.INFO)\n",
    "import pandas as pd\n",
    "import json\n",
    "import nltk\n",
    "import numpy as np\n",
    "import os\n",
    "import sys\n",
    "from IPython.core.interactiveshell import InteractiveShell\n",
    "from pymystem3 import Mystem\n",
    "from nltk.tokenize import word_tokenize\n",
    "from nltk.corpus import stopwords\n",
    "import string\n",
    "from collections import Counter\n",
    "from wordcloud import WordCloud\n",
    "import matplotlib.pyplot as plt\n",
    "from datetime import datetime\n",
    "import re\n",
    "import gensim.downloader as api\n",
    "from gensim.models import TfidfModel\n",
    "from gensim.corpora import Dictionary\n",
    "InteractiveShell.ast_node_interactivity = \"all\""
   ]
  },
  {
   "cell_type": "code",
   "execution_count": 5,
   "metadata": {},
   "outputs": [],
   "source": [
    "integrum_local_lemmas = pd.read_csv('data/processed/integrum_local_lemmas.csv', converters = {'lemmas_content' : eval, 'lemmas_headline':eval})\n",
    "integrum_federal_lemmas = pd.read_csv('data/processed/integrum_federal_lemmas.csv', converters = {'lemmas_content' : eval, 'lemmas_headline':eval})"
   ]
  },
  {
   "cell_type": "code",
   "execution_count": 6,
   "metadata": {},
   "outputs": [
    {
     "name": "stderr",
     "output_type": "stream",
     "text": [
      "2018-05-29 13:18:55,674 : INFO : collecting all words and their counts\n",
      "2018-05-29 13:18:55,677 : INFO : PROGRESS: at sentence #0, processed 0 words, keeping 0 word types\n",
      "2018-05-29 13:18:56,890 : INFO : PROGRESS: at sentence #10000, processed 3849812 words, keeping 95908 word types\n",
      "2018-05-29 13:18:58,555 : INFO : PROGRESS: at sentence #20000, processed 8794850 words, keeping 138728 word types\n",
      "2018-05-29 13:19:00,097 : INFO : PROGRESS: at sentence #30000, processed 13515149 words, keeping 177293 word types\n",
      "2018-05-29 13:19:01,315 : INFO : collected 201515 word types from a corpus of 16945329 raw words and 36017 sentences\n",
      "2018-05-29 13:19:01,316 : INFO : Loading a fresh vocabulary\n",
      "2018-05-29 13:19:04,089 : INFO : min_count=1 retains 201515 unique words (100% of original 201515, drops 0)\n",
      "2018-05-29 13:19:04,090 : INFO : min_count=1 leaves 16945329 word corpus (100% of original 16945329, drops 0)\n",
      "2018-05-29 13:19:04,740 : INFO : deleting the raw counts dictionary of 201515 items\n",
      "2018-05-29 13:19:04,760 : INFO : sample=0.001 downsamples 15 most-common words\n",
      "2018-05-29 13:19:04,761 : INFO : downsampling leaves estimated 16251288 word corpus (95.9% of prior 16945329)\n",
      "2018-05-29 13:19:05,957 : INFO : estimated required memory for 201515 words and 100 dimensions: 261969500 bytes\n",
      "2018-05-29 13:19:05,959 : INFO : resetting layer weights\n",
      "2018-05-29 13:19:08,604 : INFO : training model with 3 workers on 201515 vocabulary and 100 features, using sg=0 hs=0 sample=0.001 negative=5 window=5\n",
      "2018-05-29 13:19:09,617 : INFO : EPOCH 1 - PROGRESS: at 6.79% examples, 728603 words/s, in_qsize 5, out_qsize 0\n",
      "2018-05-29 13:19:10,622 : INFO : EPOCH 1 - PROGRESS: at 14.94% examples, 813240 words/s, in_qsize 5, out_qsize 0\n",
      "2018-05-29 13:19:11,640 : INFO : EPOCH 1 - PROGRESS: at 21.48% examples, 828203 words/s, in_qsize 5, out_qsize 0\n",
      "2018-05-29 13:19:12,643 : INFO : EPOCH 1 - PROGRESS: at 25.89% examples, 835058 words/s, in_qsize 5, out_qsize 0\n",
      "2018-05-29 13:19:13,648 : INFO : EPOCH 1 - PROGRESS: at 31.06% examples, 836253 words/s, in_qsize 5, out_qsize 0\n",
      "2018-05-29 13:19:14,666 : INFO : EPOCH 1 - PROGRESS: at 35.59% examples, 839445 words/s, in_qsize 5, out_qsize 0\n",
      "2018-05-29 13:19:15,669 : INFO : EPOCH 1 - PROGRESS: at 41.07% examples, 840823 words/s, in_qsize 5, out_qsize 0\n",
      "2018-05-29 13:19:16,673 : INFO : EPOCH 1 - PROGRESS: at 46.13% examples, 841906 words/s, in_qsize 5, out_qsize 0\n",
      "2018-05-29 13:19:17,683 : INFO : EPOCH 1 - PROGRESS: at 51.61% examples, 843581 words/s, in_qsize 5, out_qsize 0\n",
      "2018-05-29 13:19:18,683 : INFO : EPOCH 1 - PROGRESS: at 56.54% examples, 843329 words/s, in_qsize 5, out_qsize 0\n",
      "2018-05-29 13:19:19,701 : INFO : EPOCH 1 - PROGRESS: at 63.24% examples, 838836 words/s, in_qsize 5, out_qsize 0\n",
      "2018-05-29 13:19:20,720 : INFO : EPOCH 1 - PROGRESS: at 69.88% examples, 840477 words/s, in_qsize 4, out_qsize 1\n",
      "2018-05-29 13:19:21,730 : INFO : EPOCH 1 - PROGRESS: at 74.32% examples, 837088 words/s, in_qsize 5, out_qsize 0\n",
      "2018-05-29 13:19:22,732 : INFO : EPOCH 1 - PROGRESS: at 78.40% examples, 836346 words/s, in_qsize 5, out_qsize 0\n",
      "2018-05-29 13:19:23,745 : INFO : EPOCH 1 - PROGRESS: at 82.17% examples, 831233 words/s, in_qsize 4, out_qsize 1\n",
      "2018-05-29 13:19:24,745 : INFO : EPOCH 1 - PROGRESS: at 86.13% examples, 826712 words/s, in_qsize 5, out_qsize 0\n",
      "2018-05-29 13:19:25,756 : INFO : EPOCH 1 - PROGRESS: at 90.54% examples, 826245 words/s, in_qsize 5, out_qsize 0\n",
      "2018-05-29 13:19:26,776 : INFO : EPOCH 1 - PROGRESS: at 94.69% examples, 826602 words/s, in_qsize 5, out_qsize 0\n",
      "2018-05-29 13:19:27,777 : INFO : EPOCH 1 - PROGRESS: at 98.74% examples, 829208 words/s, in_qsize 5, out_qsize 0\n",
      "2018-05-29 13:19:28,069 : INFO : worker thread finished; awaiting finish of 2 more threads\n",
      "2018-05-29 13:19:28,082 : INFO : worker thread finished; awaiting finish of 1 more threads\n",
      "2018-05-29 13:19:28,089 : INFO : worker thread finished; awaiting finish of 0 more threads\n",
      "2018-05-29 13:19:28,090 : INFO : EPOCH - 1 : training on 16945329 raw words (16157209 effective words) took 19.5s, 829408 effective words/s\n",
      "2018-05-29 13:19:29,108 : INFO : EPOCH 2 - PROGRESS: at 6.91% examples, 742584 words/s, in_qsize 3, out_qsize 2\n",
      "2018-05-29 13:19:30,115 : INFO : EPOCH 2 - PROGRESS: at 14.87% examples, 805430 words/s, in_qsize 5, out_qsize 0\n",
      "2018-05-29 13:19:31,119 : INFO : EPOCH 2 - PROGRESS: at 21.48% examples, 829889 words/s, in_qsize 5, out_qsize 0\n",
      "2018-05-29 13:19:32,139 : INFO : EPOCH 2 - PROGRESS: at 26.12% examples, 843750 words/s, in_qsize 6, out_qsize 0\n",
      "2018-05-29 13:19:33,144 : INFO : EPOCH 2 - PROGRESS: at 31.39% examples, 847188 words/s, in_qsize 5, out_qsize 0\n",
      "2018-05-29 13:19:34,144 : INFO : EPOCH 2 - PROGRESS: at 35.82% examples, 846334 words/s, in_qsize 5, out_qsize 0\n",
      "2018-05-29 13:19:35,159 : INFO : EPOCH 2 - PROGRESS: at 41.27% examples, 844142 words/s, in_qsize 6, out_qsize 0\n",
      "2018-05-29 13:19:36,160 : INFO : EPOCH 2 - PROGRESS: at 46.55% examples, 850986 words/s, in_qsize 5, out_qsize 0\n",
      "2018-05-29 13:19:37,171 : INFO : EPOCH 2 - PROGRESS: at 52.06% examples, 851277 words/s, in_qsize 5, out_qsize 0\n",
      "2018-05-29 13:19:38,177 : INFO : EPOCH 2 - PROGRESS: at 57.09% examples, 849988 words/s, in_qsize 5, out_qsize 0\n",
      "2018-05-29 13:19:39,194 : INFO : EPOCH 2 - PROGRESS: at 63.90% examples, 845565 words/s, in_qsize 5, out_qsize 0\n",
      "2018-05-29 13:19:40,197 : INFO : EPOCH 2 - PROGRESS: at 69.88% examples, 841085 words/s, in_qsize 5, out_qsize 0\n",
      "2018-05-29 13:19:41,204 : INFO : EPOCH 2 - PROGRESS: at 74.54% examples, 840578 words/s, in_qsize 5, out_qsize 0\n",
      "2018-05-29 13:19:42,205 : INFO : EPOCH 2 - PROGRESS: at 78.57% examples, 839694 words/s, in_qsize 5, out_qsize 1\n",
      "2018-05-29 13:19:43,217 : INFO : EPOCH 2 - PROGRESS: at 82.74% examples, 840756 words/s, in_qsize 4, out_qsize 1\n",
      "2018-05-29 13:19:44,243 : INFO : EPOCH 2 - PROGRESS: at 86.99% examples, 835708 words/s, in_qsize 3, out_qsize 2\n",
      "2018-05-29 13:19:45,278 : INFO : EPOCH 2 - PROGRESS: at 91.21% examples, 831016 words/s, in_qsize 5, out_qsize 0\n",
      "2018-05-29 13:19:46,279 : INFO : EPOCH 2 - PROGRESS: at 95.72% examples, 836800 words/s, in_qsize 5, out_qsize 0\n",
      "2018-05-29 13:19:47,299 : INFO : EPOCH 2 - PROGRESS: at 99.75% examples, 838329 words/s, in_qsize 5, out_qsize 0\n",
      "2018-05-29 13:19:47,335 : INFO : worker thread finished; awaiting finish of 2 more threads\n",
      "2018-05-29 13:19:47,343 : INFO : worker thread finished; awaiting finish of 1 more threads\n",
      "2018-05-29 13:19:47,358 : INFO : worker thread finished; awaiting finish of 0 more threads\n",
      "2018-05-29 13:19:47,359 : INFO : EPOCH - 2 : training on 16945329 raw words (16156657 effective words) took 19.3s, 838674 effective words/s\n",
      "2018-05-29 13:19:48,369 : INFO : EPOCH 3 - PROGRESS: at 7.69% examples, 840372 words/s, in_qsize 5, out_qsize 0\n",
      "2018-05-29 13:19:49,390 : INFO : EPOCH 3 - PROGRESS: at 16.08% examples, 863277 words/s, in_qsize 5, out_qsize 0\n",
      "2018-05-29 13:19:50,403 : INFO : EPOCH 3 - PROGRESS: at 22.49% examples, 878268 words/s, in_qsize 5, out_qsize 0\n",
      "2018-05-29 13:19:51,419 : INFO : EPOCH 3 - PROGRESS: at 27.25% examples, 883385 words/s, in_qsize 6, out_qsize 1\n",
      "2018-05-29 13:19:52,437 : INFO : EPOCH 3 - PROGRESS: at 32.37% examples, 878712 words/s, in_qsize 5, out_qsize 0\n",
      "2018-05-29 13:19:53,457 : INFO : EPOCH 3 - PROGRESS: at 37.08% examples, 872870 words/s, in_qsize 5, out_qsize 0\n",
      "2018-05-29 13:19:54,471 : INFO : EPOCH 3 - PROGRESS: at 42.67% examples, 875254 words/s, in_qsize 5, out_qsize 0\n",
      "2018-05-29 13:19:55,471 : INFO : EPOCH 3 - PROGRESS: at 47.81% examples, 875607 words/s, in_qsize 5, out_qsize 0\n",
      "2018-05-29 13:19:56,476 : INFO : EPOCH 3 - PROGRESS: at 52.91% examples, 864147 words/s, in_qsize 6, out_qsize 0\n",
      "2018-05-29 13:19:57,483 : INFO : EPOCH 3 - PROGRESS: at 58.91% examples, 867634 words/s, in_qsize 5, out_qsize 0\n",
      "2018-05-29 13:19:58,501 : INFO : EPOCH 3 - PROGRESS: at 65.60% examples, 863106 words/s, in_qsize 5, out_qsize 0\n",
      "2018-05-29 13:19:59,502 : INFO : EPOCH 3 - PROGRESS: at 71.06% examples, 856012 words/s, in_qsize 5, out_qsize 0\n",
      "2018-05-29 13:20:00,513 : INFO : EPOCH 3 - PROGRESS: at 75.71% examples, 854912 words/s, in_qsize 4, out_qsize 1\n",
      "2018-05-29 13:20:01,513 : INFO : EPOCH 3 - PROGRESS: at 79.77% examples, 853289 words/s, in_qsize 6, out_qsize 0\n"
     ]
    },
    {
     "name": "stderr",
     "output_type": "stream",
     "text": [
      "2018-05-29 13:20:02,520 : INFO : EPOCH 3 - PROGRESS: at 83.42% examples, 846625 words/s, in_qsize 5, out_qsize 0\n",
      "2018-05-29 13:20:03,523 : INFO : EPOCH 3 - PROGRESS: at 87.57% examples, 842384 words/s, in_qsize 5, out_qsize 0\n",
      "2018-05-29 13:20:04,533 : INFO : EPOCH 3 - PROGRESS: at 92.00% examples, 842434 words/s, in_qsize 5, out_qsize 0\n",
      "2018-05-29 13:20:05,562 : INFO : EPOCH 3 - PROGRESS: at 95.91% examples, 838682 words/s, in_qsize 5, out_qsize 0\n",
      "2018-05-29 13:20:06,571 : INFO : EPOCH 3 - PROGRESS: at 99.55% examples, 835330 words/s, in_qsize 5, out_qsize 0\n",
      "2018-05-29 13:20:06,689 : INFO : worker thread finished; awaiting finish of 2 more threads\n",
      "2018-05-29 13:20:06,703 : INFO : worker thread finished; awaiting finish of 1 more threads\n",
      "2018-05-29 13:20:06,708 : INFO : worker thread finished; awaiting finish of 0 more threads\n",
      "2018-05-29 13:20:06,709 : INFO : EPOCH - 3 : training on 16945329 raw words (16156975 effective words) took 19.3s, 835195 effective words/s\n",
      "2018-05-29 13:20:07,720 : INFO : EPOCH 4 - PROGRESS: at 6.60% examples, 701913 words/s, in_qsize 6, out_qsize 0\n",
      "2018-05-29 13:20:08,746 : INFO : EPOCH 4 - PROGRESS: at 14.26% examples, 768225 words/s, in_qsize 4, out_qsize 1\n",
      "2018-05-29 13:20:09,749 : INFO : EPOCH 4 - PROGRESS: at 20.30% examples, 757172 words/s, in_qsize 4, out_qsize 1\n",
      "2018-05-29 13:20:10,771 : INFO : EPOCH 4 - PROGRESS: at 24.75% examples, 769243 words/s, in_qsize 5, out_qsize 0\n",
      "2018-05-29 13:20:11,780 : INFO : EPOCH 4 - PROGRESS: at 29.62% examples, 782285 words/s, in_qsize 5, out_qsize 0\n",
      "2018-05-29 13:20:12,785 : INFO : EPOCH 4 - PROGRESS: at 33.73% examples, 781187 words/s, in_qsize 4, out_qsize 1\n",
      "2018-05-29 13:20:13,796 : INFO : EPOCH 4 - PROGRESS: at 38.46% examples, 777714 words/s, in_qsize 5, out_qsize 0\n",
      "2018-05-29 13:20:14,801 : INFO : EPOCH 4 - PROGRESS: at 43.23% examples, 782365 words/s, in_qsize 5, out_qsize 0\n",
      "2018-05-29 13:20:15,806 : INFO : EPOCH 4 - PROGRESS: at 48.35% examples, 791884 words/s, in_qsize 5, out_qsize 0\n",
      "2018-05-29 13:20:16,809 : INFO : EPOCH 4 - PROGRESS: at 54.09% examples, 802786 words/s, in_qsize 5, out_qsize 0\n",
      "2018-05-29 13:20:17,810 : INFO : EPOCH 4 - PROGRESS: at 60.67% examples, 811360 words/s, in_qsize 5, out_qsize 0\n",
      "2018-05-29 13:20:18,818 : INFO : EPOCH 4 - PROGRESS: at 67.52% examples, 815006 words/s, in_qsize 6, out_qsize 0\n",
      "2018-05-29 13:20:19,822 : INFO : EPOCH 4 - PROGRESS: at 72.94% examples, 820158 words/s, in_qsize 6, out_qsize 0\n",
      "2018-05-29 13:20:20,841 : INFO : EPOCH 4 - PROGRESS: at 77.50% examples, 822632 words/s, in_qsize 5, out_qsize 0\n",
      "2018-05-29 13:20:21,849 : INFO : EPOCH 4 - PROGRESS: at 81.74% examples, 824738 words/s, in_qsize 5, out_qsize 0\n",
      "2018-05-29 13:20:22,863 : INFO : EPOCH 4 - PROGRESS: at 85.85% examples, 822661 words/s, in_qsize 5, out_qsize 0\n",
      "2018-05-29 13:20:23,869 : INFO : EPOCH 4 - PROGRESS: at 89.96% examples, 820144 words/s, in_qsize 5, out_qsize 0\n",
      "2018-05-29 13:20:24,875 : INFO : EPOCH 4 - PROGRESS: at 94.12% examples, 821050 words/s, in_qsize 5, out_qsize 0\n",
      "2018-05-29 13:20:25,879 : INFO : EPOCH 4 - PROGRESS: at 98.33% examples, 824012 words/s, in_qsize 6, out_qsize 0\n",
      "2018-05-29 13:20:26,295 : INFO : worker thread finished; awaiting finish of 2 more threads\n",
      "2018-05-29 13:20:26,301 : INFO : worker thread finished; awaiting finish of 1 more threads\n",
      "2018-05-29 13:20:26,317 : INFO : worker thread finished; awaiting finish of 0 more threads\n",
      "2018-05-29 13:20:26,318 : INFO : EPOCH - 4 : training on 16945329 raw words (16157487 effective words) took 19.6s, 824125 effective words/s\n",
      "2018-05-29 13:20:27,323 : INFO : EPOCH 5 - PROGRESS: at 7.10% examples, 779369 words/s, in_qsize 4, out_qsize 1\n",
      "2018-05-29 13:20:28,326 : INFO : EPOCH 5 - PROGRESS: at 14.42% examples, 788943 words/s, in_qsize 5, out_qsize 0\n",
      "2018-05-29 13:20:29,330 : INFO : EPOCH 5 - PROGRESS: at 20.71% examples, 788466 words/s, in_qsize 5, out_qsize 0\n",
      "2018-05-29 13:20:30,331 : INFO : EPOCH 5 - PROGRESS: at 25.00% examples, 792663 words/s, in_qsize 5, out_qsize 0\n",
      "2018-05-29 13:20:31,331 : INFO : EPOCH 5 - PROGRESS: at 30.11% examples, 807581 words/s, in_qsize 5, out_qsize 0\n",
      "2018-05-29 13:20:32,340 : INFO : EPOCH 5 - PROGRESS: at 34.78% examples, 819544 words/s, in_qsize 5, out_qsize 0\n",
      "2018-05-29 13:20:33,342 : INFO : EPOCH 5 - PROGRESS: at 40.19% examples, 823702 words/s, in_qsize 5, out_qsize 0\n",
      "2018-05-29 13:20:34,370 : INFO : EPOCH 5 - PROGRESS: at 44.99% examples, 820234 words/s, in_qsize 5, out_qsize 0\n",
      "2018-05-29 13:20:35,387 : INFO : EPOCH 5 - PROGRESS: at 49.47% examples, 812568 words/s, in_qsize 5, out_qsize 0\n",
      "2018-05-29 13:20:36,394 : INFO : EPOCH 5 - PROGRESS: at 54.74% examples, 815847 words/s, in_qsize 5, out_qsize 0\n",
      "2018-05-29 13:20:37,410 : INFO : EPOCH 5 - PROGRESS: at 61.94% examples, 824331 words/s, in_qsize 6, out_qsize 0\n",
      "2018-05-29 13:20:38,424 : INFO : EPOCH 5 - PROGRESS: at 68.91% examples, 829599 words/s, in_qsize 5, out_qsize 0\n",
      "2018-05-29 13:20:39,439 : INFO : EPOCH 5 - PROGRESS: at 74.17% examples, 835302 words/s, in_qsize 5, out_qsize 0\n",
      "2018-05-29 13:20:40,441 : INFO : EPOCH 5 - PROGRESS: at 78.45% examples, 837238 words/s, in_qsize 6, out_qsize 0\n",
      "2018-05-29 13:20:41,451 : INFO : EPOCH 5 - PROGRESS: at 82.74% examples, 840389 words/s, in_qsize 5, out_qsize 0\n",
      "2018-05-29 13:20:42,456 : INFO : EPOCH 5 - PROGRESS: at 87.08% examples, 837543 words/s, in_qsize 6, out_qsize 0\n",
      "2018-05-29 13:20:43,458 : INFO : EPOCH 5 - PROGRESS: at 91.46% examples, 836070 words/s, in_qsize 5, out_qsize 0\n",
      "2018-05-29 13:20:44,460 : INFO : EPOCH 5 - PROGRESS: at 95.55% examples, 836804 words/s, in_qsize 6, out_qsize 0\n",
      "2018-05-29 13:20:45,474 : INFO : EPOCH 5 - PROGRESS: at 99.38% examples, 835926 words/s, in_qsize 6, out_qsize 1\n",
      "2018-05-29 13:20:45,597 : INFO : worker thread finished; awaiting finish of 2 more threads\n",
      "2018-05-29 13:20:45,608 : INFO : worker thread finished; awaiting finish of 1 more threads\n",
      "2018-05-29 13:20:45,618 : INFO : worker thread finished; awaiting finish of 0 more threads\n",
      "2018-05-29 13:20:45,619 : INFO : EPOCH - 5 : training on 16945329 raw words (16156932 effective words) took 19.3s, 837282 effective words/s\n",
      "2018-05-29 13:20:45,620 : INFO : training on a 84726645 raw words (80785260 effective words) took 97.0s, 832710 effective words/s\n"
     ]
    }
   ],
   "source": [
    "sentences = integrum_local_lemmas.lemmas_content\n",
    "# train word2vec on the two sentences\n",
    "model = gensim.models.Word2Vec(sentences, min_count=1)"
   ]
  },
  {
   "cell_type": "code",
   "execution_count": 39,
   "metadata": {},
   "outputs": [
    {
     "name": "stderr",
     "output_type": "stream",
     "text": [
      "/work/cloud-user/russia_finland/finland_russia/venv/lib/python3.5/site-packages/ipykernel_launcher.py:1: DeprecationWarning: Call to deprecated `most_similar` (Method will be removed in 4.0.0, use self.wv.most_similar() instead).\n",
      "  \"\"\"Entry point for launching an IPython kernel.\n"
     ]
    },
    {
     "data": {
      "text/plain": [
       "[('тампере', 0.8758280873298645),\n",
       " ('котка', 0.8636119365692139),\n",
       " ('лаппеенрант', 0.834760844707489),\n",
       " ('ювяскюль', 0.8180301189422607),\n",
       " ('миккель', 0.8075802326202393),\n",
       " ('йоэнсуу', 0.798075795173645),\n",
       " ('савонлинн', 0.7975867986679077),\n",
       " ('лаппенрант', 0.7900992631912231),\n",
       " ('хамин', 0.7882909774780273),\n",
       " ('оул', 0.7834081649780273),\n",
       " ('куопио', 0.7791638374328613),\n",
       " ('рованиеми', 0.7790059447288513),\n",
       " ('кухмо', 0.7758827805519104),\n",
       " ('каяни', 0.772032618522644),\n",
       " ('иматра', 0.7624096870422363),\n",
       " ('лахти', 0.7536728382110596),\n",
       " ('хельсинки', 0.7462298274040222),\n",
       " ('коувол', 0.7360109090805054),\n",
       " ('эспоо', 0.7307415008544922),\n",
       " ('вантаа', 0.7182021141052246),\n",
       " ('тромс', 0.716339647769928),\n",
       " ('таллин', 0.6946687698364258),\n",
       " ('ваас', 0.683160126209259),\n",
       " ('стокгольм', 0.6765294671058655),\n",
       " ('тарту', 0.662057638168335)]"
      ]
     },
     "execution_count": 39,
     "metadata": {},
     "output_type": "execute_result"
    }
   ],
   "source": [
    "model.most_similar(positive=['турку'],topn=25)"
   ]
  },
  {
   "cell_type": "code",
   "execution_count": 22,
   "metadata": {},
   "outputs": [
    {
     "name": "stderr",
     "output_type": "stream",
     "text": [
      "/work/cloud-user/russia_finland/finland_russia/venv/lib/python3.5/site-packages/ipykernel_launcher.py:1: DeprecationWarning: Call to deprecated `similarity` (Method will be removed in 4.0.0, use self.wv.similarity() instead).\n",
      "  \"\"\"Entry point for launching an IPython kernel.\n"
     ]
    },
    {
     "data": {
      "text/plain": [
       "0.592449603625547"
      ]
     },
     "execution_count": 22,
     "metadata": {},
     "output_type": "execute_result"
    }
   ],
   "source": [
    "model.similarity('петрозаводск', 'хельсинки')"
   ]
  },
  {
   "cell_type": "code",
   "execution_count": 36,
   "metadata": {},
   "outputs": [
    {
     "name": "stderr",
     "output_type": "stream",
     "text": [
      "/work/cloud-user/russia_finland/finland_russia/venv/lib/python3.5/site-packages/ipykernel_launcher.py:1: DeprecationWarning: Call to deprecated `most_similar` (Method will be removed in 4.0.0, use self.wv.most_similar() instead).\n",
      "  \"\"\"Entry point for launching an IPython kernel.\n"
     ]
    },
    {
     "data": {
      "text/plain": [
       "[('новосибирск', 0.6010462045669556),\n",
       " ('казань', 0.5952593684196472),\n",
       " ('пермь', 0.593327522277832),\n",
       " ('екатеринбург', 0.5920868515968323),\n",
       " ('мурманск', 0.590484619140625)]"
      ]
     },
     "execution_count": 36,
     "metadata": {},
     "output_type": "execute_result"
    }
   ],
   "source": [
    "model.most_similar(positive=['москва'], negative=['политика'], topn=5)"
   ]
  },
  {
   "cell_type": "code",
   "execution_count": 9,
   "metadata": {},
   "outputs": [
    {
     "name": "stderr",
     "output_type": "stream",
     "text": [
      "2018-05-29 13:23:25,839 : INFO : collecting all words and their counts\n",
      "2018-05-29 13:23:25,842 : INFO : PROGRESS: at sentence #0, processed 0 words, keeping 0 word types\n",
      "2018-05-29 13:23:27,272 : INFO : PROGRESS: at sentence #10000, processed 6383312 words, keeping 111386 word types\n",
      "2018-05-29 13:23:29,016 : INFO : PROGRESS: at sentence #20000, processed 12089164 words, keeping 178086 word types\n",
      "2018-05-29 13:23:30,125 : INFO : collected 204593 word types from a corpus of 16337994 raw words and 25374 sentences\n",
      "2018-05-29 13:23:30,126 : INFO : Loading a fresh vocabulary\n",
      "2018-05-29 13:23:33,086 : INFO : min_count=1 retains 204593 unique words (100% of original 204593, drops 0)\n",
      "2018-05-29 13:23:33,087 : INFO : min_count=1 leaves 16337994 word corpus (100% of original 16337994, drops 0)\n",
      "2018-05-29 13:23:33,903 : INFO : deleting the raw counts dictionary of 204593 items\n",
      "2018-05-29 13:23:33,921 : INFO : sample=0.001 downsamples 18 most-common words\n",
      "2018-05-29 13:23:33,922 : INFO : downsampling leaves estimated 14052306 word corpus (86.0% of prior 16337994)\n",
      "2018-05-29 13:23:35,024 : INFO : estimated required memory for 204593 words and 100 dimensions: 265970900 bytes\n",
      "2018-05-29 13:23:35,025 : INFO : resetting layer weights\n",
      "2018-05-29 13:23:37,401 : INFO : training model with 3 workers on 204593 vocabulary and 100 features, using sg=0 hs=0 sample=0.001 negative=5 window=5\n",
      "2018-05-29 13:23:38,418 : INFO : EPOCH 1 - PROGRESS: at 5.12% examples, 703054 words/s, in_qsize 5, out_qsize 0\n",
      "2018-05-29 13:23:39,425 : INFO : EPOCH 1 - PROGRESS: at 13.38% examples, 802921 words/s, in_qsize 5, out_qsize 0\n",
      "2018-05-29 13:23:40,431 : INFO : EPOCH 1 - PROGRESS: at 23.05% examples, 827400 words/s, in_qsize 5, out_qsize 0\n",
      "2018-05-29 13:23:41,435 : INFO : EPOCH 1 - PROGRESS: at 28.51% examples, 841887 words/s, in_qsize 5, out_qsize 0\n",
      "2018-05-29 13:23:42,440 : INFO : EPOCH 1 - PROGRESS: at 34.91% examples, 835408 words/s, in_qsize 5, out_qsize 0\n",
      "2018-05-29 13:23:43,441 : INFO : EPOCH 1 - PROGRESS: at 42.84% examples, 844810 words/s, in_qsize 5, out_qsize 0\n",
      "2018-05-29 13:23:44,450 : INFO : EPOCH 1 - PROGRESS: at 51.27% examples, 843306 words/s, in_qsize 6, out_qsize 0\n",
      "2018-05-29 13:23:45,456 : INFO : EPOCH 1 - PROGRESS: at 59.13% examples, 849287 words/s, in_qsize 5, out_qsize 0\n",
      "2018-05-29 13:23:46,468 : INFO : EPOCH 1 - PROGRESS: at 65.39% examples, 846722 words/s, in_qsize 5, out_qsize 0\n",
      "2018-05-29 13:23:47,477 : INFO : EPOCH 1 - PROGRESS: at 71.32% examples, 846223 words/s, in_qsize 5, out_qsize 0\n",
      "2018-05-29 13:23:48,495 : INFO : EPOCH 1 - PROGRESS: at 75.85% examples, 849346 words/s, in_qsize 5, out_qsize 0\n",
      "2018-05-29 13:23:49,502 : INFO : EPOCH 1 - PROGRESS: at 79.92% examples, 849595 words/s, in_qsize 5, out_qsize 0\n",
      "2018-05-29 13:23:50,512 : INFO : EPOCH 1 - PROGRESS: at 84.57% examples, 856524 words/s, in_qsize 5, out_qsize 0\n",
      "2018-05-29 13:23:51,513 : INFO : EPOCH 1 - PROGRESS: at 90.28% examples, 856858 words/s, in_qsize 5, out_qsize 0\n",
      "2018-05-29 13:23:52,523 : INFO : EPOCH 1 - PROGRESS: at 96.47% examples, 858673 words/s, in_qsize 5, out_qsize 0\n",
      "2018-05-29 13:23:53,018 : INFO : worker thread finished; awaiting finish of 2 more threads\n",
      "2018-05-29 13:23:53,020 : INFO : worker thread finished; awaiting finish of 1 more threads\n",
      "2018-05-29 13:23:53,024 : INFO : worker thread finished; awaiting finish of 0 more threads\n",
      "2018-05-29 13:23:53,025 : INFO : EPOCH - 1 : training on 16337994 raw words (13451508 effective words) took 15.6s, 861200 effective words/s\n",
      "2018-05-29 13:23:54,056 : INFO : EPOCH 2 - PROGRESS: at 5.68% examples, 783518 words/s, in_qsize 5, out_qsize 0\n",
      "2018-05-29 13:23:55,059 : INFO : EPOCH 2 - PROGRESS: at 13.30% examples, 800483 words/s, in_qsize 5, out_qsize 0\n",
      "2018-05-29 13:23:56,061 : INFO : EPOCH 2 - PROGRESS: at 23.05% examples, 828865 words/s, in_qsize 5, out_qsize 0\n",
      "2018-05-29 13:23:57,070 : INFO : EPOCH 2 - PROGRESS: at 28.19% examples, 828609 words/s, in_qsize 5, out_qsize 0\n",
      "2018-05-29 13:23:58,070 : INFO : EPOCH 2 - PROGRESS: at 35.07% examples, 841101 words/s, in_qsize 5, out_qsize 0\n",
      "2018-05-29 13:23:59,088 : INFO : EPOCH 2 - PROGRESS: at 42.95% examples, 846221 words/s, in_qsize 5, out_qsize 0\n",
      "2018-05-29 13:24:00,096 : INFO : EPOCH 2 - PROGRESS: at 51.55% examples, 846028 words/s, in_qsize 6, out_qsize 0\n",
      "2018-05-29 13:24:01,097 : INFO : EPOCH 2 - PROGRESS: at 59.13% examples, 848915 words/s, in_qsize 6, out_qsize 1\n",
      "2018-05-29 13:24:02,103 : INFO : EPOCH 2 - PROGRESS: at 65.61% examples, 850225 words/s, in_qsize 5, out_qsize 0\n",
      "2018-05-29 13:24:03,107 : INFO : EPOCH 2 - PROGRESS: at 71.49% examples, 850525 words/s, in_qsize 6, out_qsize 1\n",
      "2018-05-29 13:24:04,108 : INFO : EPOCH 2 - PROGRESS: at 75.93% examples, 852881 words/s, in_qsize 5, out_qsize 0\n",
      "2018-05-29 13:24:05,117 : INFO : EPOCH 2 - PROGRESS: at 80.00% examples, 855081 words/s, in_qsize 5, out_qsize 0\n",
      "2018-05-29 13:24:06,125 : INFO : EPOCH 2 - PROGRESS: at 84.53% examples, 855997 words/s, in_qsize 6, out_qsize 1\n",
      "2018-05-29 13:24:07,129 : INFO : EPOCH 2 - PROGRESS: at 90.05% examples, 856217 words/s, in_qsize 5, out_qsize 0\n",
      "2018-05-29 13:24:08,142 : INFO : EPOCH 2 - PROGRESS: at 96.20% examples, 857902 words/s, in_qsize 5, out_qsize 0\n",
      "2018-05-29 13:24:08,731 : INFO : worker thread finished; awaiting finish of 2 more threads\n",
      "2018-05-29 13:24:08,738 : INFO : worker thread finished; awaiting finish of 1 more threads\n",
      "2018-05-29 13:24:08,743 : INFO : worker thread finished; awaiting finish of 0 more threads\n",
      "2018-05-29 13:24:08,745 : INFO : EPOCH - 2 : training on 16337994 raw words (13453278 effective words) took 15.7s, 856718 effective words/s\n",
      "2018-05-29 13:24:09,758 : INFO : EPOCH 3 - PROGRESS: at 5.95% examples, 824059 words/s, in_qsize 5, out_qsize 0\n",
      "2018-05-29 13:24:10,764 : INFO : EPOCH 3 - PROGRESS: at 13.63% examples, 812881 words/s, in_qsize 5, out_qsize 0\n",
      "2018-05-29 13:24:11,765 : INFO : EPOCH 3 - PROGRESS: at 23.13% examples, 833136 words/s, in_qsize 5, out_qsize 0\n",
      "2018-05-29 13:24:12,777 : INFO : EPOCH 3 - PROGRESS: at 28.48% examples, 841679 words/s, in_qsize 5, out_qsize 0\n",
      "2018-05-29 13:24:13,788 : INFO : EPOCH 3 - PROGRESS: at 34.46% examples, 822827 words/s, in_qsize 4, out_qsize 1\n",
      "2018-05-29 13:24:14,799 : INFO : EPOCH 3 - PROGRESS: at 41.78% examples, 822780 words/s, in_qsize 5, out_qsize 0\n",
      "2018-05-29 13:24:15,810 : INFO : EPOCH 3 - PROGRESS: at 50.78% examples, 833966 words/s, in_qsize 5, out_qsize 0\n",
      "2018-05-29 13:24:16,819 : INFO : EPOCH 3 - PROGRESS: at 57.90% examples, 827802 words/s, in_qsize 6, out_qsize 0\n",
      "2018-05-29 13:24:17,820 : INFO : EPOCH 3 - PROGRESS: at 64.72% examples, 833769 words/s, in_qsize 5, out_qsize 0\n",
      "2018-05-29 13:24:18,822 : INFO : EPOCH 3 - PROGRESS: at 70.90% examples, 838843 words/s, in_qsize 5, out_qsize 0\n",
      "2018-05-29 13:24:19,834 : INFO : EPOCH 3 - PROGRESS: at 75.20% examples, 836732 words/s, in_qsize 4, out_qsize 1\n",
      "2018-05-29 13:24:20,851 : INFO : EPOCH 3 - PROGRESS: at 78.86% examples, 833682 words/s, in_qsize 4, out_qsize 1\n",
      "2018-05-29 13:24:21,858 : INFO : EPOCH 3 - PROGRESS: at 83.32% examples, 838133 words/s, in_qsize 5, out_qsize 0\n",
      "2018-05-29 13:24:22,868 : INFO : EPOCH 3 - PROGRESS: at 89.20% examples, 845312 words/s, in_qsize 5, out_qsize 0\n",
      "2018-05-29 13:24:23,877 : INFO : EPOCH 3 - PROGRESS: at 94.77% examples, 841525 words/s, in_qsize 5, out_qsize 0\n",
      "2018-05-29 13:24:24,703 : INFO : worker thread finished; awaiting finish of 2 more threads\n",
      "2018-05-29 13:24:24,712 : INFO : worker thread finished; awaiting finish of 1 more threads\n",
      "2018-05-29 13:24:24,714 : INFO : worker thread finished; awaiting finish of 0 more threads\n",
      "2018-05-29 13:24:24,715 : INFO : EPOCH - 3 : training on 16337994 raw words (13453348 effective words) took 16.0s, 842551 effective words/s\n",
      "2018-05-29 13:24:25,725 : INFO : EPOCH 4 - PROGRESS: at 5.82% examples, 810699 words/s, in_qsize 6, out_qsize 0\n",
      "2018-05-29 13:24:26,732 : INFO : EPOCH 4 - PROGRESS: at 14.85% examples, 869065 words/s, in_qsize 5, out_qsize 0\n",
      "2018-05-29 13:24:27,733 : INFO : EPOCH 4 - PROGRESS: at 24.23% examples, 890655 words/s, in_qsize 5, out_qsize 0\n",
      "2018-05-29 13:24:28,737 : INFO : EPOCH 4 - PROGRESS: at 30.39% examples, 905762 words/s, in_qsize 4, out_qsize 1\n",
      "2018-05-29 13:24:29,749 : INFO : EPOCH 4 - PROGRESS: at 38.03% examples, 903938 words/s, in_qsize 5, out_qsize 0\n"
     ]
    },
    {
     "name": "stderr",
     "output_type": "stream",
     "text": [
      "2018-05-29 13:24:30,768 : INFO : EPOCH 4 - PROGRESS: at 46.91% examples, 912335 words/s, in_qsize 5, out_qsize 0\n",
      "2018-05-29 13:24:31,785 : INFO : EPOCH 4 - PROGRESS: at 56.12% examples, 909954 words/s, in_qsize 5, out_qsize 0\n",
      "2018-05-29 13:24:32,787 : INFO : EPOCH 4 - PROGRESS: at 62.96% examples, 909428 words/s, in_qsize 5, out_qsize 0\n",
      "2018-05-29 13:24:33,810 : INFO : EPOCH 4 - PROGRESS: at 69.79% examples, 911377 words/s, in_qsize 5, out_qsize 0\n",
      "2018-05-29 13:24:34,821 : INFO : EPOCH 4 - PROGRESS: at 74.55% examples, 906976 words/s, in_qsize 5, out_qsize 0\n",
      "2018-05-29 13:24:35,821 : INFO : EPOCH 4 - PROGRESS: at 78.73% examples, 906761 words/s, in_qsize 5, out_qsize 0\n",
      "2018-05-29 13:24:36,831 : INFO : EPOCH 4 - PROGRESS: at 83.05% examples, 903648 words/s, in_qsize 6, out_qsize 1\n",
      "2018-05-29 13:24:37,832 : INFO : EPOCH 4 - PROGRESS: at 88.38% examples, 903475 words/s, in_qsize 5, out_qsize 0\n",
      "2018-05-29 13:24:38,832 : INFO : EPOCH 4 - PROGRESS: at 94.53% examples, 900407 words/s, in_qsize 5, out_qsize 0\n",
      "2018-05-29 13:24:39,619 : INFO : worker thread finished; awaiting finish of 2 more threads\n",
      "2018-05-29 13:24:39,627 : INFO : worker thread finished; awaiting finish of 1 more threads\n",
      "2018-05-29 13:24:39,628 : INFO : worker thread finished; awaiting finish of 0 more threads\n",
      "2018-05-29 13:24:39,629 : INFO : EPOCH - 4 : training on 16337994 raw words (13454578 effective words) took 14.9s, 902572 effective words/s\n",
      "2018-05-29 13:24:40,645 : INFO : EPOCH 5 - PROGRESS: at 6.03% examples, 832134 words/s, in_qsize 4, out_qsize 1\n",
      "2018-05-29 13:24:41,650 : INFO : EPOCH 5 - PROGRESS: at 14.30% examples, 842727 words/s, in_qsize 5, out_qsize 0\n",
      "2018-05-29 13:24:42,654 : INFO : EPOCH 5 - PROGRESS: at 23.95% examples, 875187 words/s, in_qsize 5, out_qsize 0\n",
      "2018-05-29 13:24:43,672 : INFO : EPOCH 5 - PROGRESS: at 29.68% examples, 876718 words/s, in_qsize 5, out_qsize 0\n",
      "2018-05-29 13:24:44,678 : INFO : EPOCH 5 - PROGRESS: at 35.96% examples, 856851 words/s, in_qsize 5, out_qsize 0\n",
      "2018-05-29 13:24:45,682 : INFO : EPOCH 5 - PROGRESS: at 43.81% examples, 861310 words/s, in_qsize 6, out_qsize 0\n",
      "2018-05-29 13:24:46,692 : INFO : EPOCH 5 - PROGRESS: at 52.68% examples, 860999 words/s, in_qsize 4, out_qsize 1\n",
      "2018-05-29 13:24:47,697 : INFO : EPOCH 5 - PROGRESS: at 60.29% examples, 865893 words/s, in_qsize 5, out_qsize 0\n",
      "2018-05-29 13:24:48,704 : INFO : EPOCH 5 - PROGRESS: at 67.01% examples, 868150 words/s, in_qsize 5, out_qsize 0\n",
      "2018-05-29 13:24:49,706 : INFO : EPOCH 5 - PROGRESS: at 71.98% examples, 859677 words/s, in_qsize 6, out_qsize 1\n",
      "2018-05-29 13:24:50,721 : INFO : EPOCH 5 - PROGRESS: at 76.91% examples, 869148 words/s, in_qsize 5, out_qsize 0\n",
      "2018-05-29 13:24:51,735 : INFO : EPOCH 5 - PROGRESS: at 80.94% examples, 868482 words/s, in_qsize 5, out_qsize 0\n",
      "2018-05-29 13:24:52,741 : INFO : EPOCH 5 - PROGRESS: at 85.59% examples, 870689 words/s, in_qsize 5, out_qsize 0\n",
      "2018-05-29 13:24:53,753 : INFO : EPOCH 5 - PROGRESS: at 92.22% examples, 874664 words/s, in_qsize 4, out_qsize 1\n",
      "2018-05-29 13:24:54,770 : INFO : EPOCH 5 - PROGRESS: at 98.56% examples, 876843 words/s, in_qsize 6, out_qsize 0\n",
      "2018-05-29 13:24:54,943 : INFO : worker thread finished; awaiting finish of 2 more threads\n",
      "2018-05-29 13:24:54,950 : INFO : worker thread finished; awaiting finish of 1 more threads\n",
      "2018-05-29 13:24:54,952 : INFO : worker thread finished; awaiting finish of 0 more threads\n",
      "2018-05-29 13:24:54,953 : INFO : EPOCH - 5 : training on 16337994 raw words (13452318 effective words) took 15.3s, 878117 effective words/s\n",
      "2018-05-29 13:24:54,956 : INFO : training on a 81689970 raw words (67265030 effective words) took 77.6s, 867342 effective words/s\n"
     ]
    }
   ],
   "source": [
    "sentences_federal = integrum_federal_lemmas.lemmas_content\n",
    "# train word2vec on the two sentences\n",
    "model_federal = gensim.models.Word2Vec(sentences_federal, min_count=1)"
   ]
  },
  {
   "cell_type": "code",
   "execution_count": 30,
   "metadata": {},
   "outputs": [
    {
     "name": "stderr",
     "output_type": "stream",
     "text": [
      "/work/cloud-user/russia_finland/finland_russia/venv/lib/python3.5/site-packages/ipykernel_launcher.py:1: DeprecationWarning: Call to deprecated `most_similar` (Method will be removed in 4.0.0, use self.wv.most_similar() instead).\n",
      "  \"\"\"Entry point for launching an IPython kernel.\n"
     ]
    },
    {
     "data": {
      "text/plain": [
       "[('спортивный', 0.5988843441009521),\n",
       " ('хоккей', 0.5937655568122864),\n",
       " ('исканиус', 0.5813450813293457),\n",
       " ('катание', 0.5684407949447632),\n",
       " ('футбол', 0.5468862056732178)]"
      ]
     },
     "execution_count": 30,
     "metadata": {},
     "output_type": "execute_result"
    }
   ],
   "source": [
    "model_federal.most_similar(positive=['спорт'],topn=5)"
   ]
  },
  {
   "cell_type": "code",
   "execution_count": 23,
   "metadata": {},
   "outputs": [
    {
     "name": "stderr",
     "output_type": "stream",
     "text": [
      "/work/cloud-user/russia_finland/finland_russia/venv/lib/python3.5/site-packages/ipykernel_launcher.py:1: DeprecationWarning: Call to deprecated `similarity` (Method will be removed in 4.0.0, use self.wv.similarity() instead).\n",
      "  \"\"\"Entry point for launching an IPython kernel.\n"
     ]
    },
    {
     "data": {
      "text/plain": [
       "0.4627681215352176"
      ]
     },
     "execution_count": 23,
     "metadata": {},
     "output_type": "execute_result"
    }
   ],
   "source": [
    "model_federal.similarity('петрозаводск', 'хельсинки')"
   ]
  },
  {
   "cell_type": "code",
   "execution_count": null,
   "metadata": {},
   "outputs": [],
   "source": []
  }
 ],
 "metadata": {
  "kernelspec": {
   "display_name": "finland_russia",
   "language": "python",
   "name": "finland_russia"
  },
  "language_info": {
   "codemirror_mode": {
    "name": "ipython",
    "version": 3
   },
   "file_extension": ".py",
   "mimetype": "text/x-python",
   "name": "python",
   "nbconvert_exporter": "python",
   "pygments_lexer": "ipython3",
   "version": "3.5.2"
  }
 },
 "nbformat": 4,
 "nbformat_minor": 2
}
