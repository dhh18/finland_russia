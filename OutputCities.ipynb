{
 "cells": [
  {
   "cell_type": "code",
   "execution_count": 3,
   "metadata": {},
   "outputs": [],
   "source": [
    "#RUN THAT\n",
    "library(gsheet)\n",
    "library(dplyr)\n",
    "library(tidyr)"
   ]
  },
  {
   "cell_type": "code",
   "execution_count": 168,
   "metadata": {},
   "outputs": [],
   "source": [
    "#YleTopicIdCity  <- readRDS(\"YleTopicIdCity1\")"
   ]
  },
  {
   "cell_type": "code",
   "execution_count": 2,
   "metadata": {},
   "outputs": [],
   "source": [
    "#RUN THAT\n",
    "YleTopicIdCity  <- readRDS(\"YleTopicIdCity\")\n",
    "intFedTopicIdCity <- readRDS(\"intFedTopicIdCity\")\n",
    "intRegTopicIdCity  <- readRDS(\"intRegTopicIdCity \")\n",
    "yle <- read.csv(\"data/processed/yle_fi_lemmas.csv\",stringsAsFactor = F)\n",
    "integrum <- read.csv(\"data/processed/integrum_federal.csv\",stringsAsFactor = F)\n",
    "integrumLocal <- read.csv(\"data/processed/integrum_local.csv\",stringsAsFactor = F)"
   ]
  },
  {
   "cell_type": "code",
   "execution_count": 160,
   "metadata": {},
   "outputs": [],
   "source": [
    "YleTopicIdCity  <- readRDS(\"YleTopicIdCity1\")"
   ]
  },
  {
   "cell_type": "code",
   "execution_count": 89,
   "metadata": {},
   "outputs": [],
   "source": [
    "IntegrumFiCities <- readRDS(\"IntegrumFiCities\")"
   ]
  },
  {
   "cell_type": "code",
   "execution_count": 174,
   "metadata": {},
   "outputs": [],
   "source": [
    "#NUMERATE TOPICS HERE\n",
    "#TopicNums <- c(3,12,20) #fedral culture\n",
    "#TopicNums <- c(4,5,8,12,18)# local culture \n",
    "#TopicNums <- c(1,5,8,9,15,28,30,19,22) #fedral economy\n",
    "#TopicNums <- c(1,2,3,6,9,11,16,24,26,29) #local economy\n",
    "\n",
    "TopicNums <- c( 6,14,24,28) #yle economy\n",
    "#TopicNums <- c( 4,30) #yle culture\n",
    "\n",
    "\n",
    "#Name the topic\n",
    "TopicName <- \"Economy\"\n",
    "# Pick one \"yle\",\"IntegrumREG\",\"IntegrumFED\"\n",
    "CorpusName <- \"yle\"\n",
    "\n",
    "\n",
    "#Can also\n",
    "#Select periods (upper is included) (1996,2001] - 2001 is included 1996 nottem\n",
    "Periods <-  c(1990,1996,2001,2006,2011,2017)\n",
    "TopicNames <- paste(rep(\"Topic\",length(TopicNums)),TopicNums,sep=\"\")"
   ]
  },
  {
   "cell_type": "code",
   "execution_count": 170,
   "metadata": {},
   "outputs": [
    {
     "name": "stdout",
     "output_type": "stream",
     "text": [
      "'data.frame':\t1372770 obs. of  7 variables:\n",
      " $ id             : num  0 0 0 0 0 0 0 0 0 0 ...\n",
      " $ Topic          : chr  \"Topic1\" \"Topic1\" \"Topic1\" \"Topic1\" ...\n",
      " $ TopicProportion: chr  \"6.4256634169303e-06\" \"6.4256634169303e-06\" \"6.4256634169303e-06\" \"6.4256634169303e-06\" ...\n",
      " $ tokensLong     : chr  \"Vladimir\" \"Vladimir\" \"Moskova\" \"Moskova\" ...\n",
      " $ Fi             : chr  \"Vladimir\" \"Vladimir\" \"Moskova\" \"Moskova\" ...\n",
      " $ N              : num  1 1 1 1 1 1 1 1 1 1 ...\n",
      " $ Ru             : chr  \"Владимир\" \"Владимир\" \"Москва\" \"Москва\" ...\n"
     ]
    }
   ],
   "source": [
    "#GivenTopicCities%>% head(50)\n",
    "YleTopicIdCity%>%  str\n"
   ]
  },
  {
   "cell_type": "code",
   "execution_count": 155,
   "metadata": {},
   "outputs": [
    {
     "data": {
      "text/html": [
       "<ol class=list-inline>\n",
       "\t<li>'Topic4'</li>\n",
       "\t<li>'Topic30'</li>\n",
       "</ol>\n"
      ],
      "text/latex": [
       "\\begin{enumerate*}\n",
       "\\item 'Topic4'\n",
       "\\item 'Topic30'\n",
       "\\end{enumerate*}\n"
      ],
      "text/markdown": [
       "1. 'Topic4'\n",
       "2. 'Topic30'\n",
       "\n",
       "\n"
      ],
      "text/plain": [
       "[1] \"Topic4\"  \"Topic30\""
      ]
     },
     "metadata": {},
     "output_type": "display_data"
    }
   ],
   "source": [
    "TopicNames"
   ]
  },
  {
   "cell_type": "code",
   "execution_count": 175,
   "metadata": {},
   "outputs": [
    {
     "name": "stderr",
     "output_type": "stream",
     "text": [
      "Joining, by = \"id\"\n"
     ]
    },
    {
     "name": "stdout",
     "output_type": "stream",
     "text": [
      "[1] \"Economy yle\"\n"
     ]
    }
   ],
   "source": [
    "if(CorpusName == \"IntegrumREG\")\n",
    "    {\n",
    "     GivenTopicCities <-intRegTopicIdCity %>% filter(Topic %in% TopicNames) %>% \n",
    "    filter(TopicProportion > 0.3)   %>% mutate(city = tokensLong) %>% select(-tokensLong)\n",
    "    GivenTopicCities <-  GivenTopicCities %>% left_join(IntegrumFiCities %>% mutate(Ru = tolower(Ru)), by = c(\"city\" = \"Ru\")) \n",
    "    GivenTopicCities <-  GivenTopicCities %>% left_join(integrumLocal  %>% select(id,year)) \n",
    "      GivenTopicCities <-  GivenTopicCities %>% mutate(city=Fi) \n",
    "    print(paste(TopicName,CorpusName))\n",
    "    }\n",
    "if(CorpusName == \"IntegrumFED\")\n",
    "    {\n",
    "     GivenTopicCities <-intFedTopicIdCity %>% filter(Topic %in% TopicNames) %>% \n",
    "    filter(TopicProportion > 0.3)   %>% mutate(city = tokensLong) %>% select(-tokensLong) \n",
    "    GivenTopicCities <-  GivenTopicCities %>% left_join(IntegrumFiCities %>% mutate(Ru = tolower(Ru)), by = c(\"city\" = \"Ru\")) \n",
    "    GivenTopicCities <-  GivenTopicCities %>% left_join(integrum  %>% select(id,year))\n",
    "      GivenTopicCities <-  GivenTopicCities %>% mutate(city=Fi)\n",
    "    print(paste(TopicName,CorpusName))\n",
    "     }\n",
    "if(CorpusName == \"yle\")\n",
    "    {\n",
    "     GivenTopicCities <- YleTopicIdCity %>% filter(Topic %in% TopicNames) %>% \n",
    "    filter(TopicProportion > 0.3)   %>% mutate(city = Ru) %>% select(-tokensLong) \n",
    "    GivenTopicCities <-  GivenTopicCities %>% left_join(yle %>% mutate(id = X)  %>% select(id,year)) \n",
    "     print(paste(TopicName,CorpusName))\n",
    "    }"
   ]
  },
  {
   "cell_type": "code",
   "execution_count": 162,
   "metadata": {},
   "outputs": [
    {
     "name": "stdout",
     "output_type": "stream",
     "text": [
      "'data.frame':\t1372770 obs. of  6 variables:\n",
      " $ id             : num  0 0 0 0 0 0 0 0 0 0 ...\n",
      " $ Topic          : chr  \"Topic1\" \"Topic1\" \"Topic1\" \"Topic1\" ...\n",
      " $ TopicProportion: chr  \"6.4256634169303e-06\" \"6.4256634169303e-06\" \"6.4256634169303e-06\" \"6.4256634169303e-06\" ...\n",
      " $ tokensLong     : chr  \"Vladimir\" \"Vladimir\" \"Moskova\" \"Moskova\" ...\n",
      " $ Fi             : chr  \"Vladimir\" \"Vladimir\" \"Moskova\" \"Moskova\" ...\n",
      " $ N              : num  1 1 1 1 1 1 1 1 1 1 ...\n"
     ]
    }
   ],
   "source": [
    "YleTopicIdCity %>% str"
   ]
  },
  {
   "cell_type": "code",
   "execution_count": 176,
   "metadata": {},
   "outputs": [],
   "source": [
    "GivenTopicCities <- GivenTopicCities %>% mutate(periods = cut(year,breaks = Periods)) \n",
    "CityPeriodFreq <- GivenTopicCities %>% group_by(city,periods) %>% summarise(CityFreq = n_distinct(id)) %>% \n",
    "arrange(city,periods)\n",
    "FiveYperiods <- sort(unique(CityPeriodFreq$periods))\n",
    "dir1 <- paste(\"Places/\",TopicName,CorpusName,Sys.time(),sep=\"\")\n",
    "dir.create(dir1)"
   ]
  },
  {
   "cell_type": "code",
   "execution_count": 177,
   "metadata": {},
   "outputs": [
    {
     "name": "stderr",
     "output_type": "stream",
     "text": [
      "Warning message in write.csv(CityPeriodFreq %>% filter(periods == FiveYperiods[i]), :\n",
      "“attempt to set 'col.names' ignored”Warning message in write.csv(CityPeriodFreq %>% filter(periods == FiveYperiods[i]), :\n",
      "“attempt to set 'col.names' ignored”Warning message in write.csv(CityPeriodFreq %>% filter(periods == FiveYperiods[i]), :\n",
      "“attempt to set 'col.names' ignored”Warning message in write.csv(CityPeriodFreq %>% filter(periods == FiveYperiods[i]), :\n",
      "“attempt to set 'col.names' ignored”"
     ]
    }
   ],
   "source": [
    "for(i in 1:length(FiveYperiods))\n",
    "    {\n",
    "    filenam <-  file.path(dir1,paste(TopicName,CorpusName,FiveYperiods[i],\".csv\",sep=\"\"))\n",
    "    write.csv(CityPeriodFreq %>% filter(periods==FiveYperiods[i]),file = filenam, row.names = F,\n",
    "          col.names = F)\n",
    "    }"
   ]
  },
  {
   "cell_type": "code",
   "execution_count": null,
   "metadata": {},
   "outputs": [],
   "source": []
  }
 ],
 "metadata": {
  "kernelspec": {
   "display_name": "R",
   "language": "R",
   "name": "ir"
  },
  "language_info": {
   "codemirror_mode": "r",
   "file_extension": ".r",
   "mimetype": "text/x-r-source",
   "name": "R",
   "pygments_lexer": "r",
   "version": "3.4.4"
  }
 },
 "nbformat": 4,
 "nbformat_minor": 2
}
